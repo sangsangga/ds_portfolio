{
 "cells": [
  {
   "cell_type": "code",
   "execution_count": 1,
   "metadata": {},
   "outputs": [],
   "source": [
    "import numpy as np\n",
    "import pandas as pd"
   ]
  },
  {
   "cell_type": "code",
   "execution_count": 2,
   "metadata": {},
   "outputs": [],
   "source": [
    "df_amazon = pd.read_csv(\"dataset/amazon.csv\",encoding='latin1')"
   ]
  },
  {
   "cell_type": "markdown",
   "execution_count": null,
   "metadata": {},
   "outputs": [],
   "source": [
    "# Explore Data"
   ]
  },
  {
   "cell_type": "code",
   "execution_count": 11,
   "metadata": {},
   "outputs": [
    {
     "data": {
      "text/html": "<div>\n<style scoped>\n    .dataframe tbody tr th:only-of-type {\n        vertical-align: middle;\n    }\n\n    .dataframe tbody tr th {\n        vertical-align: top;\n    }\n\n    .dataframe thead th {\n        text-align: right;\n    }\n</style>\n<table border=\"1\" class=\"dataframe\">\n  <thead>\n    <tr style=\"text-align: right;\">\n      <th></th>\n      <th>year</th>\n      <th>state</th>\n      <th>month</th>\n      <th>number</th>\n      <th>date</th>\n    </tr>\n  </thead>\n  <tbody>\n    <tr>\n      <th>429</th>\n      <td>2007</td>\n      <td>Alagoas</td>\n      <td>Outubro</td>\n      <td>6.000</td>\n      <td>2007-01-01</td>\n    </tr>\n    <tr>\n      <th>615</th>\n      <td>2014</td>\n      <td>Amapa</td>\n      <td>Julho</td>\n      <td>4.000</td>\n      <td>2014-01-01</td>\n    </tr>\n    <tr>\n      <th>3382</th>\n      <td>2013</td>\n      <td>Paraiba</td>\n      <td>Fevereiro</td>\n      <td>9.000</td>\n      <td>2013-01-01</td>\n    </tr>\n    <tr>\n      <th>1442</th>\n      <td>2005</td>\n      <td>Distrito Federal</td>\n      <td>Janeiro</td>\n      <td>0.000</td>\n      <td>2005-01-01</td>\n    </tr>\n    <tr>\n      <th>5786</th>\n      <td>2007</td>\n      <td>Sao Paulo</td>\n      <td>Março</td>\n      <td>152.000</td>\n      <td>2007-01-01</td>\n    </tr>\n    <tr>\n      <th>5827</th>\n      <td>2008</td>\n      <td>Sao Paulo</td>\n      <td>Maio</td>\n      <td>40.000</td>\n      <td>2008-01-01</td>\n    </tr>\n    <tr>\n      <th>3266</th>\n      <td>2016</td>\n      <td>Pará</td>\n      <td>Agosto</td>\n      <td>4.863</td>\n      <td>2016-01-01</td>\n    </tr>\n    <tr>\n      <th>4040</th>\n      <td>2013</td>\n      <td>Pernambuco</td>\n      <td>Novembro</td>\n      <td>110.000</td>\n      <td>2013-01-01</td>\n    </tr>\n    <tr>\n      <th>3630</th>\n      <td>2002</td>\n      <td>Paraiba</td>\n      <td>Março</td>\n      <td>18.000</td>\n      <td>2002-01-01</td>\n    </tr>\n    <tr>\n      <th>2488</th>\n      <td>2015</td>\n      <td>Mato Grosso</td>\n      <td>Maio</td>\n      <td>541.000</td>\n      <td>2015-01-01</td>\n    </tr>\n    <tr>\n      <th>1746</th>\n      <td>2010</td>\n      <td>Espirito Santo</td>\n      <td>Abril</td>\n      <td>7.000</td>\n      <td>2010-01-01</td>\n    </tr>\n    <tr>\n      <th>2626</th>\n      <td>2013</td>\n      <td>Mato Grosso</td>\n      <td>Dezembro</td>\n      <td>447.000</td>\n      <td>2013-01-01</td>\n    </tr>\n    <tr>\n      <th>405</th>\n      <td>2003</td>\n      <td>Alagoas</td>\n      <td>Setembro</td>\n      <td>8.000</td>\n      <td>2003-01-01</td>\n    </tr>\n    <tr>\n      <th>6238</th>\n      <td>2001</td>\n      <td>Tocantins</td>\n      <td>Fevereiro</td>\n      <td>6.000</td>\n      <td>2001-01-01</td>\n    </tr>\n    <tr>\n      <th>1233</th>\n      <td>2015</td>\n      <td>Ceara</td>\n      <td>Fevereiro</td>\n      <td>25.000</td>\n      <td>2015-01-01</td>\n    </tr>\n    <tr>\n      <th>609</th>\n      <td>2008</td>\n      <td>Amapa</td>\n      <td>Julho</td>\n      <td>0.000</td>\n      <td>2008-01-01</td>\n    </tr>\n    <tr>\n      <th>1385</th>\n      <td>2007</td>\n      <td>Ceara</td>\n      <td>Outubro</td>\n      <td>964.000</td>\n      <td>2007-01-01</td>\n    </tr>\n    <tr>\n      <th>664</th>\n      <td>2003</td>\n      <td>Amapa</td>\n      <td>Outubro</td>\n      <td>355.000</td>\n      <td>2003-01-01</td>\n    </tr>\n    <tr>\n      <th>2150</th>\n      <td>2015</td>\n      <td>Goias</td>\n      <td>Dezembro</td>\n      <td>179.000</td>\n      <td>2015-01-01</td>\n    </tr>\n    <tr>\n      <th>4184</th>\n      <td>1998</td>\n      <td>Piau</td>\n      <td>Julho</td>\n      <td>189.000</td>\n      <td>1998-01-01</td>\n    </tr>\n    <tr>\n      <th>941</th>\n      <td>2001</td>\n      <td>Amazonas</td>\n      <td>Dezembro</td>\n      <td>22.000</td>\n      <td>2001-01-01</td>\n    </tr>\n    <tr>\n      <th>4512</th>\n      <td>2007</td>\n      <td>Rio</td>\n      <td>Novembro</td>\n      <td>1.000</td>\n      <td>2007-01-01</td>\n    </tr>\n    <tr>\n      <th>5598</th>\n      <td>1998</td>\n      <td>Santa Catarina</td>\n      <td>Junho</td>\n      <td>2.000</td>\n      <td>1998-01-01</td>\n    </tr>\n    <tr>\n      <th>5077</th>\n      <td>2015</td>\n      <td>Rondonia</td>\n      <td>Março</td>\n      <td>15.000</td>\n      <td>2015-01-01</td>\n    </tr>\n    <tr>\n      <th>4435</th>\n      <td>2010</td>\n      <td>Rio</td>\n      <td>Julho</td>\n      <td>55.000</td>\n      <td>2010-01-01</td>\n    </tr>\n    <tr>\n      <th>3967</th>\n      <td>2000</td>\n      <td>Pernambuco</td>\n      <td>Agosto</td>\n      <td>31.000</td>\n      <td>2000-01-01</td>\n    </tr>\n    <tr>\n      <th>5076</th>\n      <td>2014</td>\n      <td>Rondonia</td>\n      <td>Março</td>\n      <td>13.000</td>\n      <td>2014-01-01</td>\n    </tr>\n    <tr>\n      <th>849</th>\n      <td>2009</td>\n      <td>Amazonas</td>\n      <td>Julho</td>\n      <td>199.000</td>\n      <td>2009-01-01</td>\n    </tr>\n    <tr>\n      <th>890</th>\n      <td>2010</td>\n      <td>Amazonas</td>\n      <td>Setembro</td>\n      <td>2.781</td>\n      <td>2010-01-01</td>\n    </tr>\n    <tr>\n      <th>2729</th>\n      <td>2017</td>\n      <td>Mato Grosso</td>\n      <td>Maio</td>\n      <td>72.000</td>\n      <td>2017-01-01</td>\n    </tr>\n    <tr>\n      <th>6315</th>\n      <td>1998</td>\n      <td>Tocantins</td>\n      <td>Junho</td>\n      <td>252.000</td>\n      <td>1998-01-01</td>\n    </tr>\n    <tr>\n      <th>863</th>\n      <td>2003</td>\n      <td>Amazonas</td>\n      <td>Agosto</td>\n      <td>1.867</td>\n      <td>2003-01-01</td>\n    </tr>\n    <tr>\n      <th>2289</th>\n      <td>2015</td>\n      <td>Maranhao</td>\n      <td>Julho</td>\n      <td>1.642</td>\n      <td>2015-01-01</td>\n    </tr>\n    <tr>\n      <th>182</th>\n      <td>2000</td>\n      <td>Acre</td>\n      <td>Outubro</td>\n      <td>18.000</td>\n      <td>2000-01-01</td>\n    </tr>\n    <tr>\n      <th>409</th>\n      <td>2007</td>\n      <td>Alagoas</td>\n      <td>Setembro</td>\n      <td>2.000</td>\n      <td>2007-01-01</td>\n    </tr>\n    <tr>\n      <th>3855</th>\n      <td>2008</td>\n      <td>Pernambuco</td>\n      <td>Fevereiro</td>\n      <td>48.000</td>\n      <td>2008-01-01</td>\n    </tr>\n    <tr>\n      <th>5214</th>\n      <td>2012</td>\n      <td>Rondonia</td>\n      <td>Outubro</td>\n      <td>1.229</td>\n      <td>2012-01-01</td>\n    </tr>\n    <tr>\n      <th>5613</th>\n      <td>2013</td>\n      <td>Santa Catarina</td>\n      <td>Junho</td>\n      <td>31.000</td>\n      <td>2013-01-01</td>\n    </tr>\n    <tr>\n      <th>1065</th>\n      <td>2006</td>\n      <td>Bahia</td>\n      <td>Junho</td>\n      <td>68.000</td>\n      <td>2006-01-01</td>\n    </tr>\n    <tr>\n      <th>1542</th>\n      <td>2005</td>\n      <td>Distrito Federal</td>\n      <td>Junho</td>\n      <td>3.000</td>\n      <td>2005-01-01</td>\n    </tr>\n    <tr>\n      <th>2823</th>\n      <td>2011</td>\n      <td>Mato Grosso</td>\n      <td>Outubro</td>\n      <td>276.000</td>\n      <td>2011-01-01</td>\n    </tr>\n    <tr>\n      <th>2402</th>\n      <td>2009</td>\n      <td>Mato Grosso</td>\n      <td>Janeiro</td>\n      <td>527.000</td>\n      <td>2009-01-01</td>\n    </tr>\n    <tr>\n      <th>2331</th>\n      <td>2017</td>\n      <td>Maranhao</td>\n      <td>Setembro</td>\n      <td>14.825</td>\n      <td>2017-01-01</td>\n    </tr>\n    <tr>\n      <th>4464</th>\n      <td>1999</td>\n      <td>Rio</td>\n      <td>Setembro</td>\n      <td>192.000</td>\n      <td>1999-01-01</td>\n    </tr>\n    <tr>\n      <th>637</th>\n      <td>2016</td>\n      <td>Amapa</td>\n      <td>Agosto</td>\n      <td>37.000</td>\n      <td>2016-01-01</td>\n    </tr>\n    <tr>\n      <th>591</th>\n      <td>2010</td>\n      <td>Amapa</td>\n      <td>Junho</td>\n      <td>0.000</td>\n      <td>2010-01-01</td>\n    </tr>\n    <tr>\n      <th>2167</th>\n      <td>2013</td>\n      <td>Maranhao</td>\n      <td>Janeiro</td>\n      <td>209.000</td>\n      <td>2013-01-01</td>\n    </tr>\n    <tr>\n      <th>2062</th>\n      <td>2007</td>\n      <td>Goias</td>\n      <td>Agosto</td>\n      <td>2.382</td>\n      <td>2007-01-01</td>\n    </tr>\n    <tr>\n      <th>4278</th>\n      <td>2012</td>\n      <td>Piau</td>\n      <td>Novembro</td>\n      <td>447.000</td>\n      <td>2012-01-01</td>\n    </tr>\n    <tr>\n      <th>5483</th>\n      <td>2002</td>\n      <td>Roraima</td>\n      <td>Dezembro</td>\n      <td>199.000</td>\n      <td>2002-01-01</td>\n    </tr>\n  </tbody>\n</table>\n</div>",
      "text/plain": "      year             state      month   number        date\n429   2007           Alagoas    Outubro    6.000  2007-01-01\n615   2014             Amapa      Julho    4.000  2014-01-01\n3382  2013           Paraiba  Fevereiro    9.000  2013-01-01\n1442  2005  Distrito Federal    Janeiro    0.000  2005-01-01\n5786  2007         Sao Paulo      Março  152.000  2007-01-01\n5827  2008         Sao Paulo       Maio   40.000  2008-01-01\n3266  2016              Pará     Agosto    4.863  2016-01-01\n4040  2013        Pernambuco   Novembro  110.000  2013-01-01\n3630  2002           Paraiba      Março   18.000  2002-01-01\n2488  2015       Mato Grosso       Maio  541.000  2015-01-01\n1746  2010    Espirito Santo      Abril    7.000  2010-01-01\n2626  2013       Mato Grosso   Dezembro  447.000  2013-01-01\n405   2003           Alagoas   Setembro    8.000  2003-01-01\n6238  2001         Tocantins  Fevereiro    6.000  2001-01-01\n1233  2015             Ceara  Fevereiro   25.000  2015-01-01\n609   2008             Amapa      Julho    0.000  2008-01-01\n1385  2007             Ceara    Outubro  964.000  2007-01-01\n664   2003             Amapa    Outubro  355.000  2003-01-01\n2150  2015             Goias   Dezembro  179.000  2015-01-01\n4184  1998              Piau      Julho  189.000  1998-01-01\n941   2001          Amazonas   Dezembro   22.000  2001-01-01\n4512  2007               Rio   Novembro    1.000  2007-01-01\n5598  1998    Santa Catarina      Junho    2.000  1998-01-01\n5077  2015          Rondonia      Março   15.000  2015-01-01\n4435  2010               Rio      Julho   55.000  2010-01-01\n3967  2000        Pernambuco     Agosto   31.000  2000-01-01\n5076  2014          Rondonia      Março   13.000  2014-01-01\n849   2009          Amazonas      Julho  199.000  2009-01-01\n890   2010          Amazonas   Setembro    2.781  2010-01-01\n2729  2017       Mato Grosso       Maio   72.000  2017-01-01\n6315  1998         Tocantins      Junho  252.000  1998-01-01\n863   2003          Amazonas     Agosto    1.867  2003-01-01\n2289  2015          Maranhao      Julho    1.642  2015-01-01\n182   2000              Acre    Outubro   18.000  2000-01-01\n409   2007           Alagoas   Setembro    2.000  2007-01-01\n3855  2008        Pernambuco  Fevereiro   48.000  2008-01-01\n5214  2012          Rondonia    Outubro    1.229  2012-01-01\n5613  2013    Santa Catarina      Junho   31.000  2013-01-01\n1065  2006             Bahia      Junho   68.000  2006-01-01\n1542  2005  Distrito Federal      Junho    3.000  2005-01-01\n2823  2011       Mato Grosso    Outubro  276.000  2011-01-01\n2402  2009       Mato Grosso    Janeiro  527.000  2009-01-01\n2331  2017          Maranhao   Setembro   14.825  2017-01-01\n4464  1999               Rio   Setembro  192.000  1999-01-01\n637   2016             Amapa     Agosto   37.000  2016-01-01\n591   2010             Amapa      Junho    0.000  2010-01-01\n2167  2013          Maranhao    Janeiro  209.000  2013-01-01\n2062  2007             Goias     Agosto    2.382  2007-01-01\n4278  2012              Piau   Novembro  447.000  2012-01-01\n5483  2002           Roraima   Dezembro  199.000  2002-01-01"
     },
     "execution_count": 11,
     "metadata": {},
     "output_type": "execute_result"
    }
   ],
   "source": [
    "df_amazon.sample(50)"
   ]
  },
  {
   "cell_type": "code",
   "execution_count": 4,
   "metadata": {},
   "outputs": [
    {
     "data": {
      "text/html": "<div>\n<style scoped>\n    .dataframe tbody tr th:only-of-type {\n        vertical-align: middle;\n    }\n\n    .dataframe tbody tr th {\n        vertical-align: top;\n    }\n\n    .dataframe thead th {\n        text-align: right;\n    }\n</style>\n<table border=\"1\" class=\"dataframe\">\n  <thead>\n    <tr style=\"text-align: right;\">\n      <th></th>\n      <th>year</th>\n      <th>number</th>\n    </tr>\n  </thead>\n  <tbody>\n    <tr>\n      <th>count</th>\n      <td>6454.000000</td>\n      <td>6454.000000</td>\n    </tr>\n    <tr>\n      <th>mean</th>\n      <td>2007.461729</td>\n      <td>108.293163</td>\n    </tr>\n    <tr>\n      <th>std</th>\n      <td>5.746654</td>\n      <td>190.812242</td>\n    </tr>\n    <tr>\n      <th>min</th>\n      <td>1998.000000</td>\n      <td>0.000000</td>\n    </tr>\n    <tr>\n      <th>25%</th>\n      <td>2002.000000</td>\n      <td>3.000000</td>\n    </tr>\n    <tr>\n      <th>50%</th>\n      <td>2007.000000</td>\n      <td>24.000000</td>\n    </tr>\n    <tr>\n      <th>75%</th>\n      <td>2012.000000</td>\n      <td>113.000000</td>\n    </tr>\n    <tr>\n      <th>max</th>\n      <td>2017.000000</td>\n      <td>998.000000</td>\n    </tr>\n  </tbody>\n</table>\n</div>",
      "text/plain": "              year       number\ncount  6454.000000  6454.000000\nmean   2007.461729   108.293163\nstd       5.746654   190.812242\nmin    1998.000000     0.000000\n25%    2002.000000     3.000000\n50%    2007.000000    24.000000\n75%    2012.000000   113.000000\nmax    2017.000000   998.000000"
     },
     "execution_count": 4,
     "metadata": {},
     "output_type": "execute_result"
    }
   ],
   "source": [
    "df_amazon.describe()"
   ]
  },
  {
   "cell_type": "code",
   "execution_count": 5,
   "metadata": {},
   "outputs": [
    {
     "data": {
      "text/plain": "Janeiro      541\nOutubro      540\nJulho        540\nMaio         540\nAgosto       540\nFevereiro    540\nJunho        540\nMarço        540\nAbril        540\nSetembro     540\nNovembro     540\nDezembro     513\nName: month, dtype: int64"
     },
     "execution_count": 5,
     "metadata": {},
     "output_type": "execute_result"
    }
   ],
   "source": [
    "df_amazon.month.value_counts()"
   ]
  },
  {
   "cell_type": "code",
   "execution_count": 6,
   "metadata": {},
   "outputs": [
    {
     "data": {
      "text/plain": "Rio                 717\nParaiba             478\nMato Grosso         478\nAlagoas             240\nAmazonas            239\nSergipe             239\nTocantins           239\nSanta Catarina      239\nAcre                239\nRondonia            239\nMaranhao            239\nAmapa               239\nEspirito Santo      239\nCeara               239\nGoias               239\nPará                239\nMinas Gerais        239\nSao Paulo           239\nPiau                239\nBahia               239\nRoraima             239\nPernambuco          239\nDistrito Federal    239\nName: state, dtype: int64"
     },
     "execution_count": 6,
     "metadata": {},
     "output_type": "execute_result"
    }
   ],
   "source": [
    "df_amazon.state.value_counts()"
   ]
  },
  {
   "cell_type": "code",
   "execution_count": 7,
   "metadata": {},
   "outputs": [
    {
     "name": "stdout",
     "output_type": "stream",
     "text": "<class 'pandas.core.frame.DataFrame'>\nRangeIndex: 6454 entries, 0 to 6453\nData columns (total 5 columns):\nyear      6454 non-null int64\nstate     6454 non-null object\nmonth     6454 non-null object\nnumber    6454 non-null float64\ndate      6454 non-null object\ndtypes: float64(1), int64(1), object(3)\nmemory usage: 252.2+ KB\n"
    }
   ],
   "source": [
    "df_amazon.info()"
   ]
  },
  {
   "cell_type": "code",
   "execution_count": 22,
   "metadata": {},
   "outputs": [
    {
     "data": {
      "text/plain": "<matplotlib.axes._subplots.AxesSubplot at 0x11e8876d8>"
     },
     "execution_count": 22,
     "metadata": {},
     "output_type": "execute_result"
    },
    {
     "data": {
      "image/png": "[encoded data removed]",
      "image/svg+xml": "<?xml version=\"1.0\" encoding=\"utf-8\" standalone=\"no\"?>\n<!DOCTYPE svg PUBLIC \"-//W3C//DTD SVG 1.1//EN\"\n  \"http://www.w3.org/Graphics/SVG/1.1/DTD/svg11.dtd\">\n<!-- Created with matplotlib (http://matplotlib.org/) -->\n<svg height=\"252.018125pt\" version=\"1.1\" viewBox=\"0 0 398.828125 252.018125\" width=\"398.828125pt\" xmlns=\"http://www.w3.org/2000/svg\" xmlns:xlink=\"http://www.w3.org/1999/xlink\">\n <defs>\n  <style type=\"text/css\">\n*{stroke-linecap:butt;stroke-linejoin:round;}\n  </style>\n </defs>\n <g id=\"figure_1\">\n  <g id=\"patch_1\">\n   <path d=\"M 0 252.018125 \nL 398.828125 252.018125 \nL 398.828125 0 \nL 0 0 \nz\n\" style=\"fill:none;\"/>\n  </g>\n  <g id=\"axes_1\">\n   <g id=\"patch_2\">\n    <path d=\"M 53.328125 228.14 \nL 388.128125 228.14 \nL 388.128125 10.7 \nL 53.328125 10.7 \nz\n\" style=\"fill:#ffffff;\"/>\n   </g>\n   <g id=\"patch_3\">\n    <path clip-path=\"url(#pd6015d5b08)\" d=\"M 68.546307 228.14 \nL 98.98267 228.14 \nL 98.98267 21.054286 \nL 68.546307 21.054286 \nz\n\" style=\"fill:#1f77b4;\"/>\n   </g>\n   <g id=\"patch_4\">\n    <path clip-path=\"url(#pd6015d5b08)\" d=\"M 98.98267 228.14 \nL 129.419034 228.14 \nL 129.419034 197.222482 \nL 98.98267 197.222482 \nz\n\" style=\"fill:#1f77b4;\"/>\n   </g>\n   <g id=\"patch_5\">\n    <path clip-path=\"url(#pd6015d5b08)\" d=\"M 129.419034 228.14 \nL 159.855398 228.14 \nL 159.855398 215.147596 \nL 129.419034 215.147596 \nz\n\" style=\"fill:#1f77b4;\"/>\n   </g>\n   <g id=\"patch_6\">\n    <path clip-path=\"url(#pd6015d5b08)\" d=\"M 159.855398 228.14 \nL 190.291761 228.14 \nL 190.291761 219.463716 \nL 159.855398 219.463716 \nz\n\" style=\"fill:#1f77b4;\"/>\n   </g>\n   <g id=\"patch_7\">\n    <path clip-path=\"url(#pd6015d5b08)\" d=\"M 190.291761 228.14 \nL 220.728125 228.14 \nL 220.728125 221.313482 \nL 190.291761 221.313482 \nz\n\" style=\"fill:#1f77b4;\"/>\n   </g>\n   <g id=\"patch_8\">\n    <path clip-path=\"url(#pd6015d5b08)\" d=\"M 220.728125 228.14 \nL 251.164489 228.14 \nL 251.164489 223.295375 \nL 220.728125 223.295375 \nz\n\" style=\"fill:#1f77b4;\"/>\n   </g>\n   <g id=\"patch_9\">\n    <path clip-path=\"url(#pd6015d5b08)\" d=\"M 251.164489 228.14 \nL 281.600852 228.14 \nL 281.600852 224.2643 \nL 251.164489 224.2643 \nz\n\" style=\"fill:#1f77b4;\"/>\n   </g>\n   <g id=\"patch_10\">\n    <path clip-path=\"url(#pd6015d5b08)\" d=\"M 281.600852 228.14 \nL 312.037216 228.14 \nL 312.037216 225.145141 \nL 281.600852 225.145141 \nz\n\" style=\"fill:#1f77b4;\"/>\n   </g>\n   <g id=\"patch_11\">\n    <path clip-path=\"url(#pd6015d5b08)\" d=\"M 312.037216 228.14 \nL 342.47358 228.14 \nL 342.47358 225.013015 \nL 312.037216 225.013015 \nz\n\" style=\"fill:#1f77b4;\"/>\n   </g>\n   <g id=\"patch_12\">\n    <path clip-path=\"url(#pd6015d5b08)\" d=\"M 342.47358 228.14 \nL 372.909943 228.14 \nL 372.909943 225.233225 \nL 342.47358 225.233225 \nz\n\" style=\"fill:#1f77b4;\"/>\n   </g>\n   <g id=\"matplotlib.axis_1\">\n    <g id=\"xtick_1\">\n     <g id=\"line2d_1\">\n      <defs>\n       <path d=\"M 0 0 \nL 0 3.5 \n\" id=\"mbf575d70cc\" style=\"stroke:#000000;stroke-width:0.8;\"/>\n      </defs>\n      <g>\n       <use style=\"stroke:#000000;stroke-width:0.8;\" x=\"68.546307\" xlink:href=\"#mbf575d70cc\" y=\"228.14\"/>\n      </g>\n     </g>\n     <g id=\"text_1\">\n      <!-- 0 -->\n      <defs>\n       <path d=\"M 31.78125 66.40625 \nQ 24.171875 66.40625 20.328125 58.90625 \nQ 16.5 51.421875 16.5 36.375 \nQ 16.5 21.390625 20.328125 13.890625 \nQ 24.171875 6.390625 31.78125 6.390625 \nQ 39.453125 6.390625 43.28125 13.890625 \nQ 47.125 21.390625 47.125 36.375 \nQ 47.125 51.421875 43.28125 58.90625 \nQ 39.453125 66.40625 31.78125 66.40625 \nz\nM 31.78125 74.21875 \nQ 44.046875 74.21875 50.515625 64.515625 \nQ 56.984375 54.828125 56.984375 36.375 \nQ 56.984375 17.96875 50.515625 8.265625 \nQ 44.046875 -1.421875 31.78125 -1.421875 \nQ 19.53125 -1.421875 13.0625 8.265625 \nQ 6.59375 17.96875 6.59375 36.375 \nQ 6.59375 54.828125 13.0625 64.515625 \nQ 19.53125 74.21875 31.78125 74.21875 \nz\n\" id=\"DejaVuSans-30\"/>\n      </defs>\n      <g transform=\"translate(65.365057 242.738437)scale(0.1 -0.1)\">\n       <use xlink:href=\"#DejaVuSans-30\"/>\n      </g>\n     </g>\n    </g>\n    <g id=\"xtick_2\">\n     <g id=\"line2d_2\">\n      <g>\n       <use style=\"stroke:#000000;stroke-width:0.8;\" x=\"129.541024\" xlink:href=\"#mbf575d70cc\" y=\"228.14\"/>\n      </g>\n     </g>\n     <g id=\"text_2\">\n      <!-- 200 -->\n      <defs>\n       <path d=\"M 19.1875 8.296875 \nL 53.609375 8.296875 \nL 53.609375 0 \nL 7.328125 0 \nL 7.328125 8.296875 \nQ 12.9375 14.109375 22.625 23.890625 \nQ 32.328125 33.6875 34.8125 36.53125 \nQ 39.546875 41.84375 41.421875 45.53125 \nQ 43.3125 49.21875 43.3125 52.78125 \nQ 43.3125 58.59375 39.234375 62.25 \nQ 35.15625 65.921875 28.609375 65.921875 \nQ 23.96875 65.921875 18.8125 64.3125 \nQ 13.671875 62.703125 7.8125 59.421875 \nL 7.8125 69.390625 \nQ 13.765625 71.78125 18.9375 73 \nQ 24.125 74.21875 28.421875 74.21875 \nQ 39.75 74.21875 46.484375 68.546875 \nQ 53.21875 62.890625 53.21875 53.421875 \nQ 53.21875 48.921875 51.53125 44.890625 \nQ 49.859375 40.875 45.40625 35.40625 \nQ 44.1875 33.984375 37.640625 27.21875 \nQ 31.109375 20.453125 19.1875 8.296875 \nz\n\" id=\"DejaVuSans-32\"/>\n      </defs>\n      <g transform=\"translate(119.997274 242.738437)scale(0.1 -0.1)\">\n       <use xlink:href=\"#DejaVuSans-32\"/>\n       <use x=\"63.623047\" xlink:href=\"#DejaVuSans-30\"/>\n       <use x=\"127.246094\" xlink:href=\"#DejaVuSans-30\"/>\n      </g>\n     </g>\n    </g>\n    <g id=\"xtick_3\">\n     <g id=\"line2d_3\">\n      <g>\n       <use style=\"stroke:#000000;stroke-width:0.8;\" x=\"190.53574\" xlink:href=\"#mbf575d70cc\" y=\"228.14\"/>\n      </g>\n     </g>\n     <g id=\"text_3\">\n      <!-- 400 -->\n      <defs>\n       <path d=\"M 37.796875 64.3125 \nL 12.890625 25.390625 \nL 37.796875 25.390625 \nz\nM 35.203125 72.90625 \nL 47.609375 72.90625 \nL 47.609375 25.390625 \nL 58.015625 25.390625 \nL 58.015625 17.1875 \nL 47.609375 17.1875 \nL 47.609375 0 \nL 37.796875 0 \nL 37.796875 17.1875 \nL 4.890625 17.1875 \nL 4.890625 26.703125 \nz\n\" id=\"DejaVuSans-34\"/>\n      </defs>\n      <g transform=\"translate(180.99199 242.738437)scale(0.1 -0.1)\">\n       <use xlink:href=\"#DejaVuSans-34\"/>\n       <use x=\"63.623047\" xlink:href=\"#DejaVuSans-30\"/>\n       <use x=\"127.246094\" xlink:href=\"#DejaVuSans-30\"/>\n      </g>\n     </g>\n    </g>\n    <g id=\"xtick_4\">\n     <g id=\"line2d_4\">\n      <g>\n       <use style=\"stroke:#000000;stroke-width:0.8;\" x=\"251.530457\" xlink:href=\"#mbf575d70cc\" y=\"228.14\"/>\n      </g>\n     </g>\n     <g id=\"text_4\">\n      <!-- 600 -->\n      <defs>\n       <path d=\"M 33.015625 40.375 \nQ 26.375 40.375 22.484375 35.828125 \nQ 18.609375 31.296875 18.609375 23.390625 \nQ 18.609375 15.53125 22.484375 10.953125 \nQ 26.375 6.390625 33.015625 6.390625 \nQ 39.65625 6.390625 43.53125 10.953125 \nQ 47.40625 15.53125 47.40625 23.390625 \nQ 47.40625 31.296875 43.53125 35.828125 \nQ 39.65625 40.375 33.015625 40.375 \nz\nM 52.59375 71.296875 \nL 52.59375 62.3125 \nQ 48.875 64.0625 45.09375 64.984375 \nQ 41.3125 65.921875 37.59375 65.921875 \nQ 27.828125 65.921875 22.671875 59.328125 \nQ 17.53125 52.734375 16.796875 39.40625 \nQ 19.671875 43.65625 24.015625 45.921875 \nQ 28.375 48.1875 33.59375 48.1875 \nQ 44.578125 48.1875 50.953125 41.515625 \nQ 57.328125 34.859375 57.328125 23.390625 \nQ 57.328125 12.15625 50.6875 5.359375 \nQ 44.046875 -1.421875 33.015625 -1.421875 \nQ 20.359375 -1.421875 13.671875 8.265625 \nQ 6.984375 17.96875 6.984375 36.375 \nQ 6.984375 53.65625 15.1875 63.9375 \nQ 23.390625 74.21875 37.203125 74.21875 \nQ 40.921875 74.21875 44.703125 73.484375 \nQ 48.484375 72.75 52.59375 71.296875 \nz\n\" id=\"DejaVuSans-36\"/>\n      </defs>\n      <g transform=\"translate(241.986707 242.738437)scale(0.1 -0.1)\">\n       <use xlink:href=\"#DejaVuSans-36\"/>\n       <use x=\"63.623047\" xlink:href=\"#DejaVuSans-30\"/>\n       <use x=\"127.246094\" xlink:href=\"#DejaVuSans-30\"/>\n      </g>\n     </g>\n    </g>\n    <g id=\"xtick_5\">\n     <g id=\"line2d_5\">\n      <g>\n       <use style=\"stroke:#000000;stroke-width:0.8;\" x=\"312.525174\" xlink:href=\"#mbf575d70cc\" y=\"228.14\"/>\n      </g>\n     </g>\n     <g id=\"text_5\">\n      <!-- 800 -->\n      <defs>\n       <path d=\"M 31.78125 34.625 \nQ 24.75 34.625 20.71875 30.859375 \nQ 16.703125 27.09375 16.703125 20.515625 \nQ 16.703125 13.921875 20.71875 10.15625 \nQ 24.75 6.390625 31.78125 6.390625 \nQ 38.8125 6.390625 42.859375 10.171875 \nQ 46.921875 13.96875 46.921875 20.515625 \nQ 46.921875 27.09375 42.890625 30.859375 \nQ 38.875 34.625 31.78125 34.625 \nz\nM 21.921875 38.8125 \nQ 15.578125 40.375 12.03125 44.71875 \nQ 8.5 49.078125 8.5 55.328125 \nQ 8.5 64.0625 14.71875 69.140625 \nQ 20.953125 74.21875 31.78125 74.21875 \nQ 42.671875 74.21875 48.875 69.140625 \nQ 55.078125 64.0625 55.078125 55.328125 \nQ 55.078125 49.078125 51.53125 44.71875 \nQ 48 40.375 41.703125 38.8125 \nQ 48.828125 37.15625 52.796875 32.3125 \nQ 56.78125 27.484375 56.78125 20.515625 \nQ 56.78125 9.90625 50.3125 4.234375 \nQ 43.84375 -1.421875 31.78125 -1.421875 \nQ 19.734375 -1.421875 13.25 4.234375 \nQ 6.78125 9.90625 6.78125 20.515625 \nQ 6.78125 27.484375 10.78125 32.3125 \nQ 14.796875 37.15625 21.921875 38.8125 \nz\nM 18.3125 54.390625 \nQ 18.3125 48.734375 21.84375 45.5625 \nQ 25.390625 42.390625 31.78125 42.390625 \nQ 38.140625 42.390625 41.71875 45.5625 \nQ 45.3125 48.734375 45.3125 54.390625 \nQ 45.3125 60.0625 41.71875 63.234375 \nQ 38.140625 66.40625 31.78125 66.40625 \nQ 25.390625 66.40625 21.84375 63.234375 \nQ 18.3125 60.0625 18.3125 54.390625 \nz\n\" id=\"DejaVuSans-38\"/>\n      </defs>\n      <g transform=\"translate(302.981424 242.738437)scale(0.1 -0.1)\">\n       <use xlink:href=\"#DejaVuSans-38\"/>\n       <use x=\"63.623047\" xlink:href=\"#DejaVuSans-30\"/>\n       <use x=\"127.246094\" xlink:href=\"#DejaVuSans-30\"/>\n      </g>\n     </g>\n    </g>\n    <g id=\"xtick_6\">\n     <g id=\"line2d_6\">\n      <g>\n       <use style=\"stroke:#000000;stroke-width:0.8;\" x=\"373.51989\" xlink:href=\"#mbf575d70cc\" y=\"228.14\"/>\n      </g>\n     </g>\n     <g id=\"text_6\">\n      <!-- 1000 -->\n      <defs>\n       <path d=\"M 12.40625 8.296875 \nL 28.515625 8.296875 \nL 28.515625 63.921875 \nL 10.984375 60.40625 \nL 10.984375 69.390625 \nL 28.421875 72.90625 \nL 38.28125 72.90625 \nL 38.28125 8.296875 \nL 54.390625 8.296875 \nL 54.390625 0 \nL 12.40625 0 \nz\n\" id=\"DejaVuSans-31\"/>\n      </defs>\n      <g transform=\"translate(360.79489 242.738437)scale(0.1 -0.1)\">\n       <use xlink:href=\"#DejaVuSans-31\"/>\n       <use x=\"63.623047\" xlink:href=\"#DejaVuSans-30\"/>\n       <use x=\"127.246094\" xlink:href=\"#DejaVuSans-30\"/>\n       <use x=\"190.869141\" xlink:href=\"#DejaVuSans-30\"/>\n      </g>\n     </g>\n    </g>\n   </g>\n   <g id=\"matplotlib.axis_2\">\n    <g id=\"ytick_1\">\n     <g id=\"line2d_7\">\n      <defs>\n       <path d=\"M 0 0 \nL -3.5 0 \n\" id=\"m9167b41bc5\" style=\"stroke:#000000;stroke-width:0.8;\"/>\n      </defs>\n      <g>\n       <use style=\"stroke:#000000;stroke-width:0.8;\" x=\"53.328125\" xlink:href=\"#m9167b41bc5\" y=\"228.14\"/>\n      </g>\n     </g>\n     <g id=\"text_7\">\n      <!-- 0 -->\n      <g transform=\"translate(39.965625 231.939219)scale(0.1 -0.1)\">\n       <use xlink:href=\"#DejaVuSans-30\"/>\n      </g>\n     </g>\n    </g>\n    <g id=\"ytick_2\">\n     <g id=\"line2d_8\">\n      <g>\n       <use style=\"stroke:#000000;stroke-width:0.8;\" x=\"53.328125\" xlink:href=\"#m9167b41bc5\" y=\"184.097951\"/>\n      </g>\n     </g>\n     <g id=\"text_8\">\n      <!-- 1000 -->\n      <g transform=\"translate(20.878125 187.89717)scale(0.1 -0.1)\">\n       <use xlink:href=\"#DejaVuSans-31\"/>\n       <use x=\"63.623047\" xlink:href=\"#DejaVuSans-30\"/>\n       <use x=\"127.246094\" xlink:href=\"#DejaVuSans-30\"/>\n       <use x=\"190.869141\" xlink:href=\"#DejaVuSans-30\"/>\n      </g>\n     </g>\n    </g>\n    <g id=\"ytick_3\">\n     <g id=\"line2d_9\">\n      <g>\n       <use style=\"stroke:#000000;stroke-width:0.8;\" x=\"53.328125\" xlink:href=\"#m9167b41bc5\" y=\"140.055902\"/>\n      </g>\n     </g>\n     <g id=\"text_9\">\n      <!-- 2000 -->\n      <g transform=\"translate(20.878125 143.855121)scale(0.1 -0.1)\">\n       <use xlink:href=\"#DejaVuSans-32\"/>\n       <use x=\"63.623047\" xlink:href=\"#DejaVuSans-30\"/>\n       <use x=\"127.246094\" xlink:href=\"#DejaVuSans-30\"/>\n       <use x=\"190.869141\" xlink:href=\"#DejaVuSans-30\"/>\n      </g>\n     </g>\n    </g>\n    <g id=\"ytick_4\">\n     <g id=\"line2d_10\">\n      <g>\n       <use style=\"stroke:#000000;stroke-width:0.8;\" x=\"53.328125\" xlink:href=\"#m9167b41bc5\" y=\"96.013853\"/>\n      </g>\n     </g>\n     <g id=\"text_10\">\n      <!-- 3000 -->\n      <defs>\n       <path d=\"M 40.578125 39.3125 \nQ 47.65625 37.796875 51.625 33 \nQ 55.609375 28.21875 55.609375 21.1875 \nQ 55.609375 10.40625 48.1875 4.484375 \nQ 40.765625 -1.421875 27.09375 -1.421875 \nQ 22.515625 -1.421875 17.65625 -0.515625 \nQ 12.796875 0.390625 7.625 2.203125 \nL 7.625 11.71875 \nQ 11.71875 9.328125 16.59375 8.109375 \nQ 21.484375 6.890625 26.8125 6.890625 \nQ 36.078125 6.890625 40.9375 10.546875 \nQ 45.796875 14.203125 45.796875 21.1875 \nQ 45.796875 27.640625 41.28125 31.265625 \nQ 36.765625 34.90625 28.71875 34.90625 \nL 20.21875 34.90625 \nL 20.21875 43.015625 \nL 29.109375 43.015625 \nQ 36.375 43.015625 40.234375 45.921875 \nQ 44.09375 48.828125 44.09375 54.296875 \nQ 44.09375 59.90625 40.109375 62.90625 \nQ 36.140625 65.921875 28.71875 65.921875 \nQ 24.65625 65.921875 20.015625 65.03125 \nQ 15.375 64.15625 9.8125 62.3125 \nL 9.8125 71.09375 \nQ 15.4375 72.65625 20.34375 73.4375 \nQ 25.25 74.21875 29.59375 74.21875 \nQ 40.828125 74.21875 47.359375 69.109375 \nQ 53.90625 64.015625 53.90625 55.328125 \nQ 53.90625 49.265625 50.4375 45.09375 \nQ 46.96875 40.921875 40.578125 39.3125 \nz\n\" id=\"DejaVuSans-33\"/>\n      </defs>\n      <g transform=\"translate(20.878125 99.813072)scale(0.1 -0.1)\">\n       <use xlink:href=\"#DejaVuSans-33\"/>\n       <use x=\"63.623047\" xlink:href=\"#DejaVuSans-30\"/>\n       <use x=\"127.246094\" xlink:href=\"#DejaVuSans-30\"/>\n       <use x=\"190.869141\" xlink:href=\"#DejaVuSans-30\"/>\n      </g>\n     </g>\n    </g>\n    <g id=\"ytick_5\">\n     <g id=\"line2d_11\">\n      <g>\n       <use style=\"stroke:#000000;stroke-width:0.8;\" x=\"53.328125\" xlink:href=\"#m9167b41bc5\" y=\"51.971804\"/>\n      </g>\n     </g>\n     <g id=\"text_11\">\n      <!-- 4000 -->\n      <g transform=\"translate(20.878125 55.771023)scale(0.1 -0.1)\">\n       <use xlink:href=\"#DejaVuSans-34\"/>\n       <use x=\"63.623047\" xlink:href=\"#DejaVuSans-30\"/>\n       <use x=\"127.246094\" xlink:href=\"#DejaVuSans-30\"/>\n       <use x=\"190.869141\" xlink:href=\"#DejaVuSans-30\"/>\n      </g>\n     </g>\n    </g>\n    <g id=\"text_12\">\n     <!-- Frequency -->\n     <defs>\n      <path d=\"M 9.8125 72.90625 \nL 51.703125 72.90625 \nL 51.703125 64.59375 \nL 19.671875 64.59375 \nL 19.671875 43.109375 \nL 48.578125 43.109375 \nL 48.578125 34.8125 \nL 19.671875 34.8125 \nL 19.671875 0 \nL 9.8125 0 \nz\n\" id=\"DejaVuSans-46\"/>\n      <path d=\"M 41.109375 46.296875 \nQ 39.59375 47.171875 37.8125 47.578125 \nQ 36.03125 48 33.890625 48 \nQ 26.265625 48 22.1875 43.046875 \nQ 18.109375 38.09375 18.109375 28.8125 \nL 18.109375 0 \nL 9.078125 0 \nL 9.078125 54.6875 \nL 18.109375 54.6875 \nL 18.109375 46.1875 \nQ 20.953125 51.171875 25.484375 53.578125 \nQ 30.03125 56 36.53125 56 \nQ 37.453125 56 38.578125 55.875 \nQ 39.703125 55.765625 41.0625 55.515625 \nz\n\" id=\"DejaVuSans-72\"/>\n      <path d=\"M 56.203125 29.59375 \nL 56.203125 25.203125 \nL 14.890625 25.203125 \nQ 15.484375 15.921875 20.484375 11.0625 \nQ 25.484375 6.203125 34.421875 6.203125 \nQ 39.59375 6.203125 44.453125 7.46875 \nQ 49.3125 8.734375 54.109375 11.28125 \nL 54.109375 2.78125 \nQ 49.265625 0.734375 44.1875 -0.34375 \nQ 39.109375 -1.421875 33.890625 -1.421875 \nQ 20.796875 -1.421875 13.15625 6.1875 \nQ 5.515625 13.8125 5.515625 26.8125 \nQ 5.515625 40.234375 12.765625 48.109375 \nQ 20.015625 56 32.328125 56 \nQ 43.359375 56 49.78125 48.890625 \nQ 56.203125 41.796875 56.203125 29.59375 \nz\nM 47.21875 32.234375 \nQ 47.125 39.59375 43.09375 43.984375 \nQ 39.0625 48.390625 32.421875 48.390625 \nQ 24.90625 48.390625 20.390625 44.140625 \nQ 15.875 39.890625 15.1875 32.171875 \nz\n\" id=\"DejaVuSans-65\"/>\n      <path d=\"M 14.796875 27.296875 \nQ 14.796875 17.390625 18.875 11.75 \nQ 22.953125 6.109375 30.078125 6.109375 \nQ 37.203125 6.109375 41.296875 11.75 \nQ 45.40625 17.390625 45.40625 27.296875 \nQ 45.40625 37.203125 41.296875 42.84375 \nQ 37.203125 48.484375 30.078125 48.484375 \nQ 22.953125 48.484375 18.875 42.84375 \nQ 14.796875 37.203125 14.796875 27.296875 \nz\nM 45.40625 8.203125 \nQ 42.578125 3.328125 38.25 0.953125 \nQ 33.9375 -1.421875 27.875 -1.421875 \nQ 17.96875 -1.421875 11.734375 6.484375 \nQ 5.515625 14.40625 5.515625 27.296875 \nQ 5.515625 40.1875 11.734375 48.09375 \nQ 17.96875 56 27.875 56 \nQ 33.9375 56 38.25 53.625 \nQ 42.578125 51.265625 45.40625 46.390625 \nL 45.40625 54.6875 \nL 54.390625 54.6875 \nL 54.390625 -20.796875 \nL 45.40625 -20.796875 \nz\n\" id=\"DejaVuSans-71\"/>\n      <path d=\"M 8.5 21.578125 \nL 8.5 54.6875 \nL 17.484375 54.6875 \nL 17.484375 21.921875 \nQ 17.484375 14.15625 20.5 10.265625 \nQ 23.53125 6.390625 29.59375 6.390625 \nQ 36.859375 6.390625 41.078125 11.03125 \nQ 45.3125 15.671875 45.3125 23.6875 \nL 45.3125 54.6875 \nL 54.296875 54.6875 \nL 54.296875 0 \nL 45.3125 0 \nL 45.3125 8.40625 \nQ 42.046875 3.421875 37.71875 1 \nQ 33.40625 -1.421875 27.6875 -1.421875 \nQ 18.265625 -1.421875 13.375 4.4375 \nQ 8.5 10.296875 8.5 21.578125 \nz\nM 31.109375 56 \nz\n\" id=\"DejaVuSans-75\"/>\n      <path d=\"M 54.890625 33.015625 \nL 54.890625 0 \nL 45.90625 0 \nL 45.90625 32.71875 \nQ 45.90625 40.484375 42.875 44.328125 \nQ 39.84375 48.1875 33.796875 48.1875 \nQ 26.515625 48.1875 22.3125 43.546875 \nQ 18.109375 38.921875 18.109375 30.90625 \nL 18.109375 0 \nL 9.078125 0 \nL 9.078125 54.6875 \nL 18.109375 54.6875 \nL 18.109375 46.1875 \nQ 21.34375 51.125 25.703125 53.5625 \nQ 30.078125 56 35.796875 56 \nQ 45.21875 56 50.046875 50.171875 \nQ 54.890625 44.34375 54.890625 33.015625 \nz\n\" id=\"DejaVuSans-6e\"/>\n      <path d=\"M 48.78125 52.59375 \nL 48.78125 44.1875 \nQ 44.96875 46.296875 41.140625 47.34375 \nQ 37.3125 48.390625 33.40625 48.390625 \nQ 24.65625 48.390625 19.8125 42.84375 \nQ 14.984375 37.3125 14.984375 27.296875 \nQ 14.984375 17.28125 19.8125 11.734375 \nQ 24.65625 6.203125 33.40625 6.203125 \nQ 37.3125 6.203125 41.140625 7.25 \nQ 44.96875 8.296875 48.78125 10.40625 \nL 48.78125 2.09375 \nQ 45.015625 0.34375 40.984375 -0.53125 \nQ 36.96875 -1.421875 32.421875 -1.421875 \nQ 20.0625 -1.421875 12.78125 6.34375 \nQ 5.515625 14.109375 5.515625 27.296875 \nQ 5.515625 40.671875 12.859375 48.328125 \nQ 20.21875 56 33.015625 56 \nQ 37.15625 56 41.109375 55.140625 \nQ 45.0625 54.296875 48.78125 52.59375 \nz\n\" id=\"DejaVuSans-63\"/>\n      <path d=\"M 32.171875 -5.078125 \nQ 28.375 -14.84375 24.75 -17.8125 \nQ 21.140625 -20.796875 15.09375 -20.796875 \nL 7.90625 -20.796875 \nL 7.90625 -13.28125 \nL 13.1875 -13.28125 \nQ 16.890625 -13.28125 18.9375 -11.515625 \nQ 21 -9.765625 23.484375 -3.21875 \nL 25.09375 0.875 \nL 2.984375 54.6875 \nL 12.5 54.6875 \nL 29.59375 11.921875 \nL 46.6875 54.6875 \nL 56.203125 54.6875 \nz\n\" id=\"DejaVuSans-79\"/>\n     </defs>\n     <g transform=\"translate(14.798438 145.717656)rotate(-90)scale(0.1 -0.1)\">\n      <use xlink:href=\"#DejaVuSans-46\"/>\n      <use x=\"57.410156\" xlink:href=\"#DejaVuSans-72\"/>\n      <use x=\"98.492188\" xlink:href=\"#DejaVuSans-65\"/>\n      <use x=\"160.015625\" xlink:href=\"#DejaVuSans-71\"/>\n      <use x=\"223.492188\" xlink:href=\"#DejaVuSans-75\"/>\n      <use x=\"286.871094\" xlink:href=\"#DejaVuSans-65\"/>\n      <use x=\"348.394531\" xlink:href=\"#DejaVuSans-6e\"/>\n      <use x=\"411.773438\" xlink:href=\"#DejaVuSans-63\"/>\n      <use x=\"466.753906\" xlink:href=\"#DejaVuSans-79\"/>\n     </g>\n    </g>\n   </g>\n   <g id=\"patch_13\">\n    <path d=\"M 53.328125 228.14 \nL 53.328125 10.7 \n\" style=\"fill:none;stroke:#000000;stroke-linecap:square;stroke-linejoin:miter;stroke-width:0.8;\"/>\n   </g>\n   <g id=\"patch_14\">\n    <path d=\"M 388.128125 228.14 \nL 388.128125 10.7 \n\" style=\"fill:none;stroke:#000000;stroke-linecap:square;stroke-linejoin:miter;stroke-width:0.8;\"/>\n   </g>\n   <g id=\"patch_15\">\n    <path d=\"M 53.328125 228.14 \nL 388.128125 228.14 \n\" style=\"fill:none;stroke:#000000;stroke-linecap:square;stroke-linejoin:miter;stroke-width:0.8;\"/>\n   </g>\n   <g id=\"patch_16\">\n    <path d=\"M 53.328125 10.7 \nL 388.128125 10.7 \n\" style=\"fill:none;stroke:#000000;stroke-linecap:square;stroke-linejoin:miter;stroke-width:0.8;\"/>\n   </g>\n  </g>\n </g>\n <defs>\n  <clipPath id=\"pd6015d5b08\">\n   <rect height=\"217.44\" width=\"334.8\" x=\"53.328125\" y=\"10.7\"/>\n  </clipPath>\n </defs>\n</svg>\n",
      "text/plain": "<Figure size 432x288 with 1 Axes>"
     },
     "metadata": {},
     "output_type": "display_data"
    }
   ],
   "source": [
    "df_amazon['number'].plot.hist()"
   ]
  },
  {
   "cell_type": "markdown",
   "execution_count": null,
   "metadata": {},
   "outputs": [],
   "source": [
    "### We know that:\n",
    "- 6454 rows\n",
    "- 5 Columns\n",
    "- name of month is in portugues\n",
    "- date is object type\n",
    "- number of fire is skew right\n",
    "- many outliers in number of fire"
   ]
  },
  {
   "cell_type": "markdown",
   "execution_count": null,
   "metadata": {},
   "outputs": [],
   "source": [
    "# Cleaning Data"
   ]
  },
  {
   "cell_type": "code",
   "execution_count": 12,
   "metadata": {},
   "outputs": [],
   "source": [
    "df_copy = df_amazon.copy()"
   ]
  },
  {
   "cell_type": "markdown",
   "execution_count": null,
   "metadata": {},
   "outputs": [],
   "source": [
    "## Changing date type from string to datetime"
   ]
  },
  {
   "cell_type": "code",
   "execution_count": 13,
   "metadata": {},
   "outputs": [],
   "source": [
    "df_copy['date'] = pd.to_datetime(df_copy['date'])"
   ]
  },
  {
   "cell_type": "code",
   "execution_count": 15,
   "metadata": {},
   "outputs": [
    {
     "name": "stdout",
     "output_type": "stream",
     "text": "<class 'pandas.core.frame.DataFrame'>\nRangeIndex: 6454 entries, 0 to 6453\nData columns (total 5 columns):\nyear      6454 non-null int64\nstate     6454 non-null object\nmonth     6454 non-null object\nnumber    6454 non-null float64\ndate      6454 non-null datetime64[ns]\ndtypes: datetime64[ns](1), float64(1), int64(1), object(2)\nmemory usage: 252.2+ KB\n"
    }
   ],
   "source": [
    "df_copy.info()"
   ]
  },
  {
   "cell_type": "markdown",
   "execution_count": null,
   "metadata": {},
   "outputs": [],
   "source": [
    "## Changing month from portuegese to english"
   ]
  },
  {
   "cell_type": "code",
   "execution_count": 17,
   "metadata": {},
   "outputs": [
    {
     "data": {
      "text/plain": "array(['Janeiro', 'Fevereiro', 'Março', 'Abril', 'Maio', 'Junho', 'Julho',\n       'Agosto', 'Setembro', 'Outubro', 'Novembro', 'Dezembro'],\n      dtype=object)"
     },
     "execution_count": 17,
     "metadata": {},
     "output_type": "execute_result"
    }
   ],
   "source": [
    "df_copy.month.unique()"
   ]
  },
  {
   "cell_type": "code",
   "execution_count": 18,
   "metadata": {},
   "outputs": [],
   "source": [
    "month = {\n",
    "    \"Janeiro\":\"January\",\n",
    "    \"Fevereiro\":\"February\",\n",
    "    \"Março\":\"March\",\n",
    "    \"Abril\":\"April\",\n",
    "    \"Maio\":\"May\",\n",
    "    \"Junho\":\"June\",\n",
    "    \"Julho\":\"July\",\n",
    "    \"Agosto\":\"August\",\n",
    "    \"Setembro\":\"September\",\n",
    "    \"Outubro\":\"October\",\n",
    "    \"Novembro\":\"November\",\n",
    "    \"Dezembro\":\"December\"\n",
    "    }"
   ]
  },
  {
   "cell_type": "code",
   "execution_count": 19,
   "metadata": {},
   "outputs": [],
   "source": [
    "df_copy['month'] = df_copy['month'].map(month)"
   ]
  },
  {
   "cell_type": "code",
   "execution_count": 20,
   "metadata": {},
   "outputs": [
    {
     "data": {
      "text/plain": "array(['January', 'February', 'March', 'April', 'May', 'June', 'July',\n       'August', 'September', 'October', 'November', 'December'],\n      dtype=object)"
     },
     "execution_count": 20,
     "metadata": {},
     "output_type": "execute_result"
    }
   ],
   "source": [
    "df_copy.month.unique()"
   ]
  },
  {
   "cell_type": "code",
   "execution_count": null,
   "metadata": {},
   "outputs": [],
   "source": []
  },
  {
   "cell_type": "code",
   "execution_count": 21,
   "metadata": {},
   "outputs": [
    {
     "data": {
      "text/html": "<div>\n<style scoped>\n    .dataframe tbody tr th:only-of-type {\n        vertical-align: middle;\n    }\n\n    .dataframe tbody tr th {\n        vertical-align: top;\n    }\n\n    .dataframe thead th {\n        text-align: right;\n    }\n</style>\n<table border=\"1\" class=\"dataframe\">\n  <thead>\n    <tr style=\"text-align: right;\">\n      <th></th>\n      <th>year</th>\n      <th>state</th>\n      <th>month</th>\n      <th>number</th>\n      <th>date</th>\n    </tr>\n  </thead>\n  <tbody>\n    <tr>\n      <th>0</th>\n      <td>1998</td>\n      <td>Acre</td>\n      <td>January</td>\n      <td>0.000</td>\n      <td>1998-01-01</td>\n    </tr>\n    <tr>\n      <th>6415</th>\n      <td>1998</td>\n      <td>Tocantins</td>\n      <td>November</td>\n      <td>1.000</td>\n      <td>1998-01-01</td>\n    </tr>\n    <tr>\n      <th>2790</th>\n      <td>1998</td>\n      <td>Mato Grosso</td>\n      <td>September</td>\n      <td>457.000</td>\n      <td>1998-01-01</td>\n    </tr>\n    <tr>\n      <th>2810</th>\n      <td>1998</td>\n      <td>Mato Grosso</td>\n      <td>October</td>\n      <td>576.000</td>\n      <td>1998-01-01</td>\n    </tr>\n    <tr>\n      <th>2830</th>\n      <td>1998</td>\n      <td>Mato Grosso</td>\n      <td>November</td>\n      <td>306.000</td>\n      <td>1998-01-01</td>\n    </tr>\n    <tr>\n      <th>2850</th>\n      <td>1998</td>\n      <td>Mato Grosso</td>\n      <td>December</td>\n      <td>100.000</td>\n      <td>1998-01-01</td>\n    </tr>\n    <tr>\n      <th>2869</th>\n      <td>1998</td>\n      <td>Minas Gerais</td>\n      <td>January</td>\n      <td>0.000</td>\n      <td>1998-01-01</td>\n    </tr>\n    <tr>\n      <th>2889</th>\n      <td>1998</td>\n      <td>Minas Gerais</td>\n      <td>February</td>\n      <td>0.000</td>\n      <td>1998-01-01</td>\n    </tr>\n    <tr>\n      <th>2909</th>\n      <td>1998</td>\n      <td>Minas Gerais</td>\n      <td>March</td>\n      <td>0.000</td>\n      <td>1998-01-01</td>\n    </tr>\n    <tr>\n      <th>6156</th>\n      <td>1998</td>\n      <td>Sergipe</td>\n      <td>October</td>\n      <td>0.000</td>\n      <td>1998-01-01</td>\n    </tr>\n    <tr>\n      <th>2929</th>\n      <td>1998</td>\n      <td>Minas Gerais</td>\n      <td>April</td>\n      <td>0.000</td>\n      <td>1998-01-01</td>\n    </tr>\n    <tr>\n      <th>360</th>\n      <td>1998</td>\n      <td>Alagoas</td>\n      <td>July</td>\n      <td>0.000</td>\n      <td>1998-01-01</td>\n    </tr>\n    <tr>\n      <th>340</th>\n      <td>1998</td>\n      <td>Alagoas</td>\n      <td>June</td>\n      <td>0.000</td>\n      <td>1998-01-01</td>\n    </tr>\n    <tr>\n      <th>2969</th>\n      <td>1998</td>\n      <td>Minas Gerais</td>\n      <td>June</td>\n      <td>70.000</td>\n      <td>1998-01-01</td>\n    </tr>\n    <tr>\n      <th>2989</th>\n      <td>1998</td>\n      <td>Minas Gerais</td>\n      <td>July</td>\n      <td>232.000</td>\n      <td>1998-01-01</td>\n    </tr>\n    <tr>\n      <th>3009</th>\n      <td>1998</td>\n      <td>Minas Gerais</td>\n      <td>August</td>\n      <td>875.000</td>\n      <td>1998-01-01</td>\n    </tr>\n    <tr>\n      <th>3029</th>\n      <td>1998</td>\n      <td>Minas Gerais</td>\n      <td>September</td>\n      <td>1.981</td>\n      <td>1998-01-01</td>\n    </tr>\n    <tr>\n      <th>3049</th>\n      <td>1998</td>\n      <td>Minas Gerais</td>\n      <td>October</td>\n      <td>1.093</td>\n      <td>1998-01-01</td>\n    </tr>\n    <tr>\n      <th>3069</th>\n      <td>1998</td>\n      <td>Minas Gerais</td>\n      <td>November</td>\n      <td>32.000</td>\n      <td>1998-01-01</td>\n    </tr>\n    <tr>\n      <th>3089</th>\n      <td>1998</td>\n      <td>Minas Gerais</td>\n      <td>December</td>\n      <td>21.000</td>\n      <td>1998-01-01</td>\n    </tr>\n    <tr>\n      <th>3108</th>\n      <td>1998</td>\n      <td>Pará</td>\n      <td>January</td>\n      <td>0.000</td>\n      <td>1998-01-01</td>\n    </tr>\n    <tr>\n      <th>320</th>\n      <td>1998</td>\n      <td>Alagoas</td>\n      <td>May</td>\n      <td>0.000</td>\n      <td>1998-01-01</td>\n    </tr>\n    <tr>\n      <th>6136</th>\n      <td>1998</td>\n      <td>Sergipe</td>\n      <td>September</td>\n      <td>0.000</td>\n      <td>1998-01-01</td>\n    </tr>\n    <tr>\n      <th>2949</th>\n      <td>1998</td>\n      <td>Minas Gerais</td>\n      <td>May</td>\n      <td>0.000</td>\n      <td>1998-01-01</td>\n    </tr>\n    <tr>\n      <th>2770</th>\n      <td>1998</td>\n      <td>Mato Grosso</td>\n      <td>August</td>\n      <td>228.000</td>\n      <td>1998-01-01</td>\n    </tr>\n    <tr>\n      <th>2750</th>\n      <td>1998</td>\n      <td>Mato Grosso</td>\n      <td>July</td>\n      <td>360.000</td>\n      <td>1998-01-01</td>\n    </tr>\n    <tr>\n      <th>2730</th>\n      <td>1998</td>\n      <td>Mato Grosso</td>\n      <td>June</td>\n      <td>82.000</td>\n      <td>1998-01-01</td>\n    </tr>\n    <tr>\n      <th>2352</th>\n      <td>1998</td>\n      <td>Maranhao</td>\n      <td>November</td>\n      <td>2.237</td>\n      <td>1998-01-01</td>\n    </tr>\n    <tr>\n      <th>2372</th>\n      <td>1998</td>\n      <td>Maranhao</td>\n      <td>December</td>\n      <td>1.399</td>\n      <td>1998-01-01</td>\n    </tr>\n    <tr>\n      <th>2391</th>\n      <td>1998</td>\n      <td>Mato Grosso</td>\n      <td>January</td>\n      <td>0.000</td>\n      <td>1998-01-01</td>\n    </tr>\n    <tr>\n      <th>...</th>\n      <td>...</td>\n      <td>...</td>\n      <td>...</td>\n      <td>...</td>\n      <td>...</td>\n    </tr>\n    <tr>\n      <th>4482</th>\n      <td>2017</td>\n      <td>Rio</td>\n      <td>September</td>\n      <td>728.000</td>\n      <td>2017-01-01</td>\n    </tr>\n    <tr>\n      <th>2729</th>\n      <td>2017</td>\n      <td>Mato Grosso</td>\n      <td>May</td>\n      <td>72.000</td>\n      <td>2017-01-01</td>\n    </tr>\n    <tr>\n      <th>6175</th>\n      <td>2017</td>\n      <td>Sergipe</td>\n      <td>October</td>\n      <td>0.000</td>\n      <td>2017-01-01</td>\n    </tr>\n    <tr>\n      <th>2749</th>\n      <td>2017</td>\n      <td>Mato Grosso</td>\n      <td>June</td>\n      <td>175.000</td>\n      <td>2017-01-01</td>\n    </tr>\n    <tr>\n      <th>4462</th>\n      <td>2017</td>\n      <td>Rio</td>\n      <td>August</td>\n      <td>164.000</td>\n      <td>2017-01-01</td>\n    </tr>\n    <tr>\n      <th>2769</th>\n      <td>2017</td>\n      <td>Mato Grosso</td>\n      <td>July</td>\n      <td>1.050</td>\n      <td>2017-01-01</td>\n    </tr>\n    <tr>\n      <th>2550</th>\n      <td>2017</td>\n      <td>Mato Grosso</td>\n      <td>August</td>\n      <td>6.229</td>\n      <td>2017-01-01</td>\n    </tr>\n    <tr>\n      <th>6195</th>\n      <td>2017</td>\n      <td>Sergipe</td>\n      <td>November</td>\n      <td>1.000</td>\n      <td>2017-01-01</td>\n    </tr>\n    <tr>\n      <th>2530</th>\n      <td>2017</td>\n      <td>Mato Grosso</td>\n      <td>July</td>\n      <td>2.790</td>\n      <td>2017-01-01</td>\n    </tr>\n    <tr>\n      <th>4581</th>\n      <td>2017</td>\n      <td>Rio</td>\n      <td>February</td>\n      <td>10.000</td>\n      <td>2017-01-01</td>\n    </tr>\n    <tr>\n      <th>2271</th>\n      <td>2017</td>\n      <td>Maranhao</td>\n      <td>June</td>\n      <td>885.000</td>\n      <td>2017-01-01</td>\n    </tr>\n    <tr>\n      <th>4701</th>\n      <td>2017</td>\n      <td>Rio</td>\n      <td>August</td>\n      <td>21.000</td>\n      <td>2017-01-01</td>\n    </tr>\n    <tr>\n      <th>2291</th>\n      <td>2017</td>\n      <td>Maranhao</td>\n      <td>July</td>\n      <td>2.521</td>\n      <td>2017-01-01</td>\n    </tr>\n    <tr>\n      <th>2311</th>\n      <td>2017</td>\n      <td>Maranhao</td>\n      <td>August</td>\n      <td>3.875</td>\n      <td>2017-01-01</td>\n    </tr>\n    <tr>\n      <th>4681</th>\n      <td>2017</td>\n      <td>Rio</td>\n      <td>July</td>\n      <td>4.000</td>\n      <td>2017-01-01</td>\n    </tr>\n    <tr>\n      <th>2331</th>\n      <td>2017</td>\n      <td>Maranhao</td>\n      <td>September</td>\n      <td>14.825</td>\n      <td>2017-01-01</td>\n    </tr>\n    <tr>\n      <th>2351</th>\n      <td>2017</td>\n      <td>Maranhao</td>\n      <td>October</td>\n      <td>6.011</td>\n      <td>2017-01-01</td>\n    </tr>\n    <tr>\n      <th>4661</th>\n      <td>2017</td>\n      <td>Rio</td>\n      <td>June</td>\n      <td>3.000</td>\n      <td>2017-01-01</td>\n    </tr>\n    <tr>\n      <th>4721</th>\n      <td>2017</td>\n      <td>Rio</td>\n      <td>September</td>\n      <td>48.000</td>\n      <td>2017-01-01</td>\n    </tr>\n    <tr>\n      <th>2371</th>\n      <td>2017</td>\n      <td>Maranhao</td>\n      <td>November</td>\n      <td>2.300</td>\n      <td>2017-01-01</td>\n    </tr>\n    <tr>\n      <th>2410</th>\n      <td>2017</td>\n      <td>Mato Grosso</td>\n      <td>January</td>\n      <td>482.000</td>\n      <td>2017-01-01</td>\n    </tr>\n    <tr>\n      <th>2430</th>\n      <td>2017</td>\n      <td>Mato Grosso</td>\n      <td>February</td>\n      <td>337.000</td>\n      <td>2017-01-01</td>\n    </tr>\n    <tr>\n      <th>4621</th>\n      <td>2017</td>\n      <td>Rio</td>\n      <td>April</td>\n      <td>6.000</td>\n      <td>2017-01-01</td>\n    </tr>\n    <tr>\n      <th>2450</th>\n      <td>2017</td>\n      <td>Mato Grosso</td>\n      <td>March</td>\n      <td>719.000</td>\n      <td>2017-01-01</td>\n    </tr>\n    <tr>\n      <th>2470</th>\n      <td>2017</td>\n      <td>Mato Grosso</td>\n      <td>April</td>\n      <td>606.000</td>\n      <td>2017-01-01</td>\n    </tr>\n    <tr>\n      <th>4601</th>\n      <td>2017</td>\n      <td>Rio</td>\n      <td>March</td>\n      <td>3.000</td>\n      <td>2017-01-01</td>\n    </tr>\n    <tr>\n      <th>2490</th>\n      <td>2017</td>\n      <td>Mato Grosso</td>\n      <td>May</td>\n      <td>845.000</td>\n      <td>2017-01-01</td>\n    </tr>\n    <tr>\n      <th>2510</th>\n      <td>2017</td>\n      <td>Mato Grosso</td>\n      <td>June</td>\n      <td>2.041</td>\n      <td>2017-01-01</td>\n    </tr>\n    <tr>\n      <th>4641</th>\n      <td>2017</td>\n      <td>Rio</td>\n      <td>May</td>\n      <td>2.000</td>\n      <td>2017-01-01</td>\n    </tr>\n    <tr>\n      <th>4880</th>\n      <td>2017</td>\n      <td>Rio</td>\n      <td>May</td>\n      <td>43.000</td>\n      <td>2017-01-01</td>\n    </tr>\n  </tbody>\n</table>\n<p>6454 rows × 5 columns</p>\n</div>",
      "text/plain": "      year         state      month   number       date\n0     1998          Acre    January    0.000 1998-01-01\n6415  1998     Tocantins   November    1.000 1998-01-01\n2790  1998   Mato Grosso  September  457.000 1998-01-01\n2810  1998   Mato Grosso    October  576.000 1998-01-01\n2830  1998   Mato Grosso   November  306.000 1998-01-01\n2850  1998   Mato Grosso   December  100.000 1998-01-01\n2869  1998  Minas Gerais    January    0.000 1998-01-01\n2889  1998  Minas Gerais   February    0.000 1998-01-01\n2909  1998  Minas Gerais      March    0.000 1998-01-01\n6156  1998       Sergipe    October    0.000 1998-01-01\n2929  1998  Minas Gerais      April    0.000 1998-01-01\n360   1998       Alagoas       July    0.000 1998-01-01\n340   1998       Alagoas       June    0.000 1998-01-01\n2969  1998  Minas Gerais       June   70.000 1998-01-01\n2989  1998  Minas Gerais       July  232.000 1998-01-01\n3009  1998  Minas Gerais     August  875.000 1998-01-01\n3029  1998  Minas Gerais  September    1.981 1998-01-01\n3049  1998  Minas Gerais    October    1.093 1998-01-01\n3069  1998  Minas Gerais   November   32.000 1998-01-01\n3089  1998  Minas Gerais   December   21.000 1998-01-01\n3108  1998          Pará    January    0.000 1998-01-01\n320   1998       Alagoas        May    0.000 1998-01-01\n6136  1998       Sergipe  September    0.000 1998-01-01\n2949  1998  Minas Gerais        May    0.000 1998-01-01\n2770  1998   Mato Grosso     August  228.000 1998-01-01\n2750  1998   Mato Grosso       July  360.000 1998-01-01\n2730  1998   Mato Grosso       June   82.000 1998-01-01\n2352  1998      Maranhao   November    2.237 1998-01-01\n2372  1998      Maranhao   December    1.399 1998-01-01\n2391  1998   Mato Grosso    January    0.000 1998-01-01\n...    ...           ...        ...      ...        ...\n4482  2017           Rio  September  728.000 2017-01-01\n2729  2017   Mato Grosso        May   72.000 2017-01-01\n6175  2017       Sergipe    October    0.000 2017-01-01\n2749  2017   Mato Grosso       June  175.000 2017-01-01\n4462  2017           Rio     August  164.000 2017-01-01\n2769  2017   Mato Grosso       July    1.050 2017-01-01\n2550  2017   Mato Grosso     August    6.229 2017-01-01\n6195  2017       Sergipe   November    1.000 2017-01-01\n2530  2017   Mato Grosso       July    2.790 2017-01-01\n4581  2017           Rio   February   10.000 2017-01-01\n2271  2017      Maranhao       June  885.000 2017-01-01\n4701  2017           Rio     August   21.000 2017-01-01\n2291  2017      Maranhao       July    2.521 2017-01-01\n2311  2017      Maranhao     August    3.875 2017-01-01\n4681  2017           Rio       July    4.000 2017-01-01\n2331  2017      Maranhao  September   14.825 2017-01-01\n2351  2017      Maranhao    October    6.011 2017-01-01\n4661  2017           Rio       June    3.000 2017-01-01\n4721  2017           Rio  September   48.000 2017-01-01\n2371  2017      Maranhao   November    2.300 2017-01-01\n2410  2017   Mato Grosso    January  482.000 2017-01-01\n2430  2017   Mato Grosso   February  337.000 2017-01-01\n4621  2017           Rio      April    6.000 2017-01-01\n2450  2017   Mato Grosso      March  719.000 2017-01-01\n2470  2017   Mato Grosso      April  606.000 2017-01-01\n4601  2017           Rio      March    3.000 2017-01-01\n2490  2017   Mato Grosso        May  845.000 2017-01-01\n2510  2017   Mato Grosso       June    2.041 2017-01-01\n4641  2017           Rio        May    2.000 2017-01-01\n4880  2017           Rio        May   43.000 2017-01-01\n\n[6454 rows x 5 columns]"
     },
     "execution_count": 21,
     "metadata": {},
     "output_type": "execute_result"
    }
   ],
   "source": [
    "df_copy.sort_values(by='year')"
   ]
  },
  {
   "cell_type": "code",
   "execution_count": null,
   "metadata": {},
   "outputs": [],
   "source": []
  }
 ],
 "metadata": {
  "kernelspec": {
   "display_name": "Python 3",
   "language": "python",
   "name": "python3"
  },
  "language_info": {
   "codemirror_mode": {
    "name": "ipython",
    "version": 3
   },
   "file_extension": ".py",
   "mimetype": "text/x-python",
   "name": "python",
   "nbconvert_exporter": "python",
   "pygments_lexer": "ipython3",
   "version": "3.6.4"
  },
  "varInspector": {
   "cols": {
    "lenName": 16,
    "lenType": 16,
    "lenVar": 40
   },
   "kernels_config": {
    "python": {
     "delete_cmd_postfix": "",
     "delete_cmd_prefix": "del ",
     "library": "var_list.py",
     "varRefreshCmd": "print(var_dic_list())"
    },
    "r": {
     "delete_cmd_postfix": ") ",
     "delete_cmd_prefix": "rm(",
     "library": "var_list.r",
     "varRefreshCmd": "cat(var_dic_list()) "
    }
   },
   "types_to_exclude": [
    "module",
    "function",
    "builtin_function_or_method",
    "instance",
    "_Feature"
   ],
   "window_display": false
  }
 },
 "nbformat": 4,
 "nbformat_minor": 2
}
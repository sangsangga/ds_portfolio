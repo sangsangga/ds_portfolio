{
 "cells": [
  {
   "cell_type": "markdown",
   "metadata": {},
   "source": [
    "# Finding Best Market to Advertise In"
   ]
  },
  {
   "cell_type": "markdown",
   "metadata": {},
   "source": [
    "In this project, we'll aim to find the best market to advertise our product in. Our company is e-learning company, which focus are on web and mobile development. "
   ]
  },
  {
   "cell_type": "markdown",
   "metadata": {},
   "source": [
    "## import data"
   ]
  },
  {
   "cell_type": "code",
   "execution_count": 41,
   "metadata": {
    "collapsed": true
   },
   "outputs": [],
   "source": [
    "import numpy as np\n",
    "import pandas as pd\n",
    "import matplotlib.pyplot as plt\n",
    "import seaborn as sns\n",
    "%matplotlib inline"
   ]
  },
  {
   "cell_type": "code",
   "execution_count": 42,
   "metadata": {
    "collapsed": false,
    "scrolled": true
   },
   "outputs": [
    {
     "name": "stderr",
     "output_type": "stream",
     "text": [
      "/dataquest/system/env/python3/lib/python3.4/site-packages/IPython/core/interactiveshell.py:2723: DtypeWarning:\n",
      "\n",
      "Columns (17,62) have mixed types. Specify dtype option on import or set low_memory=False.\n",
      "\n"
     ]
    }
   ],
   "source": [
    "df_survey = pd.read_csv(\"2017-fCC-New-Coders-Survey-Data.csv\")"
   ]
  },
  {
   "cell_type": "markdown",
   "metadata": {},
   "source": [
    "## Understanding Data"
   ]
  },
  {
   "cell_type": "code",
   "execution_count": 43,
   "metadata": {
    "collapsed": false
   },
   "outputs": [
    {
     "data": {
      "text/html": [
       "<div>\n",
       "<style scoped>\n",
       "    .dataframe tbody tr th:only-of-type {\n",
       "        vertical-align: middle;\n",
       "    }\n",
       "\n",
       "    .dataframe tbody tr th {\n",
       "        vertical-align: top;\n",
       "    }\n",
       "\n",
       "    .dataframe thead th {\n",
       "        text-align: right;\n",
       "    }\n",
       "</style>\n",
       "<table border=\"1\" class=\"dataframe\">\n",
       "  <thead>\n",
       "    <tr style=\"text-align: right;\">\n",
       "      <th></th>\n",
       "      <th>Age</th>\n",
       "      <th>AttendedBootcamp</th>\n",
       "      <th>BootcampFinish</th>\n",
       "      <th>BootcampLoanYesNo</th>\n",
       "      <th>BootcampName</th>\n",
       "      <th>BootcampRecommend</th>\n",
       "      <th>ChildrenNumber</th>\n",
       "      <th>CityPopulation</th>\n",
       "      <th>CodeEventConferences</th>\n",
       "      <th>CodeEventDjangoGirls</th>\n",
       "      <th>...</th>\n",
       "      <th>YouTubeFCC</th>\n",
       "      <th>YouTubeFunFunFunction</th>\n",
       "      <th>YouTubeGoogleDev</th>\n",
       "      <th>YouTubeLearnCode</th>\n",
       "      <th>YouTubeLevelUpTuts</th>\n",
       "      <th>YouTubeMIT</th>\n",
       "      <th>YouTubeMozillaHacks</th>\n",
       "      <th>YouTubeOther</th>\n",
       "      <th>YouTubeSimplilearn</th>\n",
       "      <th>YouTubeTheNewBoston</th>\n",
       "    </tr>\n",
       "  </thead>\n",
       "  <tbody>\n",
       "    <tr>\n",
       "      <th>0</th>\n",
       "      <td>27.0</td>\n",
       "      <td>0.0</td>\n",
       "      <td>NaN</td>\n",
       "      <td>NaN</td>\n",
       "      <td>NaN</td>\n",
       "      <td>NaN</td>\n",
       "      <td>NaN</td>\n",
       "      <td>more than 1 million</td>\n",
       "      <td>NaN</td>\n",
       "      <td>NaN</td>\n",
       "      <td>...</td>\n",
       "      <td>NaN</td>\n",
       "      <td>NaN</td>\n",
       "      <td>NaN</td>\n",
       "      <td>NaN</td>\n",
       "      <td>NaN</td>\n",
       "      <td>NaN</td>\n",
       "      <td>NaN</td>\n",
       "      <td>NaN</td>\n",
       "      <td>NaN</td>\n",
       "      <td>NaN</td>\n",
       "    </tr>\n",
       "    <tr>\n",
       "      <th>1</th>\n",
       "      <td>34.0</td>\n",
       "      <td>0.0</td>\n",
       "      <td>NaN</td>\n",
       "      <td>NaN</td>\n",
       "      <td>NaN</td>\n",
       "      <td>NaN</td>\n",
       "      <td>NaN</td>\n",
       "      <td>less than 100,000</td>\n",
       "      <td>NaN</td>\n",
       "      <td>NaN</td>\n",
       "      <td>...</td>\n",
       "      <td>1.0</td>\n",
       "      <td>NaN</td>\n",
       "      <td>NaN</td>\n",
       "      <td>NaN</td>\n",
       "      <td>NaN</td>\n",
       "      <td>NaN</td>\n",
       "      <td>NaN</td>\n",
       "      <td>NaN</td>\n",
       "      <td>NaN</td>\n",
       "      <td>NaN</td>\n",
       "    </tr>\n",
       "    <tr>\n",
       "      <th>2</th>\n",
       "      <td>21.0</td>\n",
       "      <td>0.0</td>\n",
       "      <td>NaN</td>\n",
       "      <td>NaN</td>\n",
       "      <td>NaN</td>\n",
       "      <td>NaN</td>\n",
       "      <td>NaN</td>\n",
       "      <td>more than 1 million</td>\n",
       "      <td>NaN</td>\n",
       "      <td>NaN</td>\n",
       "      <td>...</td>\n",
       "      <td>NaN</td>\n",
       "      <td>NaN</td>\n",
       "      <td>NaN</td>\n",
       "      <td>1.0</td>\n",
       "      <td>1.0</td>\n",
       "      <td>NaN</td>\n",
       "      <td>NaN</td>\n",
       "      <td>NaN</td>\n",
       "      <td>NaN</td>\n",
       "      <td>NaN</td>\n",
       "    </tr>\n",
       "    <tr>\n",
       "      <th>3</th>\n",
       "      <td>26.0</td>\n",
       "      <td>0.0</td>\n",
       "      <td>NaN</td>\n",
       "      <td>NaN</td>\n",
       "      <td>NaN</td>\n",
       "      <td>NaN</td>\n",
       "      <td>NaN</td>\n",
       "      <td>between 100,000 and 1 million</td>\n",
       "      <td>NaN</td>\n",
       "      <td>NaN</td>\n",
       "      <td>...</td>\n",
       "      <td>1.0</td>\n",
       "      <td>1.0</td>\n",
       "      <td>NaN</td>\n",
       "      <td>NaN</td>\n",
       "      <td>1.0</td>\n",
       "      <td>NaN</td>\n",
       "      <td>NaN</td>\n",
       "      <td>NaN</td>\n",
       "      <td>NaN</td>\n",
       "      <td>NaN</td>\n",
       "    </tr>\n",
       "    <tr>\n",
       "      <th>4</th>\n",
       "      <td>20.0</td>\n",
       "      <td>0.0</td>\n",
       "      <td>NaN</td>\n",
       "      <td>NaN</td>\n",
       "      <td>NaN</td>\n",
       "      <td>NaN</td>\n",
       "      <td>NaN</td>\n",
       "      <td>between 100,000 and 1 million</td>\n",
       "      <td>NaN</td>\n",
       "      <td>NaN</td>\n",
       "      <td>...</td>\n",
       "      <td>NaN</td>\n",
       "      <td>NaN</td>\n",
       "      <td>NaN</td>\n",
       "      <td>NaN</td>\n",
       "      <td>NaN</td>\n",
       "      <td>NaN</td>\n",
       "      <td>NaN</td>\n",
       "      <td>NaN</td>\n",
       "      <td>NaN</td>\n",
       "      <td>NaN</td>\n",
       "    </tr>\n",
       "  </tbody>\n",
       "</table>\n",
       "<p>5 rows × 136 columns</p>\n",
       "</div>"
      ],
      "text/plain": [
       "    Age  AttendedBootcamp  BootcampFinish  BootcampLoanYesNo BootcampName  \\\n",
       "0  27.0               0.0             NaN                NaN          NaN   \n",
       "1  34.0               0.0             NaN                NaN          NaN   \n",
       "2  21.0               0.0             NaN                NaN          NaN   \n",
       "3  26.0               0.0             NaN                NaN          NaN   \n",
       "4  20.0               0.0             NaN                NaN          NaN   \n",
       "\n",
       "   BootcampRecommend  ChildrenNumber                 CityPopulation  \\\n",
       "0                NaN             NaN            more than 1 million   \n",
       "1                NaN             NaN              less than 100,000   \n",
       "2                NaN             NaN            more than 1 million   \n",
       "3                NaN             NaN  between 100,000 and 1 million   \n",
       "4                NaN             NaN  between 100,000 and 1 million   \n",
       "\n",
       "   CodeEventConferences  CodeEventDjangoGirls         ...           \\\n",
       "0                   NaN                   NaN         ...            \n",
       "1                   NaN                   NaN         ...            \n",
       "2                   NaN                   NaN         ...            \n",
       "3                   NaN                   NaN         ...            \n",
       "4                   NaN                   NaN         ...            \n",
       "\n",
       "   YouTubeFCC  YouTubeFunFunFunction  YouTubeGoogleDev  YouTubeLearnCode  \\\n",
       "0         NaN                    NaN               NaN               NaN   \n",
       "1         1.0                    NaN               NaN               NaN   \n",
       "2         NaN                    NaN               NaN               1.0   \n",
       "3         1.0                    1.0               NaN               NaN   \n",
       "4         NaN                    NaN               NaN               NaN   \n",
       "\n",
       "   YouTubeLevelUpTuts  YouTubeMIT  YouTubeMozillaHacks YouTubeOther  \\\n",
       "0                 NaN         NaN                  NaN          NaN   \n",
       "1                 NaN         NaN                  NaN          NaN   \n",
       "2                 1.0         NaN                  NaN          NaN   \n",
       "3                 1.0         NaN                  NaN          NaN   \n",
       "4                 NaN         NaN                  NaN          NaN   \n",
       "\n",
       "   YouTubeSimplilearn  YouTubeTheNewBoston  \n",
       "0                 NaN                  NaN  \n",
       "1                 NaN                  NaN  \n",
       "2                 NaN                  NaN  \n",
       "3                 NaN                  NaN  \n",
       "4                 NaN                  NaN  \n",
       "\n",
       "[5 rows x 136 columns]"
      ]
     },
     "execution_count": 43,
     "metadata": {},
     "output_type": "execute_result"
    }
   ],
   "source": [
    "df_survey.head()"
   ]
  },
  {
   "cell_type": "code",
   "execution_count": 44,
   "metadata": {
    "collapsed": false
   },
   "outputs": [
    {
     "name": "stdout",
     "output_type": "stream",
     "text": [
      "<class 'pandas.core.frame.DataFrame'>\n",
      "RangeIndex: 18175 entries, 0 to 18174\n",
      "Columns: 136 entries, Age to YouTubeTheNewBoston\n",
      "dtypes: float64(105), object(31)\n",
      "memory usage: 18.9+ MB\n"
     ]
    }
   ],
   "source": [
    "df_survey.info()"
   ]
  },
  {
   "cell_type": "code",
   "execution_count": 45,
   "metadata": {
    "collapsed": false
   },
   "outputs": [
    {
     "data": {
      "text/html": [
       "<div>\n",
       "<style scoped>\n",
       "    .dataframe tbody tr th:only-of-type {\n",
       "        vertical-align: middle;\n",
       "    }\n",
       "\n",
       "    .dataframe tbody tr th {\n",
       "        vertical-align: top;\n",
       "    }\n",
       "\n",
       "    .dataframe thead th {\n",
       "        text-align: right;\n",
       "    }\n",
       "</style>\n",
       "<table border=\"1\" class=\"dataframe\">\n",
       "  <thead>\n",
       "    <tr style=\"text-align: right;\">\n",
       "      <th></th>\n",
       "      <th>Age</th>\n",
       "      <th>AttendedBootcamp</th>\n",
       "      <th>BootcampFinish</th>\n",
       "      <th>BootcampLoanYesNo</th>\n",
       "      <th>BootcampRecommend</th>\n",
       "      <th>ChildrenNumber</th>\n",
       "      <th>CodeEventConferences</th>\n",
       "      <th>CodeEventDjangoGirls</th>\n",
       "      <th>CodeEventFCC</th>\n",
       "      <th>CodeEventGameJam</th>\n",
       "      <th>...</th>\n",
       "      <th>YouTubeEngineeredTruth</th>\n",
       "      <th>YouTubeFCC</th>\n",
       "      <th>YouTubeFunFunFunction</th>\n",
       "      <th>YouTubeGoogleDev</th>\n",
       "      <th>YouTubeLearnCode</th>\n",
       "      <th>YouTubeLevelUpTuts</th>\n",
       "      <th>YouTubeMIT</th>\n",
       "      <th>YouTubeMozillaHacks</th>\n",
       "      <th>YouTubeSimplilearn</th>\n",
       "      <th>YouTubeTheNewBoston</th>\n",
       "    </tr>\n",
       "  </thead>\n",
       "  <tbody>\n",
       "    <tr>\n",
       "      <th>count</th>\n",
       "      <td>15367.000000</td>\n",
       "      <td>17709.000000</td>\n",
       "      <td>1069.000000</td>\n",
       "      <td>1079.000000</td>\n",
       "      <td>1073.000000</td>\n",
       "      <td>2314.000000</td>\n",
       "      <td>1609.0</td>\n",
       "      <td>165.0</td>\n",
       "      <td>1708.0</td>\n",
       "      <td>290.0</td>\n",
       "      <td>...</td>\n",
       "      <td>993.0</td>\n",
       "      <td>6036.0</td>\n",
       "      <td>1261.0</td>\n",
       "      <td>3539.0</td>\n",
       "      <td>2662.0</td>\n",
       "      <td>1396.0</td>\n",
       "      <td>3327.0</td>\n",
       "      <td>622.0</td>\n",
       "      <td>201.0</td>\n",
       "      <td>2960.0</td>\n",
       "    </tr>\n",
       "    <tr>\n",
       "      <th>mean</th>\n",
       "      <td>27.691872</td>\n",
       "      <td>0.062002</td>\n",
       "      <td>0.699719</td>\n",
       "      <td>0.305839</td>\n",
       "      <td>0.818267</td>\n",
       "      <td>1.832325</td>\n",
       "      <td>1.0</td>\n",
       "      <td>1.0</td>\n",
       "      <td>1.0</td>\n",
       "      <td>1.0</td>\n",
       "      <td>...</td>\n",
       "      <td>1.0</td>\n",
       "      <td>1.0</td>\n",
       "      <td>1.0</td>\n",
       "      <td>1.0</td>\n",
       "      <td>1.0</td>\n",
       "      <td>1.0</td>\n",
       "      <td>1.0</td>\n",
       "      <td>1.0</td>\n",
       "      <td>1.0</td>\n",
       "      <td>1.0</td>\n",
       "    </tr>\n",
       "    <tr>\n",
       "      <th>std</th>\n",
       "      <td>8.559239</td>\n",
       "      <td>0.241167</td>\n",
       "      <td>0.458594</td>\n",
       "      <td>0.460975</td>\n",
       "      <td>0.385805</td>\n",
       "      <td>0.972813</td>\n",
       "      <td>0.0</td>\n",
       "      <td>0.0</td>\n",
       "      <td>0.0</td>\n",
       "      <td>0.0</td>\n",
       "      <td>...</td>\n",
       "      <td>0.0</td>\n",
       "      <td>0.0</td>\n",
       "      <td>0.0</td>\n",
       "      <td>0.0</td>\n",
       "      <td>0.0</td>\n",
       "      <td>0.0</td>\n",
       "      <td>0.0</td>\n",
       "      <td>0.0</td>\n",
       "      <td>0.0</td>\n",
       "      <td>0.0</td>\n",
       "    </tr>\n",
       "    <tr>\n",
       "      <th>min</th>\n",
       "      <td>0.000000</td>\n",
       "      <td>0.000000</td>\n",
       "      <td>0.000000</td>\n",
       "      <td>0.000000</td>\n",
       "      <td>0.000000</td>\n",
       "      <td>1.000000</td>\n",
       "      <td>1.0</td>\n",
       "      <td>1.0</td>\n",
       "      <td>1.0</td>\n",
       "      <td>1.0</td>\n",
       "      <td>...</td>\n",
       "      <td>1.0</td>\n",
       "      <td>1.0</td>\n",
       "      <td>1.0</td>\n",
       "      <td>1.0</td>\n",
       "      <td>1.0</td>\n",
       "      <td>1.0</td>\n",
       "      <td>1.0</td>\n",
       "      <td>1.0</td>\n",
       "      <td>1.0</td>\n",
       "      <td>1.0</td>\n",
       "    </tr>\n",
       "    <tr>\n",
       "      <th>25%</th>\n",
       "      <td>22.000000</td>\n",
       "      <td>0.000000</td>\n",
       "      <td>0.000000</td>\n",
       "      <td>0.000000</td>\n",
       "      <td>1.000000</td>\n",
       "      <td>1.000000</td>\n",
       "      <td>1.0</td>\n",
       "      <td>1.0</td>\n",
       "      <td>1.0</td>\n",
       "      <td>1.0</td>\n",
       "      <td>...</td>\n",
       "      <td>1.0</td>\n",
       "      <td>1.0</td>\n",
       "      <td>1.0</td>\n",
       "      <td>1.0</td>\n",
       "      <td>1.0</td>\n",
       "      <td>1.0</td>\n",
       "      <td>1.0</td>\n",
       "      <td>1.0</td>\n",
       "      <td>1.0</td>\n",
       "      <td>1.0</td>\n",
       "    </tr>\n",
       "    <tr>\n",
       "      <th>50%</th>\n",
       "      <td>26.000000</td>\n",
       "      <td>0.000000</td>\n",
       "      <td>1.000000</td>\n",
       "      <td>0.000000</td>\n",
       "      <td>1.000000</td>\n",
       "      <td>2.000000</td>\n",
       "      <td>1.0</td>\n",
       "      <td>1.0</td>\n",
       "      <td>1.0</td>\n",
       "      <td>1.0</td>\n",
       "      <td>...</td>\n",
       "      <td>1.0</td>\n",
       "      <td>1.0</td>\n",
       "      <td>1.0</td>\n",
       "      <td>1.0</td>\n",
       "      <td>1.0</td>\n",
       "      <td>1.0</td>\n",
       "      <td>1.0</td>\n",
       "      <td>1.0</td>\n",
       "      <td>1.0</td>\n",
       "      <td>1.0</td>\n",
       "    </tr>\n",
       "    <tr>\n",
       "      <th>75%</th>\n",
       "      <td>32.000000</td>\n",
       "      <td>0.000000</td>\n",
       "      <td>1.000000</td>\n",
       "      <td>1.000000</td>\n",
       "      <td>1.000000</td>\n",
       "      <td>2.000000</td>\n",
       "      <td>1.0</td>\n",
       "      <td>1.0</td>\n",
       "      <td>1.0</td>\n",
       "      <td>1.0</td>\n",
       "      <td>...</td>\n",
       "      <td>1.0</td>\n",
       "      <td>1.0</td>\n",
       "      <td>1.0</td>\n",
       "      <td>1.0</td>\n",
       "      <td>1.0</td>\n",
       "      <td>1.0</td>\n",
       "      <td>1.0</td>\n",
       "      <td>1.0</td>\n",
       "      <td>1.0</td>\n",
       "      <td>1.0</td>\n",
       "    </tr>\n",
       "    <tr>\n",
       "      <th>max</th>\n",
       "      <td>90.000000</td>\n",
       "      <td>1.000000</td>\n",
       "      <td>1.000000</td>\n",
       "      <td>1.000000</td>\n",
       "      <td>1.000000</td>\n",
       "      <td>9.000000</td>\n",
       "      <td>1.0</td>\n",
       "      <td>1.0</td>\n",
       "      <td>1.0</td>\n",
       "      <td>1.0</td>\n",
       "      <td>...</td>\n",
       "      <td>1.0</td>\n",
       "      <td>1.0</td>\n",
       "      <td>1.0</td>\n",
       "      <td>1.0</td>\n",
       "      <td>1.0</td>\n",
       "      <td>1.0</td>\n",
       "      <td>1.0</td>\n",
       "      <td>1.0</td>\n",
       "      <td>1.0</td>\n",
       "      <td>1.0</td>\n",
       "    </tr>\n",
       "  </tbody>\n",
       "</table>\n",
       "<p>8 rows × 105 columns</p>\n",
       "</div>"
      ],
      "text/plain": [
       "                Age  AttendedBootcamp  BootcampFinish  BootcampLoanYesNo  \\\n",
       "count  15367.000000      17709.000000     1069.000000        1079.000000   \n",
       "mean      27.691872          0.062002        0.699719           0.305839   \n",
       "std        8.559239          0.241167        0.458594           0.460975   \n",
       "min        0.000000          0.000000        0.000000           0.000000   \n",
       "25%       22.000000          0.000000        0.000000           0.000000   \n",
       "50%       26.000000          0.000000        1.000000           0.000000   \n",
       "75%       32.000000          0.000000        1.000000           1.000000   \n",
       "max       90.000000          1.000000        1.000000           1.000000   \n",
       "\n",
       "       BootcampRecommend  ChildrenNumber  CodeEventConferences  \\\n",
       "count        1073.000000     2314.000000                1609.0   \n",
       "mean            0.818267        1.832325                   1.0   \n",
       "std             0.385805        0.972813                   0.0   \n",
       "min             0.000000        1.000000                   1.0   \n",
       "25%             1.000000        1.000000                   1.0   \n",
       "50%             1.000000        2.000000                   1.0   \n",
       "75%             1.000000        2.000000                   1.0   \n",
       "max             1.000000        9.000000                   1.0   \n",
       "\n",
       "       CodeEventDjangoGirls  CodeEventFCC  CodeEventGameJam  \\\n",
       "count                 165.0        1708.0             290.0   \n",
       "mean                    1.0           1.0               1.0   \n",
       "std                     0.0           0.0               0.0   \n",
       "min                     1.0           1.0               1.0   \n",
       "25%                     1.0           1.0               1.0   \n",
       "50%                     1.0           1.0               1.0   \n",
       "75%                     1.0           1.0               1.0   \n",
       "max                     1.0           1.0               1.0   \n",
       "\n",
       "              ...           YouTubeEngineeredTruth  YouTubeFCC  \\\n",
       "count         ...                            993.0      6036.0   \n",
       "mean          ...                              1.0         1.0   \n",
       "std           ...                              0.0         0.0   \n",
       "min           ...                              1.0         1.0   \n",
       "25%           ...                              1.0         1.0   \n",
       "50%           ...                              1.0         1.0   \n",
       "75%           ...                              1.0         1.0   \n",
       "max           ...                              1.0         1.0   \n",
       "\n",
       "       YouTubeFunFunFunction  YouTubeGoogleDev  YouTubeLearnCode  \\\n",
       "count                 1261.0            3539.0            2662.0   \n",
       "mean                     1.0               1.0               1.0   \n",
       "std                      0.0               0.0               0.0   \n",
       "min                      1.0               1.0               1.0   \n",
       "25%                      1.0               1.0               1.0   \n",
       "50%                      1.0               1.0               1.0   \n",
       "75%                      1.0               1.0               1.0   \n",
       "max                      1.0               1.0               1.0   \n",
       "\n",
       "       YouTubeLevelUpTuts  YouTubeMIT  YouTubeMozillaHacks  \\\n",
       "count              1396.0      3327.0                622.0   \n",
       "mean                  1.0         1.0                  1.0   \n",
       "std                   0.0         0.0                  0.0   \n",
       "min                   1.0         1.0                  1.0   \n",
       "25%                   1.0         1.0                  1.0   \n",
       "50%                   1.0         1.0                  1.0   \n",
       "75%                   1.0         1.0                  1.0   \n",
       "max                   1.0         1.0                  1.0   \n",
       "\n",
       "       YouTubeSimplilearn  YouTubeTheNewBoston  \n",
       "count               201.0               2960.0  \n",
       "mean                  1.0                  1.0  \n",
       "std                   0.0                  0.0  \n",
       "min                   1.0                  1.0  \n",
       "25%                   1.0                  1.0  \n",
       "50%                   1.0                  1.0  \n",
       "75%                   1.0                  1.0  \n",
       "max                   1.0                  1.0  \n",
       "\n",
       "[8 rows x 105 columns]"
      ]
     },
     "execution_count": 45,
     "metadata": {},
     "output_type": "execute_result"
    }
   ],
   "source": [
    "df_survey.describe()"
   ]
  },
  {
   "cell_type": "code",
   "execution_count": 46,
   "metadata": {
    "collapsed": false
   },
   "outputs": [
    {
     "data": {
      "text/plain": [
       "Age                       float64\n",
       "AttendedBootcamp          float64\n",
       "BootcampFinish            float64\n",
       "BootcampLoanYesNo         float64\n",
       "BootcampName               object\n",
       "BootcampRecommend         float64\n",
       "ChildrenNumber            float64\n",
       "CityPopulation             object\n",
       "CodeEventConferences      float64\n",
       "CodeEventDjangoGirls      float64\n",
       "CodeEventFCC              float64\n",
       "CodeEventGameJam          float64\n",
       "CodeEventGirlDev          float64\n",
       "CodeEventHackathons       float64\n",
       "CodeEventMeetup           float64\n",
       "CodeEventNodeSchool       float64\n",
       "CodeEventNone             float64\n",
       "CodeEventOther             object\n",
       "CodeEventRailsBridge      float64\n",
       "CodeEventRailsGirls       float64\n",
       "CodeEventStartUpWknd      float64\n",
       "CodeEventWkdBootcamps     float64\n",
       "CodeEventWomenCode        float64\n",
       "CodeEventWorkshops        float64\n",
       "CommuteTime                object\n",
       "CountryCitizen             object\n",
       "CountryLive                object\n",
       "EmploymentField            object\n",
       "EmploymentFieldOther       object\n",
       "EmploymentStatus           object\n",
       "                           ...   \n",
       "ResourceMDN               float64\n",
       "ResourceOdinProj          float64\n",
       "ResourceOther              object\n",
       "ResourcePluralSight       float64\n",
       "ResourceSkillcrush        float64\n",
       "ResourceSO                float64\n",
       "ResourceTreehouse         float64\n",
       "ResourceUdacity           float64\n",
       "ResourceUdemy             float64\n",
       "ResourceW3S               float64\n",
       "SchoolDegree               object\n",
       "SchoolMajor                object\n",
       "StudentDebtOwe            float64\n",
       "YouTubeCodeCourse         float64\n",
       "YouTubeCodingTrain        float64\n",
       "YouTubeCodingTut360       float64\n",
       "YouTubeComputerphile      float64\n",
       "YouTubeDerekBanas         float64\n",
       "YouTubeDevTips            float64\n",
       "YouTubeEngineeredTruth    float64\n",
       "YouTubeFCC                float64\n",
       "YouTubeFunFunFunction     float64\n",
       "YouTubeGoogleDev          float64\n",
       "YouTubeLearnCode          float64\n",
       "YouTubeLevelUpTuts        float64\n",
       "YouTubeMIT                float64\n",
       "YouTubeMozillaHacks       float64\n",
       "YouTubeOther               object\n",
       "YouTubeSimplilearn        float64\n",
       "YouTubeTheNewBoston       float64\n",
       "Length: 136, dtype: object"
      ]
     },
     "execution_count": 46,
     "metadata": {},
     "output_type": "execute_result"
    }
   ],
   "source": [
    "df_survey.dtypes"
   ]
  },
  {
   "cell_type": "markdown",
   "metadata": {},
   "source": [
    "# Checking for Sample Representativity\n",
    "\n",
    "Most of our courses are focus on web and mobile development, but we also cover other domains such as data science, game dev, etc. We'd like to know\n",
    "- Where are the new coders located\n",
    "- what are the locations with the greatest number of new coders. \n",
    "- How much money new coders are willing to spend on learning. \n",
    "\n",
    "Before working with the sample data, we'd like to know whether the sample is representative to population or not. "
   ]
  },
  {
   "cell_type": "markdown",
   "metadata": {},
   "source": [
    "## Frequency Distribution Interest "
   ]
  },
  {
   "cell_type": "code",
   "execution_count": 47,
   "metadata": {
    "collapsed": false
   },
   "outputs": [
    {
     "data": {
      "text/plain": [
       "Full-Stack Web Developer                                                                                                                                                                    0.117706\n",
       "  Front-End Web Developer                                                                                                                                                                   0.064359\n",
       "  Data Scientist                                                                                                                                                                            0.021739\n",
       "Back-End Web Developer                                                                                                                                                                      0.020309\n",
       "  Mobile Developer                                                                                                                                                                          0.016733\n",
       "Game Developer                                                                                                                                                                              0.016304\n",
       "Information Security                                                                                                                                                                        0.013158\n",
       "Full-Stack Web Developer,   Front-End Web Developer                                                                                                                                         0.009153\n",
       "  Front-End Web Developer, Full-Stack Web Developer                                                                                                                                         0.008009\n",
       "  Product Manager                                                                                                                                                                           0.007866\n",
       "Data Engineer                                                                                                                                                                               0.007580\n",
       "  User Experience Designer                                                                                                                                                                  0.007437\n",
       "  User Experience Designer,   Front-End Web Developer                                                                                                                                       0.006150\n",
       "  Front-End Web Developer, Back-End Web Developer, Full-Stack Web Developer                                                                                                                 0.005578\n",
       "Back-End Web Developer, Full-Stack Web Developer,   Front-End Web Developer                                                                                                                 0.005149\n",
       "Back-End Web Developer,   Front-End Web Developer, Full-Stack Web Developer                                                                                                                 0.005149\n",
       "  DevOps / SysAdmin                                                                                                                                                                         0.005149\n",
       "Full-Stack Web Developer,   Front-End Web Developer, Back-End Web Developer                                                                                                                 0.004434\n",
       "  Front-End Web Developer, Full-Stack Web Developer, Back-End Web Developer                                                                                                                 0.004291\n",
       "  Front-End Web Developer,   User Experience Designer                                                                                                                                       0.004148\n",
       "Full-Stack Web Developer,   Mobile Developer                                                                                                                                                0.004148\n",
       "Back-End Web Developer, Full-Stack Web Developer                                                                                                                                            0.003862\n",
       "Full-Stack Web Developer, Back-End Web Developer                                                                                                                                            0.003719\n",
       "Back-End Web Developer,   Front-End Web Developer                                                                                                                                           0.002860\n",
       "Full-Stack Web Developer, Back-End Web Developer,   Front-End Web Developer                                                                                                                 0.002717\n",
       "Data Engineer,   Data Scientist                                                                                                                                                             0.002717\n",
       "  Front-End Web Developer,   Mobile Developer                                                                                                                                               0.002574\n",
       "Full-Stack Web Developer,   Data Scientist                                                                                                                                                  0.002431\n",
       "  Mobile Developer, Game Developer                                                                                                                                                          0.002288\n",
       "  Data Scientist, Data Engineer                                                                                                                                                             0.002288\n",
       "                                                                                                                                                                                              ...   \n",
       "Back-End Web Developer, Full-Stack Web Developer,   Data Scientist,   Front-End Web Developer,   User Experience Designer, Data Engineer,   Mobile Developer, Machine Learning Engineer     0.000143\n",
       "Full-Stack Web Developer,   User Experience Designer,   Mobile Developer, Information Security                                                                                              0.000143\n",
       "Game Developer, Full-Stack Web Developer,   Front-End Web Developer,   Mobile Developer,   User Experience Designer                                                                         0.000143\n",
       "Back-End Web Developer,   Front-End Web Developer, Information Security, Full-Stack Web Developer,   Data Scientist                                                                         0.000143\n",
       "Full-Stack Web Developer, Back-End Web Developer,   Mobile Developer, Information Security                                                                                                  0.000143\n",
       "  Quality Assurance Engineer,   Front-End Web Developer,   Product Manager,   User Experience Designer                                                                                      0.000143\n",
       "Data Engineer,   Data Scientist,   DevOps / SysAdmin, Information Security, Back-End Web Developer, Full-Stack Web Developer,   Mobile Developer                                            0.000143\n",
       "Game Developer, Programmer                                                                                                                                                                  0.000143\n",
       "  User Experience Designer, Back-End Web Developer,   Front-End Web Developer,   DevOps / SysAdmin, Information Security, Full-Stack Web Developer,   Mobile Developer                      0.000143\n",
       "Urban Planner                                                                                                                                                                               0.000143\n",
       "  DevOps / SysAdmin, Game Developer, Information Security, Full-Stack Web Developer                                                                                                         0.000143\n",
       "  DevOps / SysAdmin,   Mobile Developer,   Quality Assurance Engineer,   Front-End Web Developer                                                                                            0.000143\n",
       "Machine learning engineer                                                                                                                                                                   0.000143\n",
       "  Quality Assurance Engineer, Information Security                                                                                                                                          0.000143\n",
       "  Mobile Developer,   Product Manager,   User Experience Designer, Information Security                                                                                                     0.000143\n",
       "  Product Manager, Full-Stack Web Developer,   Data Scientist,   Front-End Web Developer,   Mobile Developer                                                                                0.000143\n",
       "  Mobile Developer, Data Engineer, Back-End Web Developer, Game Developer,   Front-End Web Developer,   Data Scientist, Full-Stack Web Developer,   User Experience Designer                0.000143\n",
       "Back-End Web Developer,   Front-End Web Developer, Game Developer, Information Security, Full-Stack Web Developer,   DevOps / SysAdmin                                                      0.000143\n",
       "Full-Stack Web Developer,   Product Manager,   Front-End Web Developer,   Mobile Developer,   User Experience Designer                                                                      0.000143\n",
       "  Front-End Web Developer, Back-End Web Developer, Full-Stack Web Developer, Game Developer,   Mobile Developer                                                                             0.000143\n",
       "Game Developer,   DevOps / SysAdmin,   Mobile Developer, Back-End Web Developer, Information Security, Data Engineer                                                                        0.000143\n",
       "Back-End Web Developer,   Product Manager, Data Engineer, Game Developer,   Quality Assurance Engineer,   Data Scientist, Full-Stack Web Developer,   DevOps / SysAdmin                     0.000143\n",
       "Back-End Web Developer, Data Engineer,   Data Scientist,   DevOps / SysAdmin                                                                                                                0.000143\n",
       "  Front-End Web Developer,   Data Scientist, Full-Stack Web Developer,   Mobile Developer,   User Experience Designer, Data Engineer                                                        0.000143\n",
       "Back-End Web Developer,   User Experience Designer,   Front-End Web Developer, Full-Stack Web Developer, Data Engineer,   DevOps / SysAdmin,   Mobile Developer                             0.000143\n",
       "  Front-End Web Developer,   Mobile Developer,   Product Manager,   DevOps / SysAdmin, Full-Stack Web Developer, Game Developer, Back-End Web Developer                                     0.000143\n",
       "  DevOps / SysAdmin, Information Security,   Mobile Developer, Back-End Web Developer                                                                                                       0.000143\n",
       "  Mobile Developer,   Product Manager, Full-Stack Web Developer, Back-End Web Developer, Information Security                                                                               0.000143\n",
       "  Data Scientist,   Product Manager,   User Experience Designer, Data Engineer                                                                                                              0.000143\n",
       "  Mobile Developer,   Front-End Web Developer, Game Developer,   Product Manager, Back-End Web Developer, Full-Stack Web Developer                                                          0.000143\n",
       "Name: JobRoleInterest, Length: 3213, dtype: float64"
      ]
     },
     "execution_count": 47,
     "metadata": {},
     "output_type": "execute_result"
    }
   ],
   "source": [
    "df_survey['JobRoleInterest'].value_counts(normalize=True).sort_values(ascending=False)"
   ]
  },
  {
   "cell_type": "markdown",
   "metadata": {},
   "source": [
    "### Insights:\n",
    "- a lot of people interest in web dev\n",
    "- a few people interest in mobile dev\n",
    "- a very few people interest in other field besides mobile dev and web dev\n",
    "\n",
    "The result shows there are still data that need to be split because many respondent interest in more than one field so we need to split it to get the real result. "
   ]
  },
  {
   "cell_type": "code",
   "execution_count": 48,
   "metadata": {
    "collapsed": false,
    "scrolled": true
   },
   "outputs": [
    {
     "data": {
      "text/plain": [
       "1                               [Full-Stack Web Developer]\n",
       "2        [  Front-End Web Developer,  Back-End Web Deve...\n",
       "3        [  Front-End Web Developer,  Full-Stack Web De...\n",
       "4        [Full-Stack Web Developer,  Information Securi...\n",
       "6                               [Full-Stack Web Developer]\n",
       "9        [Full-Stack Web Developer,    Quality Assuranc...\n",
       "11       [  DevOps / SysAdmin,    Data Scientist,  Info...\n",
       "13       [Back-End Web Developer,  Full-Stack Web Devel...\n",
       "14                              [Full-Stack Web Developer]\n",
       "15                              [Full-Stack Web Developer]\n",
       "16                              [Full-Stack Web Developer]\n",
       "18       [Full-Stack Web Developer,    Front-End Web De...\n",
       "19       [  Front-End Web Developer,    Mobile Develope...\n",
       "21                                  [Information Security]\n",
       "22                              [Full-Stack Web Developer]\n",
       "23                                [Back-End Web Developer]\n",
       "28                              [Full-Stack Web Developer]\n",
       "29       [  Front-End Web Developer,    Data Scientist,...\n",
       "30       [Back-End Web Developer,  Full-Stack Web Devel...\n",
       "31                             [  Front-End Web Developer]\n",
       "32       [  Data Scientist,  Information Security,  Dat...\n",
       "33       [Full-Stack Web Developer,    Quality Assuranc...\n",
       "34       [Back-End Web Developer,  Full-Stack Web Devel...\n",
       "35       [Back-End Web Developer,  Full-Stack Web Devel...\n",
       "37                [  Mobile Developer,    Product Manager]\n",
       "40       [  Front-End Web Developer,  Back-End Web Deve...\n",
       "41                             [  Front-End Web Developer]\n",
       "42                              [Full-Stack Web Developer]\n",
       "43       [Back-End Web Developer,    Front-End Web Deve...\n",
       "52       [  Data Scientist,  Game Developer,  Full-Stac...\n",
       "                               ...                        \n",
       "18080     [  Mobile Developer,    Front-End Web Developer]\n",
       "18081    [Full-Stack Web Developer,  Back-End Web Devel...\n",
       "18088                           [Full-Stack Web Developer]\n",
       "18089                       [  Quality Assurance Engineer]\n",
       "18090    [Game Developer,    Data Scientist,  Full-Stac...\n",
       "18093     [  Front-End Web Developer,    Mobile Developer]\n",
       "18097    [Game Developer,    Mobile Developer,  Full-St...\n",
       "18098    [  Front-End Web Developer,  Full-Stack Web De...\n",
       "18099                           [Full-Stack Web Developer]\n",
       "18107                           [Full-Stack Web Developer]\n",
       "18111                [  Mobile Developer,  Game Developer]\n",
       "18112    [  Mobile Developer,  Game Developer,  Full-St...\n",
       "18113                [  Mobile Developer,  Game Developer]\n",
       "18118    [  DevOps / SysAdmin,  Full-Stack Web Develope...\n",
       "18125    [  Front-End Web Developer,  Full-Stack Web De...\n",
       "18129                                 [  Mobile Developer]\n",
       "18130    [  Front-End Web Developer,    User Experience...\n",
       "18131    [Game Developer,    Front-End Web Developer,  ...\n",
       "18151                          [  Front-End Web Developer]\n",
       "18153    [Information Security,  Full-Stack Web Developer]\n",
       "18154                           [Full-Stack Web Developer]\n",
       "18155    [Full-Stack Web Developer,    Front-End Web De...\n",
       "18156                           [Full-Stack Web Developer]\n",
       "18157    [Back-End Web Developer,  Data Engineer,    Mo...\n",
       "18160                         [  User Experience Designer]\n",
       "18161                           [Full-Stack Web Developer]\n",
       "18162    [  Data Scientist,  Game Developer,    Quality...\n",
       "18163    [Back-End Web Developer,  Data Engineer,    Da...\n",
       "18171    [  DevOps / SysAdmin,    Mobile Developer,    ...\n",
       "18174    [Back-End Web Developer,  Data Engineer,    Da...\n",
       "Name: JobRoleInterest, Length: 6992, dtype: object"
      ]
     },
     "execution_count": 48,
     "metadata": {},
     "output_type": "execute_result"
    }
   ],
   "source": [
    "role_interest = df_survey['JobRoleInterest'].dropna()\n",
    "role_interest_split = role_interest.str.split(',')\n",
    "role_interest_split"
   ]
  },
  {
   "cell_type": "code",
   "execution_count": 49,
   "metadata": {
    "collapsed": false
   },
   "outputs": [
    {
     "name": "stdout",
     "output_type": "stream",
     "text": [
      "3.0\n",
      "=================\n",
      "1     31.650458\n",
      "3     15.889588\n",
      "4     15.217391\n",
      "5     12.042334\n",
      "2     10.883867\n",
      "6      6.721968\n",
      "7      3.861556\n",
      "8      1.759153\n",
      "9      0.986842\n",
      "10     0.471968\n",
      "12     0.300343\n",
      "11     0.185927\n",
      "13     0.028604\n",
      "Name: JobRoleInterest, dtype: float64\n"
     ]
    }
   ],
   "source": [
    "n_options = role_interest_split.apply(lambda x: len(x))\n",
    "print(n_options.median())\n",
    "print(\"=================\")\n",
    "print(n_options.value_counts(normalize=True) * 100)"
   ]
  },
  {
   "cell_type": "markdown",
   "metadata": {
    "collapsed": false
   },
   "source": [
    "### Insights:\n",
    "It turns out 31% people already decided what field they are interested in and the rest are interest to many subjects. "
   ]
  },
  {
   "cell_type": "code",
   "execution_count": 50,
   "metadata": {
    "collapsed": false
   },
   "outputs": [
    {
     "data": {
      "text/plain": [
       "True     0.862414\n",
       "False    0.137586\n",
       "Name: JobRoleInterest, dtype: float64"
      ]
     },
     "execution_count": 50,
     "metadata": {},
     "output_type": "execute_result"
    }
   ],
   "source": [
    "web_or_mobile = role_interest.str.contains('Web Developer|Mobile Developer')\n",
    "web_or_mobile.value_counts(normalize=True)"
   ]
  },
  {
   "cell_type": "code",
   "execution_count": 51,
   "metadata": {
    "collapsed": false
   },
   "outputs": [
    {
     "data": {
      "text/plain": [
       "([<matplotlib.axis.XTick at 0x7f1de30eb978>,\n",
       "  <matplotlib.axis.XTick at 0x7f1d86045b38>],\n",
       " <a list of 2 Text xticklabel objects>)"
      ]
     },
     "execution_count": 51,
     "metadata": {},
     "output_type": "execute_result"
    },
    {
     "data": {
      "image/png": "[encoded data removed]",
      "text/plain": [
       "<matplotlib.figure.Figure at 0x7f1d8623d6a0>"
      ]
     },
     "metadata": {},
     "output_type": "display_data"
    }
   ],
   "source": [
    "#freq table\n",
    "freq_table = web_or_mobile.value_counts(normalize=True) * 100\n",
    "plt.style.use('fivethirtyeight')\n",
    "freq_table.plot.bar()\n",
    "plt.title(\"Most Participants Interested \\nin web or Mobile Development\",y=1.08)\n",
    "plt.ylabel(\"Percentage\",fontsize=12)\n",
    "plt.xticks([0,1],['Web/Mobile Developer','Other Subjects'],rotation=0)"
   ]
  },
  {
   "cell_type": "markdown",
   "metadata": {},
   "source": [
    "### Insights:\n",
    "86% of respondents are interest in web/mobile developer, this means the data is representative to our goal which is to found these things about people who interest in web/mobile developer:\n",
    "- Where are the new coders located\n",
    "- what are the locations with the greatest number of new coders. \n",
    "- How much money new coders are willing to spend on learning. \n"
   ]
  },
  {
   "cell_type": "markdown",
   "metadata": {},
   "source": [
    "# Location"
   ]
  },
  {
   "cell_type": "code",
   "execution_count": 52,
   "metadata": {
    "collapsed": true
   },
   "outputs": [],
   "source": [
    "# Dropping not respond row and creating frequency\n",
    "df_notnull = df_survey[df_survey[\"JobRoleInterest\"].notnull()].copy()\n",
    "abs_country = df_notnull[\"CountryLive\"].value_counts()\n",
    "rel_country = df_notnull[\"CountryLive\"].value_counts(normalize=True) * 100"
   ]
  },
  {
   "cell_type": "code",
   "execution_count": 53,
   "metadata": {
    "collapsed": false
   },
   "outputs": [
    {
     "data": {
      "text/html": [
       "<div>\n",
       "<style scoped>\n",
       "    .dataframe tbody tr th:only-of-type {\n",
       "        vertical-align: middle;\n",
       "    }\n",
       "\n",
       "    .dataframe tbody tr th {\n",
       "        vertical-align: top;\n",
       "    }\n",
       "\n",
       "    .dataframe thead th {\n",
       "        text-align: right;\n",
       "    }\n",
       "</style>\n",
       "<table border=\"1\" class=\"dataframe\">\n",
       "  <thead>\n",
       "    <tr style=\"text-align: right;\">\n",
       "      <th></th>\n",
       "      <th>abs_country</th>\n",
       "      <th>rel_country</th>\n",
       "    </tr>\n",
       "  </thead>\n",
       "  <tbody>\n",
       "    <tr>\n",
       "      <th>United States of America</th>\n",
       "      <td>3125</td>\n",
       "      <td>45.700497</td>\n",
       "    </tr>\n",
       "    <tr>\n",
       "      <th>India</th>\n",
       "      <td>528</td>\n",
       "      <td>7.721556</td>\n",
       "    </tr>\n",
       "    <tr>\n",
       "      <th>United Kingdom</th>\n",
       "      <td>315</td>\n",
       "      <td>4.606610</td>\n",
       "    </tr>\n",
       "    <tr>\n",
       "      <th>Canada</th>\n",
       "      <td>260</td>\n",
       "      <td>3.802281</td>\n",
       "    </tr>\n",
       "    <tr>\n",
       "      <th>Poland</th>\n",
       "      <td>131</td>\n",
       "      <td>1.915765</td>\n",
       "    </tr>\n",
       "    <tr>\n",
       "      <th>Brazil</th>\n",
       "      <td>129</td>\n",
       "      <td>1.886517</td>\n",
       "    </tr>\n",
       "    <tr>\n",
       "      <th>Germany</th>\n",
       "      <td>125</td>\n",
       "      <td>1.828020</td>\n",
       "    </tr>\n",
       "    <tr>\n",
       "      <th>Australia</th>\n",
       "      <td>112</td>\n",
       "      <td>1.637906</td>\n",
       "    </tr>\n",
       "    <tr>\n",
       "      <th>Russia</th>\n",
       "      <td>102</td>\n",
       "      <td>1.491664</td>\n",
       "    </tr>\n",
       "    <tr>\n",
       "      <th>Ukraine</th>\n",
       "      <td>89</td>\n",
       "      <td>1.301550</td>\n",
       "    </tr>\n",
       "    <tr>\n",
       "      <th>Nigeria</th>\n",
       "      <td>84</td>\n",
       "      <td>1.228429</td>\n",
       "    </tr>\n",
       "    <tr>\n",
       "      <th>Spain</th>\n",
       "      <td>77</td>\n",
       "      <td>1.126060</td>\n",
       "    </tr>\n",
       "    <tr>\n",
       "      <th>France</th>\n",
       "      <td>75</td>\n",
       "      <td>1.096812</td>\n",
       "    </tr>\n",
       "    <tr>\n",
       "      <th>Romania</th>\n",
       "      <td>71</td>\n",
       "      <td>1.038315</td>\n",
       "    </tr>\n",
       "    <tr>\n",
       "      <th>Netherlands (Holland, Europe)</th>\n",
       "      <td>65</td>\n",
       "      <td>0.950570</td>\n",
       "    </tr>\n",
       "    <tr>\n",
       "      <th>Italy</th>\n",
       "      <td>62</td>\n",
       "      <td>0.906698</td>\n",
       "    </tr>\n",
       "    <tr>\n",
       "      <th>Serbia</th>\n",
       "      <td>52</td>\n",
       "      <td>0.760456</td>\n",
       "    </tr>\n",
       "    <tr>\n",
       "      <th>Philippines</th>\n",
       "      <td>52</td>\n",
       "      <td>0.760456</td>\n",
       "    </tr>\n",
       "    <tr>\n",
       "      <th>Greece</th>\n",
       "      <td>46</td>\n",
       "      <td>0.672711</td>\n",
       "    </tr>\n",
       "    <tr>\n",
       "      <th>Ireland</th>\n",
       "      <td>43</td>\n",
       "      <td>0.628839</td>\n",
       "    </tr>\n",
       "    <tr>\n",
       "      <th>South Africa</th>\n",
       "      <td>39</td>\n",
       "      <td>0.570342</td>\n",
       "    </tr>\n",
       "    <tr>\n",
       "      <th>Mexico</th>\n",
       "      <td>37</td>\n",
       "      <td>0.541094</td>\n",
       "    </tr>\n",
       "    <tr>\n",
       "      <th>Turkey</th>\n",
       "      <td>36</td>\n",
       "      <td>0.526470</td>\n",
       "    </tr>\n",
       "    <tr>\n",
       "      <th>Hungary</th>\n",
       "      <td>34</td>\n",
       "      <td>0.497221</td>\n",
       "    </tr>\n",
       "    <tr>\n",
       "      <th>Singapore</th>\n",
       "      <td>34</td>\n",
       "      <td>0.497221</td>\n",
       "    </tr>\n",
       "    <tr>\n",
       "      <th>New Zealand</th>\n",
       "      <td>33</td>\n",
       "      <td>0.482597</td>\n",
       "    </tr>\n",
       "    <tr>\n",
       "      <th>Croatia</th>\n",
       "      <td>32</td>\n",
       "      <td>0.467973</td>\n",
       "    </tr>\n",
       "    <tr>\n",
       "      <th>Argentina</th>\n",
       "      <td>32</td>\n",
       "      <td>0.467973</td>\n",
       "    </tr>\n",
       "    <tr>\n",
       "      <th>Pakistan</th>\n",
       "      <td>31</td>\n",
       "      <td>0.453349</td>\n",
       "    </tr>\n",
       "    <tr>\n",
       "      <th>Sweden</th>\n",
       "      <td>31</td>\n",
       "      <td>0.453349</td>\n",
       "    </tr>\n",
       "    <tr>\n",
       "      <th>...</th>\n",
       "      <td>...</td>\n",
       "      <td>...</td>\n",
       "    </tr>\n",
       "    <tr>\n",
       "      <th>Bolivia</th>\n",
       "      <td>1</td>\n",
       "      <td>0.014624</td>\n",
       "    </tr>\n",
       "    <tr>\n",
       "      <th>Sudan</th>\n",
       "      <td>1</td>\n",
       "      <td>0.014624</td>\n",
       "    </tr>\n",
       "    <tr>\n",
       "      <th>Aruba</th>\n",
       "      <td>1</td>\n",
       "      <td>0.014624</td>\n",
       "    </tr>\n",
       "    <tr>\n",
       "      <th>Nambia</th>\n",
       "      <td>1</td>\n",
       "      <td>0.014624</td>\n",
       "    </tr>\n",
       "    <tr>\n",
       "      <th>Liberia</th>\n",
       "      <td>1</td>\n",
       "      <td>0.014624</td>\n",
       "    </tr>\n",
       "    <tr>\n",
       "      <th>Samoa</th>\n",
       "      <td>1</td>\n",
       "      <td>0.014624</td>\n",
       "    </tr>\n",
       "    <tr>\n",
       "      <th>Cuba</th>\n",
       "      <td>1</td>\n",
       "      <td>0.014624</td>\n",
       "    </tr>\n",
       "    <tr>\n",
       "      <th>Botswana</th>\n",
       "      <td>1</td>\n",
       "      <td>0.014624</td>\n",
       "    </tr>\n",
       "    <tr>\n",
       "      <th>Trinidad &amp; Tobago</th>\n",
       "      <td>1</td>\n",
       "      <td>0.014624</td>\n",
       "    </tr>\n",
       "    <tr>\n",
       "      <th>Somalia</th>\n",
       "      <td>1</td>\n",
       "      <td>0.014624</td>\n",
       "    </tr>\n",
       "    <tr>\n",
       "      <th>Angola</th>\n",
       "      <td>1</td>\n",
       "      <td>0.014624</td>\n",
       "    </tr>\n",
       "    <tr>\n",
       "      <th>Nicaragua</th>\n",
       "      <td>1</td>\n",
       "      <td>0.014624</td>\n",
       "    </tr>\n",
       "    <tr>\n",
       "      <th>Anguilla</th>\n",
       "      <td>1</td>\n",
       "      <td>0.014624</td>\n",
       "    </tr>\n",
       "    <tr>\n",
       "      <th>Guadeloupe</th>\n",
       "      <td>1</td>\n",
       "      <td>0.014624</td>\n",
       "    </tr>\n",
       "    <tr>\n",
       "      <th>Turkmenistan</th>\n",
       "      <td>1</td>\n",
       "      <td>0.014624</td>\n",
       "    </tr>\n",
       "    <tr>\n",
       "      <th>Guatemala</th>\n",
       "      <td>1</td>\n",
       "      <td>0.014624</td>\n",
       "    </tr>\n",
       "    <tr>\n",
       "      <th>Cameroon</th>\n",
       "      <td>1</td>\n",
       "      <td>0.014624</td>\n",
       "    </tr>\n",
       "    <tr>\n",
       "      <th>Gambia</th>\n",
       "      <td>1</td>\n",
       "      <td>0.014624</td>\n",
       "    </tr>\n",
       "    <tr>\n",
       "      <th>Mozambique</th>\n",
       "      <td>1</td>\n",
       "      <td>0.014624</td>\n",
       "    </tr>\n",
       "    <tr>\n",
       "      <th>Qatar</th>\n",
       "      <td>1</td>\n",
       "      <td>0.014624</td>\n",
       "    </tr>\n",
       "    <tr>\n",
       "      <th>Rwanda</th>\n",
       "      <td>1</td>\n",
       "      <td>0.014624</td>\n",
       "    </tr>\n",
       "    <tr>\n",
       "      <th>Kyrgyzstan</th>\n",
       "      <td>1</td>\n",
       "      <td>0.014624</td>\n",
       "    </tr>\n",
       "    <tr>\n",
       "      <th>Gibraltar</th>\n",
       "      <td>1</td>\n",
       "      <td>0.014624</td>\n",
       "    </tr>\n",
       "    <tr>\n",
       "      <th>Yemen</th>\n",
       "      <td>1</td>\n",
       "      <td>0.014624</td>\n",
       "    </tr>\n",
       "    <tr>\n",
       "      <th>Channel Islands</th>\n",
       "      <td>1</td>\n",
       "      <td>0.014624</td>\n",
       "    </tr>\n",
       "    <tr>\n",
       "      <th>Papua New Guinea</th>\n",
       "      <td>1</td>\n",
       "      <td>0.014624</td>\n",
       "    </tr>\n",
       "    <tr>\n",
       "      <th>Jordan</th>\n",
       "      <td>1</td>\n",
       "      <td>0.014624</td>\n",
       "    </tr>\n",
       "    <tr>\n",
       "      <th>Vanuatu</th>\n",
       "      <td>1</td>\n",
       "      <td>0.014624</td>\n",
       "    </tr>\n",
       "    <tr>\n",
       "      <th>Myanmar</th>\n",
       "      <td>1</td>\n",
       "      <td>0.014624</td>\n",
       "    </tr>\n",
       "    <tr>\n",
       "      <th>Cayman Islands</th>\n",
       "      <td>1</td>\n",
       "      <td>0.014624</td>\n",
       "    </tr>\n",
       "  </tbody>\n",
       "</table>\n",
       "<p>137 rows × 2 columns</p>\n",
       "</div>"
      ],
      "text/plain": [
       "                               abs_country  rel_country\n",
       "United States of America              3125    45.700497\n",
       "India                                  528     7.721556\n",
       "United Kingdom                         315     4.606610\n",
       "Canada                                 260     3.802281\n",
       "Poland                                 131     1.915765\n",
       "Brazil                                 129     1.886517\n",
       "Germany                                125     1.828020\n",
       "Australia                              112     1.637906\n",
       "Russia                                 102     1.491664\n",
       "Ukraine                                 89     1.301550\n",
       "Nigeria                                 84     1.228429\n",
       "Spain                                   77     1.126060\n",
       "France                                  75     1.096812\n",
       "Romania                                 71     1.038315\n",
       "Netherlands (Holland, Europe)           65     0.950570\n",
       "Italy                                   62     0.906698\n",
       "Serbia                                  52     0.760456\n",
       "Philippines                             52     0.760456\n",
       "Greece                                  46     0.672711\n",
       "Ireland                                 43     0.628839\n",
       "South Africa                            39     0.570342\n",
       "Mexico                                  37     0.541094\n",
       "Turkey                                  36     0.526470\n",
       "Hungary                                 34     0.497221\n",
       "Singapore                               34     0.497221\n",
       "New Zealand                             33     0.482597\n",
       "Croatia                                 32     0.467973\n",
       "Argentina                               32     0.467973\n",
       "Pakistan                                31     0.453349\n",
       "Sweden                                  31     0.453349\n",
       "...                                    ...          ...\n",
       "Bolivia                                  1     0.014624\n",
       "Sudan                                    1     0.014624\n",
       "Aruba                                    1     0.014624\n",
       "Nambia                                   1     0.014624\n",
       "Liberia                                  1     0.014624\n",
       "Samoa                                    1     0.014624\n",
       "Cuba                                     1     0.014624\n",
       "Botswana                                 1     0.014624\n",
       "Trinidad & Tobago                        1     0.014624\n",
       "Somalia                                  1     0.014624\n",
       "Angola                                   1     0.014624\n",
       "Nicaragua                                1     0.014624\n",
       "Anguilla                                 1     0.014624\n",
       "Guadeloupe                               1     0.014624\n",
       "Turkmenistan                             1     0.014624\n",
       "Guatemala                                1     0.014624\n",
       "Cameroon                                 1     0.014624\n",
       "Gambia                                   1     0.014624\n",
       "Mozambique                               1     0.014624\n",
       "Qatar                                    1     0.014624\n",
       "Rwanda                                   1     0.014624\n",
       "Kyrgyzstan                               1     0.014624\n",
       "Gibraltar                                1     0.014624\n",
       "Yemen                                    1     0.014624\n",
       "Channel Islands                          1     0.014624\n",
       "Papua New Guinea                         1     0.014624\n",
       "Jordan                                   1     0.014624\n",
       "Vanuatu                                  1     0.014624\n",
       "Myanmar                                  1     0.014624\n",
       "Cayman Islands                           1     0.014624\n",
       "\n",
       "[137 rows x 2 columns]"
      ]
     },
     "execution_count": 53,
     "metadata": {},
     "output_type": "execute_result"
    }
   ],
   "source": [
    "freq_country = pd.DataFrame(data={\n",
    "    'abs_country':abs_country,\n",
    "    'rel_country':rel_country\n",
    "})\n",
    "\n",
    "freq_country"
   ]
  },
  {
   "cell_type": "markdown",
   "metadata": {
    "collapsed": true
   },
   "source": [
    "### Insights\n",
    "U.S. is the no.1 country we should advertise in because it has the most respondents. But which no.2 country should we pick? India is the second place in frequncy but the difference between the no.3 UK is not so big. We shoud dig more about this.\n"
   ]
  },
  {
   "cell_type": "markdown",
   "metadata": {},
   "source": [
    "## ============================================ "
   ]
  },
  {
   "cell_type": "markdown",
   "metadata": {},
   "source": [
    "# Spending Money for learn \n",
    "Our company sells web dev and mobile dev education with cost of $59, so we need to know what is the respondents budget for learning"
   ]
  },
  {
   "cell_type": "code",
   "execution_count": 54,
   "metadata": {
    "collapsed": true
   },
   "outputs": [],
   "source": [
    "df_notnull[\"MonthsProgramming\"] = df_notnull[\"MonthsProgramming\"].replace(0,1)\n",
    "df_notnull[\"cost/month\"] = df_notnull[\"MoneyForLearning\"] / df_notnull[\"MonthsProgramming\"]"
   ]
  },
  {
   "cell_type": "code",
   "execution_count": 55,
   "metadata": {
    "collapsed": false
   },
   "outputs": [
    {
     "data": {
      "text/plain": [
       "14031    100.000000\n",
       "17483     50.000000\n",
       "3858       0.000000\n",
       "8985       0.000000\n",
       "7159      16.666667\n",
       "17099      2.592593\n",
       "4761      20.000000\n",
       "6311            NaN\n",
       "960             NaN\n",
       "12403      0.000000\n",
       "5037            NaN\n",
       "7307       0.000000\n",
       "14869      0.000000\n",
       "16704           NaN\n",
       "3589       5.000000\n",
       "3087       0.000000\n",
       "7480       0.000000\n",
       "16865     16.666667\n",
       "8677      41.666667\n",
       "13497      0.000000\n",
       "Name: cost/month, dtype: float64"
      ]
     },
     "execution_count": 55,
     "metadata": {},
     "output_type": "execute_result"
    }
   ],
   "source": [
    "df_notnull[\"cost/month\"].sample(20)"
   ]
  },
  {
   "cell_type": "markdown",
   "metadata": {},
   "source": [
    "#### Insights: There are some NaN values. We should remove it "
   ]
  },
  {
   "cell_type": "code",
   "execution_count": 56,
   "metadata": {
    "collapsed": true
   },
   "outputs": [],
   "source": [
    "df_notnull = df_notnull[df_notnull[\"cost/month\"].notnull()]\n",
    "df_notnull = df_notnull[df_notnull[\"CountryLive\"].notnull()]\n",
    "cost_per_country = df_notnull.groupby(\"CountryLive\").mean()"
   ]
  },
  {
   "cell_type": "code",
   "execution_count": 57,
   "metadata": {
    "collapsed": false
   },
   "outputs": [
    {
     "data": {
      "text/plain": [
       "CountryLive\n",
       "United States of America    227.997996\n",
       "India                       135.100982\n",
       "United Kingdom               45.534443\n",
       "Canada                      113.510961\n",
       "Name: cost/month, dtype: float64"
      ]
     },
     "execution_count": 57,
     "metadata": {},
     "output_type": "execute_result"
    }
   ],
   "source": [
    "cost_per_country[\"cost/month\"][['United States of America',\n",
    "                            'India', 'United Kingdom',\n",
    "                            'Canada']]"
   ]
  },
  {
   "cell_type": "markdown",
   "metadata": {},
   "source": [
    "The result shows that Canada coder spent more money on learning the higher density in UK, there might be some outliers"
   ]
  },
  {
   "cell_type": "markdown",
   "metadata": {},
   "source": [
    "# Dealing with Outlier "
   ]
  },
  {
   "cell_type": "code",
   "execution_count": 62,
   "metadata": {
    "collapsed": false
   },
   "outputs": [
    {
     "name": "stderr",
     "output_type": "stream",
     "text": [
      "/dataquest/system/env/python3/lib/python3.4/site-packages/seaborn/categorical.py:454: FutureWarning:\n",
      "\n",
      "remove_na is deprecated and is a private function. Do not use.\n",
      "\n"
     ]
    },
    {
     "data": {
      "image/png": "[encoded data removed]",
      "text/plain": [
       "<matplotlib.figure.Figure at 0x7f1d85e894e0>"
      ]
     },
     "metadata": {},
     "output_type": "display_data"
    }
   ],
   "source": [
    "select_country = df_notnull[df_notnull[\"CountryLive\"].str.\\\n",
    "                            contains(\"United States of America|India|United Kingdom|Canada\")].copy()\n",
    "\n",
    "sns.boxplot(\"CountryLive\",\"cost/month\",data=select_country)\n",
    "plt.title(\"Money Spent per Months per Country (Distributions)\",fontsize=13)\n",
    "plt.xlabel(\"Countries\")\n",
    "plt.ylabel(\"Money per Month\")\n",
    "plt.xticks(range(4),[\"US\",\"UK\",\"India\",\"Canada\"])\n",
    "plt.show()"
   ]
  },
  {
   "cell_type": "markdown",
   "metadata": {},
   "source": [
    "### Insights:\n",
    "There are some extreme values in US, we should remove it from data."
   ]
  },
  {
   "cell_type": "code",
   "execution_count": 63,
   "metadata": {
    "collapsed": true
   },
   "outputs": [],
   "source": [
    "# removing outliers\n",
    "df_notnull = df_notnull[df_notnull[\"cost/month\"] < 20000]"
   ]
  },
  {
   "cell_type": "code",
   "execution_count": 66,
   "metadata": {
    "collapsed": false
   },
   "outputs": [
    {
     "data": {
      "text/plain": [
       "CountryLive\n",
       "United States of America    183.800110\n",
       "India                       135.100982\n",
       "United Kingdom               45.534443\n",
       "Canada                      113.510961\n",
       "Name: cost/month, dtype: float64"
      ]
     },
     "execution_count": 66,
     "metadata": {},
     "output_type": "execute_result"
    }
   ],
   "source": [
    "cost_per_country = df_notnull.groupby(\"CountryLive\").mean()\n",
    "cost_per_country[\"cost/month\"][['United States of America',\n",
    "                            'India', 'United Kingdom',\n",
    "                            'Canada']]"
   ]
  },
  {
   "cell_type": "code",
   "execution_count": null,
   "metadata": {
    "collapsed": true
   },
   "outputs": [],
   "source": []
  },
  {
   "cell_type": "code",
   "execution_count": 67,
   "metadata": {
    "collapsed": false
   },
   "outputs": [
    {
     "name": "stderr",
     "output_type": "stream",
     "text": [
      "/dataquest/system/env/python3/lib/python3.4/site-packages/seaborn/categorical.py:454: FutureWarning:\n",
      "\n",
      "remove_na is deprecated and is a private function. Do not use.\n",
      "\n"
     ]
    },
    {
     "data": {
      "image/png": "[encoded data removed]",
      "text/plain": [
       "<matplotlib.figure.Figure at 0x7f1d85cfa9e8>"
      ]
     },
     "metadata": {},
     "output_type": "display_data"
    }
   ],
   "source": [
    "select_country = df_notnull[df_notnull[\"CountryLive\"].str.\\\n",
    "                            contains(\"United States of America|India|United Kingdom|Canada\")].copy()\n",
    "\n",
    "sns.boxplot(\"CountryLive\",\"cost/month\",data=select_country)\n",
    "plt.title(\"Money Spent per Months per Country (Distributions)\",fontsize=13)\n",
    "plt.xlabel(\"Countries\")\n",
    "plt.ylabel(\"Money per Month\")\n",
    "plt.xticks(range(4),[\"US\",\"UK\",\"India\",\"Canada\"])\n",
    "plt.show()"
   ]
  },
  {
   "cell_type": "code",
   "execution_count": 72,
   "metadata": {
    "collapsed": false
   },
   "outputs": [
    {
     "data": {
      "text/plain": [
       "Int64Index([1728, 1755, 7989, 8126, 13398, 15587], dtype='int64')"
      ]
     },
     "execution_count": 72,
     "metadata": {},
     "output_type": "execute_result"
    }
   ],
   "source": [
    "india_data = df_notnull[df_notnull.CountryLive ==\"India\"]\n",
    "india_outlier = india_data[india_data[\"cost/month\"] >2500].copy()\n",
    "india_outlier.index\n"
   ]
  },
  {
   "cell_type": "code",
   "execution_count": 73,
   "metadata": {
    "collapsed": false
   },
   "outputs": [
    {
     "data": {
      "text/plain": [
       "Int64Index([13659], dtype='int64')"
      ]
     },
     "execution_count": 73,
     "metadata": {},
     "output_type": "execute_result"
    }
   ],
   "source": [
    "canada_data = df_notnull[df_notnull.CountryLive ==\"Canada\"]\n",
    "canada_outlier = canada_data[canada_data[\"cost/month\"] >4000].copy()\n",
    "canada_outlier.index"
   ]
  },
  {
   "cell_type": "code",
   "execution_count": 74,
   "metadata": {
    "collapsed": false
   },
   "outputs": [
    {
     "data": {
      "text/plain": [
       "Int64Index([718, 1222, 3184, 3930, 6805, 7198, 7505, 9778, 16650, 16997,\n",
       "            17231],\n",
       "           dtype='int64')"
      ]
     },
     "execution_count": 74,
     "metadata": {},
     "output_type": "execute_result"
    }
   ],
   "source": [
    "us_data = df_notnull[df_notnull.CountryLive ==\"United States of America\"]\n",
    "us_outlier = us_data[us_data[\"cost/month\"] >6000].copy()\n",
    "us_outlier.index"
   ]
  },
  {
   "cell_type": "code",
   "execution_count": 75,
   "metadata": {
    "collapsed": false
   },
   "outputs": [
    {
     "name": "stderr",
     "output_type": "stream",
     "text": [
      "/dataquest/system/env/python3/lib/python3.4/site-packages/seaborn/categorical.py:454: FutureWarning:\n",
      "\n",
      "remove_na is deprecated and is a private function. Do not use.\n",
      "\n"
     ]
    },
    {
     "data": {
      "image/png": "[encoded data removed]",
      "text/plain": [
       "<matplotlib.figure.Figure at 0x7f1d85a9d748>"
      ]
     },
     "metadata": {},
     "output_type": "display_data"
    }
   ],
   "source": [
    "select_country = df_notnull[df_notnull[\"CountryLive\"].str.\\\n",
    "                            contains(\"United States of America|India|United Kingdom|Canada\")].copy()\n",
    "\n",
    "select_country = select_country.drop(us_outlier.index)\n",
    "select_country = select_country.drop(canada_outlier.index)\n",
    "select_country = select_country.drop(india_outlier.index)\n",
    "\n",
    "\n",
    "sns.boxplot(\"CountryLive\",\"cost/month\",data=select_country)\n",
    "plt.title(\"Money Spent per Months per Country (Distributions)\",fontsize=13)\n",
    "plt.xlabel(\"Countries\")\n",
    "plt.ylabel(\"Money per Month\")\n",
    "plt.xticks(range(4),[\"US\",\"UK\",\"India\",\"Canada\"])\n",
    "plt.show()"
   ]
  },
  {
   "cell_type": "code",
   "execution_count": 77,
   "metadata": {
    "collapsed": false
   },
   "outputs": [
    {
     "data": {
      "text/plain": [
       "Int64Index([  718,  1222,  3184,  3930,  6805,  7198,  7505,  9778, 16650,\n",
       "            16997, 17231,  1728,  1755,  7989,  8126, 13398, 15587, 13659],\n",
       "           dtype='int64')"
      ]
     },
     "execution_count": 77,
     "metadata": {},
     "output_type": "execute_result"
    }
   ],
   "source": [
    "outliers = us_outlier.index.append(india_outlier.index).append(canada_outlier.index)\n",
    "outliers"
   ]
  },
  {
   "cell_type": "code",
   "execution_count": 78,
   "metadata": {
    "collapsed": false
   },
   "outputs": [
    {
     "data": {
      "text/plain": [
       "CountryLive\n",
       "United States of America    142.654608\n",
       "India                        65.758763\n",
       "United Kingdom               45.534443\n",
       "Canada                       93.065400\n",
       "Name: cost/month, dtype: float64"
      ]
     },
     "execution_count": 78,
     "metadata": {},
     "output_type": "execute_result"
    }
   ],
   "source": [
    "df_notnull = df_notnull.drop(outliers)\n",
    "cost_per_country = df_notnull.groupby(\"CountryLive\").mean()\n",
    "cost_per_country[\"cost/month\"][['United States of America',\n",
    "                            'India', 'United Kingdom',\n",
    "                            'Canada']]"
   ]
  },
  {
   "cell_type": "code",
   "execution_count": 83,
   "metadata": {
    "collapsed": false
   },
   "outputs": [
    {
     "data": {
      "text/plain": [
       "United States of America    74.967908\n",
       "India                       11.732991\n",
       "United Kingdom               7.163030\n",
       "Canada                       6.136072\n",
       "Name: CountryLive, dtype: float64"
      ]
     },
     "execution_count": 83,
     "metadata": {},
     "output_type": "execute_result"
    }
   ],
   "source": [
    "select_country[\"CountryLive\"].value_counts(normalize=True) * 100"
   ]
  },
  {
   "cell_type": "markdown",
   "metadata": {},
   "source": [
    "# Choosing Best Market \n",
    "We must remember that we sell our products with price of $59 dollar so we must adjust that variable to our decision. Based on the results, market that definitely we must go to is United States because it has many coders and their spend for learning is above our price which is really good.\n",
    "\n",
    "Second Country we should go is a little bit difficult to choose, its between India and Canada. We ruled out United Kingdom because their spend for learning is below our products price.\n",
    "\n",
    "So Canada and India both qualified in terms of their spendin and their density. So, we can choose one of these plans.\n",
    "\n",
    "# Plan 1:\n",
    "Use 70% marketing budget for US and the rest for India\n",
    "\n",
    "# Plan 2: \n",
    "Use 70% marketing budget for US and the rest for Canada\n",
    "\n",
    "# Plan 3:\n",
    "Use 70% marketing budget for US and the rest split it for Canada and India. We suggest plan 3 because India and Canada both qualified to our market, and we can reach 3 segments market with this"
   ]
  },
  {
   "cell_type": "code",
   "execution_count": null,
   "metadata": {
    "collapsed": true
   },
   "outputs": [],
   "source": []
  }
 ],
 "metadata": {
  "kernelspec": {
   "display_name": "Python 3",
   "language": "python",
   "name": "python3"
  },
  "language_info": {
   "codemirror_mode": {
    "name": "ipython",
    "version": 3
   },
   "file_extension": ".py",
   "mimetype": "text/x-python",
   "name": "python",
   "nbconvert_exporter": "python",
   "pygments_lexer": "ipython3",
   "version": "3.4.3"
  }
 },
 "nbformat": 4,
 "nbformat_minor": 2
}

{
 "nbformat": 4,
 "nbformat_minor": 2,
 "metadata": {
  "language_info": {
   "name": "python",
   "codemirror_mode": {
    "name": "ipython",
    "version": 3
   },
   "version": "3.7.2"
  },
  "orig_nbformat": 2,
  "file_extension": ".py",
  "mimetype": "text/x-python",
  "name": "python",
  "npconvert_exporter": "python",
  "pygments_lexer": "ipython3",
  "version": 3
 },
 "cells": [
  {
   "cell_type": "code",
   "execution_count": 26,
   "metadata": {},
   "outputs": [],
   "source": [
    "import numpy as np\n",
    "import pandas as pd \n",
    "import matplotlib.pyplot as plt \n",
    "%matplotlib inline"
   ]
  },
  {
   "cell_type": "markdown",
   "execution_count": null,
   "metadata": {},
   "outputs": [],
   "source": [
    "# Load Data"
   ]
  },
  {
   "cell_type": "code",
   "execution_count": 2,
   "metadata": {},
   "outputs": [],
   "source": [
    "df = pd.read_csv(\"dataset/Congress_White_House.csv\")"
   ]
  },
  {
   "cell_type": "code",
   "execution_count": 3,
   "metadata": {},
   "outputs": [
    {
     "data": {
      "text/html": "<div>\n<style scoped>\n    .dataframe tbody tr th:only-of-type {\n        vertical-align: middle;\n    }\n\n    .dataframe tbody tr th {\n        vertical-align: top;\n    }\n\n    .dataframe thead th {\n        text-align: right;\n    }\n</style>\n<table border=\"1\" class=\"dataframe\">\n  <thead>\n    <tr style=\"text-align: right;\">\n      <th></th>\n      <th>Employee Name</th>\n      <th>Employee Status</th>\n      <th>Salary</th>\n      <th>Pay Basis</th>\n      <th>Position Title</th>\n    </tr>\n  </thead>\n  <tbody>\n    <tr>\n      <th>0</th>\n      <td>Abrams, Adam W.</td>\n      <td>Employee</td>\n      <td>66300.0</td>\n      <td>Per Annum</td>\n      <td>WESTERN REGIONAL COMMUNICATIONS DIRECTOR</td>\n    </tr>\n    <tr>\n      <th>1</th>\n      <td>Adams, Ian H.</td>\n      <td>Employee</td>\n      <td>45000.0</td>\n      <td>Per Annum</td>\n      <td>EXECUTIVE ASSISTANT TO THE DIRECTOR OF SCHEDUL...</td>\n    </tr>\n    <tr>\n      <th>2</th>\n      <td>Agnew, David P.</td>\n      <td>Employee</td>\n      <td>93840.0</td>\n      <td>Per Annum</td>\n      <td>DEPUTY DIRECTOR OF INTERGOVERNMENTAL AFFAIRS</td>\n    </tr>\n    <tr>\n      <th>3</th>\n      <td>Albino, James</td>\n      <td>Employee</td>\n      <td>91800.0</td>\n      <td>Per Annum</td>\n      <td>SENIOR PROGRAM MANAGER</td>\n    </tr>\n    <tr>\n      <th>4</th>\n      <td>Aldy, Jr., Joseph E.</td>\n      <td>Employee</td>\n      <td>130500.0</td>\n      <td>Per Annum</td>\n      <td>SPECIAL ASSISTANT TO THE PRESIDENT FOR ENERGY ...</td>\n    </tr>\n  </tbody>\n</table>\n</div>",
      "text/plain": "          Employee Name Employee Status    Salary  Pay Basis  \\\n0       Abrams, Adam W.        Employee   66300.0  Per Annum   \n1         Adams, Ian H.        Employee   45000.0  Per Annum   \n2       Agnew, David P.        Employee   93840.0  Per Annum   \n3        Albino, James         Employee   91800.0  Per Annum   \n4  Aldy, Jr., Joseph E.        Employee  130500.0  Per Annum   \n\n                                      Position Title  \n0           WESTERN REGIONAL COMMUNICATIONS DIRECTOR  \n1  EXECUTIVE ASSISTANT TO THE DIRECTOR OF SCHEDUL...  \n2       DEPUTY DIRECTOR OF INTERGOVERNMENTAL AFFAIRS  \n3                             SENIOR PROGRAM MANAGER  \n4  SPECIAL ASSISTANT TO THE PRESIDENT FOR ENERGY ...  "
     },
     "execution_count": 3,
     "metadata": {},
     "output_type": "execute_result"
    }
   ],
   "source": [
    "df.head()"
   ]
  },
  {
   "cell_type": "markdown",
   "execution_count": null,
   "metadata": {},
   "outputs": [],
   "source": [
    "# EDA"
   ]
  },
  {
   "cell_type": "code",
   "execution_count": 4,
   "metadata": {},
   "outputs": [
    {
     "data": {
      "text/plain": "(469, 5)"
     },
     "execution_count": 4,
     "metadata": {},
     "output_type": "execute_result"
    }
   ],
   "source": [
    "df.shape"
   ]
  },
  {
   "cell_type": "code",
   "execution_count": 7,
   "metadata": {},
   "outputs": [
    {
     "name": "stdout",
     "output_type": "stream",
     "text": "<class 'pandas.core.frame.DataFrame'>\nRangeIndex: 469 entries, 0 to 468\nData columns (total 5 columns):\nEmployee Name      469 non-null object\nEmployee Status    469 non-null object\nSalary             469 non-null float64\nPay Basis          469 non-null object\nPosition Title     469 non-null object\ndtypes: float64(1), object(4)\nmemory usage: 18.4+ KB\n"
    }
   ],
   "source": [
    "df.info()"
   ]
  },
  {
   "cell_type": "code",
   "execution_count": 8,
   "metadata": {},
   "outputs": [
    {
     "data": {
      "text/plain": "array(['Per Annum'], dtype=object)"
     },
     "execution_count": 8,
     "metadata": {},
     "output_type": "execute_result"
    }
   ],
   "source": [
    "df['Pay Basis'].unique()"
   ]
  },
  {
   "cell_type": "code",
   "execution_count": 9,
   "metadata": {},
   "outputs": [
    {
     "data": {
      "text/plain": "Employee                437\nDetailee                 31\nEmployee (part-time)      1\nName: Employee Status, dtype: int64"
     },
     "execution_count": 9,
     "metadata": {},
     "output_type": "execute_result"
    }
   ],
   "source": [
    "df['Employee Status'].value_counts()"
   ]
  },
  {
   "cell_type": "code",
   "execution_count": 10,
   "metadata": {},
   "outputs": [
    {
     "data": {
      "text/plain": "Employee Name      469\nEmployee Status      3\nSalary             120\nPay Basis            1\nPosition Title     269\ndtype: int64"
     },
     "execution_count": 10,
     "metadata": {},
     "output_type": "execute_result"
    }
   ],
   "source": [
    "df.nunique()"
   ]
  },
  {
   "cell_type": "code",
   "execution_count": 11,
   "metadata": {},
   "outputs": [
    {
     "data": {
      "text/plain": "Employee Name      0\nEmployee Status    0\nSalary             0\nPay Basis          0\nPosition Title     0\ndtype: int64"
     },
     "execution_count": 11,
     "metadata": {},
     "output_type": "execute_result"
    }
   ],
   "source": [
    "df.isnull().sum()"
   ]
  },
  {
   "cell_type": "code",
   "execution_count": 12,
   "metadata": {},
   "outputs": [
    {
     "data": {
      "text/plain": "Index(['Employee Name', 'Employee Status', 'Salary', 'Pay Basis',\n       'Position Title'],\n      dtype='object')"
     },
     "execution_count": 12,
     "metadata": {},
     "output_type": "execute_result"
    }
   ],
   "source": [
    "df.columns"
   ]
  },
  {
   "cell_type": "markdown",
   "execution_count": null,
   "metadata": {},
   "outputs": [],
   "source": [
    "# Cleaning Data"
   ]
  },
  {
   "cell_type": "markdown",
   "execution_count": null,
   "metadata": {},
   "outputs": [],
   "source": [
    "## What I'm going to do:\n",
    "- Lowercase all column and replace space with '_'\n",
    "- delete pay basis column because all is annual so we don't really need the explanation\n",
    "- rename salary columnt to annual_salary\n",
    "- extract the job level: director,manager,etc\n",
    "- drop employee name"
   ]
  },
  {
   "cell_type": "code",
   "execution_count": 13,
   "metadata": {},
   "outputs": [],
   "source": [
    "df_copy = df.copy()"
   ]
  },
  {
   "cell_type": "code",
   "execution_count": 16,
   "metadata": {},
   "outputs": [],
   "source": [
    "df_copy.columns = df_copy.columns.str.replace(\" \",\"_\").str.lower()"
   ]
  },
  {
   "cell_type": "code",
   "execution_count": 17,
   "metadata": {},
   "outputs": [
    {
     "data": {
      "text/plain": "Index(['employee_name', 'employee_status', 'salary', 'pay_basis',\n       'position_title'],\n      dtype='object')"
     },
     "execution_count": 17,
     "metadata": {},
     "output_type": "execute_result"
    }
   ],
   "source": [
    "df_copy.columns"
   ]
  },
  {
   "cell_type": "code",
   "execution_count": 21,
   "metadata": {},
   "outputs": [],
   "source": [
    "df_copy = df_copy.drop(columns=['pay_basis','employee_name'],axis=1)"
   ]
  },
  {
   "cell_type": "code",
   "execution_count": 22,
   "metadata": {},
   "outputs": [
    {
     "data": {
      "text/plain": "Index(['employee_status', 'salary', 'position_title'], dtype='object')"
     },
     "execution_count": 22,
     "metadata": {},
     "output_type": "execute_result"
    }
   ],
   "source": [
    "df_copy.columns"
   ]
  },
  {
   "cell_type": "code",
   "execution_count": 23,
   "metadata": {},
   "outputs": [
    {
     "data": {
      "text/html": "<div>\n<style scoped>\n    .dataframe tbody tr th:only-of-type {\n        vertical-align: middle;\n    }\n\n    .dataframe tbody tr th {\n        vertical-align: top;\n    }\n\n    .dataframe thead th {\n        text-align: right;\n    }\n</style>\n<table border=\"1\" class=\"dataframe\">\n  <thead>\n    <tr style=\"text-align: right;\">\n      <th></th>\n      <th>employee_status</th>\n      <th>annual_salary</th>\n      <th>position_title</th>\n    </tr>\n  </thead>\n  <tbody>\n    <tr>\n      <th>0</th>\n      <td>Employee</td>\n      <td>66300.0</td>\n      <td>WESTERN REGIONAL COMMUNICATIONS DIRECTOR</td>\n    </tr>\n    <tr>\n      <th>1</th>\n      <td>Employee</td>\n      <td>45000.0</td>\n      <td>EXECUTIVE ASSISTANT TO THE DIRECTOR OF SCHEDUL...</td>\n    </tr>\n    <tr>\n      <th>2</th>\n      <td>Employee</td>\n      <td>93840.0</td>\n      <td>DEPUTY DIRECTOR OF INTERGOVERNMENTAL AFFAIRS</td>\n    </tr>\n    <tr>\n      <th>3</th>\n      <td>Employee</td>\n      <td>91800.0</td>\n      <td>SENIOR PROGRAM MANAGER</td>\n    </tr>\n    <tr>\n      <th>4</th>\n      <td>Employee</td>\n      <td>130500.0</td>\n      <td>SPECIAL ASSISTANT TO THE PRESIDENT FOR ENERGY ...</td>\n    </tr>\n  </tbody>\n</table>\n</div>",
      "text/plain": "  employee_status  annual_salary  \\\n0        Employee        66300.0   \n1        Employee        45000.0   \n2        Employee        93840.0   \n3        Employee        91800.0   \n4        Employee       130500.0   \n\n                                      position_title  \n0           WESTERN REGIONAL COMMUNICATIONS DIRECTOR  \n1  EXECUTIVE ASSISTANT TO THE DIRECTOR OF SCHEDUL...  \n2       DEPUTY DIRECTOR OF INTERGOVERNMENTAL AFFAIRS  \n3                             SENIOR PROGRAM MANAGER  \n4  SPECIAL ASSISTANT TO THE PRESIDENT FOR ENERGY ...  "
     },
     "execution_count": 23,
     "metadata": {},
     "output_type": "execute_result"
    }
   ],
   "source": [
    "df_copy = df_copy.rename(columns={\"salary\":\"annual_salary\"})\n",
    "df_copy.head()"
   ]
  },
  {
   "cell_type": "code",
   "execution_count": 29,
   "metadata": {},
   "outputs": [
    {
     "data": {
      "text/plain": "array(['WESTERN REGIONAL COMMUNICATIONS DIRECTOR',\n       'EXECUTIVE ASSISTANT TO THE DIRECTOR OF SCHEDULING AND ADVANCE',\n       'DEPUTY DIRECTOR OF INTERGOVERNMENTAL AFFAIRS',\n       'SENIOR PROGRAM MANAGER',\n       'SPECIAL ASSISTANT TO THE PRESIDENT FOR ENERGY AND ENVIRONMENT',\n       'STAFF ASSISTANT', 'SPECIAL ASSISTANT',\n       'SPECIAL ASSISTANT TO THE CHIEF OF STAFF', 'POLICY ASSISTANT',\n       'SPECIAL ASSISTANT TO THE PRESIDENT AND ASSOCIATE COUNSEL TO THE PRESIDENT',\n       'COUNSEL', 'SENIOR ANALYST', 'ASSISTANT SHIFT LEADER',\n       'ASSISTANT TO THE PRESIDENT AND SENIOR ADVISOR', 'ANALYST',\n       'COMMUNICATIONS DIRECTOR',\n       'ASSISTANT TO THE PRESIDENT AND DIRECTOR OF THE DOMESTIC POLICY COUNCIL',\n       'DEPUTY ASSOCIATE COUNSEL', 'MEDIA MONITOR', 'ASSOCIATE DIRECTOR',\n       'ASSISTANT TO THE PRESIDENT AND COUNSEL TO THE PRESIDENT',\n       'SPECIAL ASSISTANT AND ADVANCE LEAD',\n       'DEPUTY DIRECTOR FOR MEDIA AFFAIRS',\n       'LEGISLATIVE ASSISTANT AND ASSISTANT FOR EVENTS',\n       'DEPUTY ASSISTANT TO THE PRESIDENT AND DIRECTOR OF ADVANCE AND OPERATIONS',\n       'DIRECTOR, ONLINE ENGAGEMENT',\n       'ASSOCIATE DIRECTOR OF URBAN AFFAIRS',\n       'DIRECTOR OF SPECIAL PROJECTS AND SPECIAL ASSISTANT TO THE OFFICE OF THE CHIEF OF STAFF',\n       'RESEARCHER', 'LEGISLATIVE ASSISTANT',\n       'DEPUTY ASSOCIATE DIRECTOR OF INTERGOVERNMENTAL AFFAIRS',\n       'RECORDS MANAGEMENT ANALYST',\n       'DEPUTY DIRECTOR OF PUBLIC ENGAGEMENT',\n       'EXECUTIVE ASSISTANT TO THE CHIEF OF STAFF TO THE FIRST LADY',\n       'SPECIAL ASSISTANT TO THE SENIOR ADVISOR',\n       'ASSISTANT TO THE PRESIDENT FOR HOMELAND SECURITY AND COUNTERTERRORISM',\n       'CLEARANCE ADVISOR',\n       'EXECUTIVE ASSISTANT TO THE DIRECTOR OF PUBLIC ENGAGEMENT',\n       'SUPERVISOR OF CORRESPONDENCE REVIEW',\n       'ASSISTANT TO THE PRESIDENT AND STAFF SECRETARY',\n       'ASSISTANT TO THE PRESIDENT FOR ENERGY AND CLIMATE CHANGE',\n       'ASSISTANT PRESS SECRETARY', 'POLICY ADVISOR',\n       'DEPUTY DIRECTOR AND DEPUTY SOCIAL SECRETARY',\n       'SPECIAL ASSISTANT TO THE PRESIDENT AND DEPUTY PRESS SECRETARY',\n       'SUPERVISOR, DOCUMENT MANAGEMENT AND TRACKING UNIT',\n       'ASSOCIATE DIRECTOR AND TRIP COORDINATOR',\n       'SPECIAL ASSISTANT TO THE DEPUTY CHIEF OF STAFF',\n       'SPECIAL ASSISTANT TO THE PRESIDENT AND SPECIAL COUNSEL TO THE PRESIDENT',\n       'OPERATOR', 'ETHICS ADVISOR',\n       'SPECIAL ASSISTANT TO THE WHITE HOUSE COUNSEL',\n       'DIRECTOR OF CONFIRMATIONS', 'ASSISTANT STAFF SECRETARY',\n       'DEPUTY CHIEF OF STAFF FOR PRESIDENTIAL PERSONNEL', 'SHIFT LEADER',\n       'ASSOCIATE DIRECTOR AND SCHEDULING RESEARCHER',\n       'PRIORITY PLACEMENT DIRECTOR',\n       'EXECUTIVE ASSISTANT TO THE POLITICAL DIRECTOR',\n       'SPECIAL ASSISTANT TO THE PRESIDENT FOR MOBILTY AND OPPORTUNITY POLICY',\n       'DIRECTOR OF THE OFFICE OF NATIONAL AIDS POLICY AND SENIOR ADVISOR ON DISABILITY POLICY',\n       'DEPUTY ASSISTANT TO THE PRESIDENT AND DIRECTOR OF APPOINTMENTS AND SCHEDULING',\n       'DEPUTY DIRECTOR, PRESIDENTIAL CORRESPONDENCE',\n       'ECONOMICS STAFF ASSISTANT',\n       'SPECIAL ASSISTANT TO THE PRESIDENT AND DEPUTY DIRECTOR OF ADVANCE',\n       'ASSOCIATE DIRECTOR OF SCHEDULING',\n       'ASSISTANT TO THE PRESIDENT FOR SPECIAL PROJECTS',\n       'SPECIAL ASSISTANT TO THE PRESIDENT AND DEPUTY ASSOCIATE DIRECTOR OF PUBLIC ENGAGEMENT',\n       'DEPUTY ASSISTANT TO THE PRESIDENT AND DEPUTY COUNSEL TO THE PRESIDENT',\n       'SENIOR LEGISLATIVE AFFAIRS ANALYST',\n       'DEPUTY ASSISTANT TO THE PRESIDENT FOR MANAGEMENT AND ADMINISTRATION',\n       'SPECIAL ASSISTANT TO THE PRESIDENT FOR ECONOMIC POLICY',\n       'PRESIDENTIAL SUPPORT SPECIALIST',\n       'COUNSELOR TO THE PRESIDENT AND DIRECTOR OF THE WHITE HOUSE OFFICE FOR HEALTH CARE REFORM',\n       'SPECIAL ASSISTANT TO THE PRESIDENT AND DEPUTY DIRECTOR OF POLITICAL AFFAIRS',\n       'ASSISTANT TO THE PRESIDENT AND DEPUTY NATIONAL SECURITY ADVISOR',\n       'ENERGY AND ENVIRONMENT STAFF ASSISTANT',\n       'SPECIAL ASSISTANT TO THE PRESIDENT FOR URBAN AFFAIRS',\n       'DIRECTOR OF RECORDS MANAGEMENT',\n       'SPECIAL ASSISTANT TO THE PRESIDENT AND EXECUTIVE DIRECTOR OF THE WHITE HOUSE OFFICE OF FAITH-BASED AND NEIGHBORHOOD PARTNERSHIPS',\n       'POLICY ASSISTANT, URBAN POLICY AND MOBILITY AND OPPORTUNITY',\n       'ASSOCIATE DIRECTOR FOR SCHEDULING CORRESPONDENCE',\n       'DIRECTOR OF AFRICAN AMERICAN MEDIA', 'NEW MEDIA ANALYST',\n       'DEPUTY ASSOCIATE COUNSEL FOR PRESIDENTIAL PERSONNEL',\n       'ASSISTANT TO THE PRESIDENT AND CHIEF OF STAFF',\n       'SENIOR POLICY ADVISOR',\n       'DEPUTY ASSISTANT TO THE PRESIDENT FOR ECONOMIC POLICY',\n       'ADVANCE COORDINATOR',\n       'ASSISTANT TO THE PRESIDENT AND DIRECTOR OF SPEECHWRITING',\n       'SPECIAL ASSISTANT TO THE PRESIDENT AND DIRECTOR OF EVENTS AND PROTOCOL',\n       'ASSOCIATE DIRECTOR OF PRESS ADVANCE AND PRESS POOL WRANGLER',\n       'ASSISTANT DIRECTOR',\n       'DEPUTY DIRECTOR OF ADVANCE AND TRIP DIRECTOR FOR THE FIRST LADY',\n       'ECONOMICS DIRECTOR',\n       'SPECIAL ASSISTANT TO THE PRESIDENT AND SENIOR PRESIDENTIAL SPEECHWRITER',\n       'DEPUTY ASSISTANT TO THE PRESIDENT AND DIRECTOR OF POLICY AND PROJECTS FOR THE FIRST LADY',\n       'DEPUTY ASSISTANT TO THE PRESIDENT  FOR ECONOMIC POLICY',\n       'POLICY ANALYST',\n       'LEGISLATIVE ASSISTANT AND ASSISTANT TO THE SENATE LIAISON',\n       'ASSISTANT TO THE PRESIDENT AND DIRECTOR OF POLITICAL AFFAIRS',\n       'SPECIAL ASSISTANT TO THE PRESIDENT AND DIRECTOR OF MEDIA AFFAIRS',\n       'ASSISTANT TO THE PRESIDENT AND PRESS SECRETARY',\n       'SPECIAL ASSISTANT TO THE PRESIDENT AND  ASSOCIATE COUNSEL TO THE PRESIDENT',\n       'DEPUTY DIRECTOR OF SCHEDULING AND EVENTS COORDINATOR FOR THE FIRST LADY',\n       'SPECIAL ASSISTANT TO THE PRESIDENT FOR FINANCIAL MARKETS',\n       'BOARDS AND COMMISSIONS STAFF ASSISTANT',\n       'ASSOCIATE COUNSEL TO THE PRESIDENT',\n       'SPECIAL ASSISTANT TO THE PRESIDENT FOR PRESIDENTIAL PERSONNEL',\n       'DEPUTY DIRECTOR OF CABINET AFFAIRS', 'DEPUTY DIRECTOR OF FINANCE',\n       'EXECUTIVE ASSISTANT', 'DOMESTIC STAFF ASSISTANT',\n       'DOMESTIC DIRECTOR',\n       'LEGISLATIVE ASSISTANT AND ASSISTANT TO THE HOUSE LIAISON',\n       'DEPUTY DIRECTOR',\n       'SPECIAL ASSISTANT TO THE PRESIDENT FOR LEGISLATIVE AFFAIRS',\n       'ASSOCIATE DIRECTOR AND TRAVEL MANAGER',\n       'DEPUTY ASSISTANT TO THE PRESIDENT AND DEPUTY DIRECTOR OF THE DOMESTIC POLICY COUNCIL',\n       'DEPUTY ASSISTANT TO THE PRESIDENT AND DIRECTOR OF PRESIDENTIAL PERSONNEL',\n       'SPECIAL ASSISTANT TO THE PRESS SECRETARY', 'PRESS ASSISTANT',\n       'DIRECTOR OF SPECIALITY MEDIA',\n       'DEPUTY ASSOCIATE COUNSEL FOR PRESIDENTIAL PERSONNEL ',\n       'DEPUTY ASSOCIATE DIRECTOR OF CORRESPONDENCE FOR THE FIRST LADY',\n       'SENIOR ADVISOR AND ASSISTANT TO THE PRESIDENT FOR INTERGOVERNMENTAL AFFAIRS AND PUBLIC ENGAGEMENT',\n       'SPECIAL ASSISTANT FOR SCHEDULING AND TRAVELING AIDE TO THE FIRST LADY',\n       'SPECIAL ASSISTANT TO THE PRESIDENT AND DIRECTOR OF RESEARCH',\n       'DEPUTY ASSOCIATE DIRECTOR', 'NORTHEAST POLITICAL DIRECTOR',\n       'PERSONAL AIDE TO THE PRESIDENT',\n       'SPECIAL ASSISTANT TO THE PRESIDENT AND DIRECTOR OF COMMUNICATIONS FOR THE FIRST LADY',\n       'ASSISTANT SUPERVISOR, DOCUMENT MANAGEMENT AND TRACKING UNIT',\n       'DIRECTOR OF WHITE HOUSE ADMINISTRATION',\n       'NATIONAL SECURITY ADVISOR', 'RESEARCH ASSOCIATE',\n       'SPECIAL ASSISTANT TO THE DIRECTOR', 'DEPUTY EXECUTIVE CLERK',\n       'SPECIAL ASSISTANT TO THE PRESIDENT AND DIRECTOR OF WHITE HOUSE OPERATIONS',\n       'SPECIAL ASSISTANT TO THE DIRECTOR OF INTERGOVERNMENTAL AFFAIRS',\n       'SPECIAL PROJECTS COORDINATOR', 'PRESIDENTIAL SPEECHWRITER',\n       'SPECIAL ASSISTANT TO THE PRESIDENT AND DIRECTOR OF PRESIDENTIAL CORRESPONDENCE',\n       'VETTER',\n       'ASSISTANT TO THE PRESIDENT FOR MANAGEMENT AND ADMINISTRATION',\n       'SPECIAL ASSISTANT TO THE PRESIDENT FOR HEALTHCARE AND ECONOMIC POLICY',\n       'SCHEDULER FOR CHIEF OF STAFF',\n       'DEPUTY DIRECTOR OF ADVANCE AND SPECIAL EVENTS FOR THE OFFICE OF INTERGOVERNMENTAL AFFAIRS AND PUBLIC ENGAGEMENT',\n       'ASSOCIATE STAFF SECRETARY',\n       'DEPUTY ASSISTANT TO THE PRESIDENT FOR LEGISLATIVE AFFAIRS',\n       'ASSISTANT COUNSEL FOR NOMINATIONS',\n       'DEPUTY DIRECTOR AND HOTEL PROGRAM MANAGER',\n       'DIRECTOR OF CORRESPONDENCE FOR THE FIRST LADY', 'COORDINATOR',\n       'DIRECTOR OF ONLINE PROGRAMS',\n       'SPECIAL ASSISTANT TO THE PRESIDENT AND DIRECTOR OF MESSAGE EVENTS',\n       'MIDWESTERN REGIONAL COMMUNICATIONS DIRECTOR',\n       'DIRECTOR AND PRESS SECRETARY TO THE FIRST LADY',\n       'SPECIAL ASSISTANT AND PRESS LEAD', 'SOUTHERN POLITICAL DIRECTOR',\n       'SPECIAL ASSISTANT TO THE PRESIDENT FOR ECONOMIC POLICY AND CHIEF OF STAFF OF THE NATIONAL ECONOMIC COUNCIL',\n       'SPECIAL ASSISTANT AND PERSONAL AIDE TO THE FIRST LADY',\n       'DIRECTOR OF PRESS ADVANCE',\n       'DEPUTY ASSISTANT TO THE PRESIDENT AND CHIEF OF STAFF FOR NATIONAL SECURITY OPERATIONS',\n       'ASSOCIATE DIRECTOR OF PRESS ADVANCE ',\n       'SPECIAL ASSISTANT TO THE PRESIDENT FOR INTERNATIONAL ECONOMIC AFFAIRS',\n       'LEGISLATIVE COUNSEL AND POLICY ADVISOR',\n       'LEGISLATIVE ASSISTANT AND ASSOCIATE DIRECTOR FOR LEGISLATIVE CORRESPONDENCE',\n       'SPECIAL ASSISTANT TO THE PRESIDENT AND PERSONAL AIDE TO THE PRESIDENT',\n       'POLICY DIRECTOR',\n       'ASSISTANT TO THE PRESIDENT AND CABINET SECRETARY',\n       'SPECIAL SERVICES OPERATOR', 'DIRECTOR OF FINANCE',\n       'DEPUTY ASSISTANT TO THE PRESIDENT FOR LEGISLATIVE AFFAIRS AND SENATE LIAISION',\n       'SENIOR POLICY DIRECTOR',\n       'ASSISTANT TO THE PRESIDENT AND DIRECTOR OF SCHEDULING AND ADVANCE',\n       'NATIONAL SECURITY DIRECTOR',\n       'SPECIAL ASSISTANT TO THE PRESIDENT AND DEPUTY DIRECTOR OF PRESIDENTIAL PERSONNEL',\n       'ASSISTANT EXECUTIVE CLERK',\n       'DEPUTY ASSISTANT TO THE PRESIDENT AND NATIONAL SECURITY COUNCIL CHIEF OF STAFF',\n       'ADVISOR', 'SENIOR POLICY ADVISOR FOR EDUCATION',\n       'SPECIAL ASSISTANT TO THE PRESIDENT AND CHIEF OF STAFF FOR PRESIDENTIAL PERSONNEL',\n       'DIRECTOR OF WHITE HOUSE INTERNSHIP PROGRAM',\n       'ASSISTANT TO THE PRESIDENT AND DEPUTY CHIEF OF STAFF FOR OPERATIONS',\n       'SPECIAL ASSISTANT TO THE CABINET SECRETARY',\n       'DIRECTOR OF HISPANIC MEDIA',\n       'SENIOR POLICY ADVISOR FOR SOCIAL INNOVATION AND CIVIC PARTICIPATION',\n       'DEPUTY ASSOCIATE DIRECTOR OF PUBLIC ENGAGEMENT',\n       'DIRECTOR OF OPERATIONS',\n       'DEPUTY ASSISTANT TO THE PRESIDENT AND DIRECTOR OF INTERGOVERNMENTAL AFFAIRS',\n       'NORTHEAST REGIONAL COMMUNICATIONS DIRECTOR', 'SENIOR VETTER',\n       'DEPUTY ASSISTANT TO THE PRESIDENT AND SENIOR ADVISOR TO THE CHIEF OF STAFF',\n       'EXECUTIVE ASSISTANT TO THE SENIOR ADVISOR',\n       'ASSISTANT TO THE EXECUTIVE CLERK', 'DIRECTOR OF TRAVEL OFFICE',\n       'SPECIAL ASSISTANT TO THE PRESIDENT AND TRIP DIRECTOR',\n       'ASSISTANT SPEECHWRITER', 'CHIEF TAX COUNSEL',\n       'CHIEF OF STAFF, OFFICE OF LEGISLATIVE AFFAIRS',\n       'SPECIAL ASSISTANT TO THE PRESIDENT AND CHIEF OF STAFF OF THE DOMESTIC POLICY COUNCIL',\n       \"LEGISLATIVE ASSISTANT AND ASSISTANT TO THE DIRECTOR'S OFFICE\",\n       'WEST WING RECEPTIONIST',\n       'DIRECTOR OF SPECIAL PROJECTS FOR COMMUNICATIONS',\n       'DIRECTOR OF COMMUNICATIONS FOR THE OFFICE OF HEALTH REFORM',\n       'ASSISTANT SUPERVISOR OF CLASSIFICATION',\n       'DEPUTY DIRECTOR AND SURROGATE SCHEDULER',\n       'ASSISTANT TO THE PRESIDENT AND DIRECTOR OF COMMUNICATIONS',\n       'SPECIAL ASSISTANT TO THE PRESIDENT AND DIRECTOR OF NEW MEDIA',\n       'RESEARCH ASSISTANT', 'PRIORITY PLACEMENT STAFF ASSISTANT',\n       'DEPUTY ASSISTANT TO THE PRESIDENT AND DEPUTY DIRECTOR OF COMMUNICATIONS',\n       'DEPUTY DIRECTOR OF RECORDS MANAGEMENT', 'SENIOR WRITER',\n       'ENERGY AND ENVIRONMENT DIRECTOR', 'SUPERVISOR OF CLASSIFICATION',\n       'SPEECHWRITER',\n       'SPECIAL ASSISTANT TO THE PRESIDENT FOR EDUCATION POLICY',\n       'DEPUTY ASSISTANT TO THE PRESIDENT AND DEPUTY STAFF SECRETARY',\n       'DIRECTOR OF TECHNOLOGY',\n       'DEPUTY DIRECTOR, ONLINE PROGRAMS AND EMAIL',\n       'DIRECTOR OF WHITE HOUSE PERSONNEL',\n       'DEPUTY DIRECTOR OF POLICY AND PROJECTS FOR THE FIRST LADY',\n       'DEPUTY REGIONAL POLITICAL DIRECTOR', 'EXECUTIVE CLERK',\n       'DIRECTOR OF VISITORS OFFICE',\n       'ASSISTANT TO THE PRESIDENT AND DIRECTOR, OFFICE OF LEGISLATIVE AFFAIRS',\n       'WESTERN POLITICAL DIRECTOR', 'DIRECTOR',\n       'DEPUTY ASSISTANT TO THE PRESIDENT AND DIRECTOR, OFFICE  OF SOCIAL INNOVATION AND CIVIC PARTICIPATION',\n       'ASSISTANT TO THE PRESIDENT, CHIEF OF STAFF TO THE FIRST LADY AND COUNSEL',\n       'SPECIAL ASSISTANT TO THE DEPUTY ASSISTANT TO THE PRESIDENT',\n       'DIRECTOR OF SPECIAL PROJECTS AND SPECIAL ASSISTANT TO THE SENIOR ADVISOR',\n       'OPERATIONS STAFF ASSISTANT', 'NATIONAL SECURITY STAFF ASSISTANT',\n       'DEPUTY DIRECTOR OF RESPONSE',\n       'DEPUTY ASSISTANT TO THE PRESIDENT AND DEPUTY CABINET SECRETARY',\n       'DEPUTY ASSISTANT TO THE PRESIDENT AND WHITE HOUSE SOCIAL SECRETARY',\n       'MIDWEST POLITICAL DIRECTOR',\n       'DIRECTOR OF SCHEDULING AND ADVANCE FOR THE FIRST LADY',\n       'ASSOCIATE DIRECTOR AND DEPUTY PRESS SECRETARY TO THE FIRST LADY',\n       'SUPERVISOR OF SEARCH AND FILE',\n       'SPECIAL ASSISTANT TO THE PRESIDENT AND CHIEF OF STAFF OF THE OFFICE OF INTERGOVERNMENTAL AFFAIRS AND PUBLIC ENGAGEMENT',\n       'ASSISTANT TO THE PRESIDENT FOR ECONOMIC POLICY AND DIRECTOR OF THE NATIONAL ECONOMIC COUNCIL',\n       'ASSISTANT TO THE PRESIDENT AND DEPUTY CHIEF OF STAFF FOR POLICY',\n       'ASSOCIATE DIRECTOR, NEW MEDIA OPERATIONS',\n       'SPECIAL ASSISTANT TO THE PRESIDENT AND DIRECTOR, OFFICE OF THE CHIEF OF STAFF',\n       'ASSISTANT SUPERVISOR OF SEARCH AND FILE',\n       'DEPUTY ASSISTANT TO THE PRESIDENT AND DIRECTOR OF THE OFFICE OF PUBLIC ENGAGEMENT',\n       'SENIOR POLICY ADVISOR FOR NATIVE AMERICAN AFFAIRS',\n       'DEPUTY DIRECTOR OF MESSAGE EVENTS',\n       'COMMUNICATIONS ADVISOR, DOMESTIC POLICY COUNCIL AND OFFICE OF NATIONAL AIDS POLICY',\n       'SUPERVISOR OF COMPUTER ADMINISTRATION',\n       'DIRECTOR OF INFORMATION SERVICES',\n       'DEPUTY ASSISTANT TO THE PRESIDENT FOR LEGISLATIVE AFFAIRS AND HOUSE LIAISON',\n       'WHITE HOUSE BUSINESS LIAISON',\n       'SPECIAL ASSISTANT TO THE PRESIDENT AND DIRECTOR OF BROADCAST MEDIA',\n       'ASSOCIATE DIRECTOR OF COMMUNICATIONS FOR ECONOMICS',\n       'EXECUTIVE ASSISTANT TO THE EXECUTIVE DIRECTOR',\n       'SPECIAL ASSISTANT TO THE PRESIDENT AND SENIOR ADVISOR TO THE CHIEF OF STAFF',\n       'SENIOR ADVISOR FOR TECHNOLOGY AND INNOVATION TO THE NATIONAL ECONOMIC COUNCIL DIRECTOR',\n       'BOARDS AND COMMISSIONS DIRECTOR',\n       'DEPUTY DIRECTOR FOR BROADCAST MEDIA',\n       'SPECIAL ASSISTANT TO THE PRESIDENT AND DEPUTY CHIEF OF STAFF TO THE FIRST LADY',\n       'SPECIAL ASSISTANT TO THE CHIEF OF STAFF OF THE OFFICE OF INTERGOVERNMENTAL AFFAIRS AND PUBLIC ENGAGEMENT',\n       'DEPUTY DIRECTOR OF SCHEDULING FOR THE PRESIDENT',\n       'SPECIAL ASSISTANT TO THE DIRECTOR OF PUBLIC ENGAGEMENT',\n       'DEPUTY ASSISTANT TO THE PRESIDENT FOR ENERGY AND CLIMATE CHANGE'],\n      dtype=object)"
     },
     "execution_count": 29,
     "metadata": {},
     "output_type": "execute_result"
    }
   ],
   "source": [
    "df_copy.position_title.unique()"
   ]
  },
  {
   "cell_type": "code",
   "execution_count": 40,
   "metadata": {},
   "outputs": [
    {
     "data": {
      "text/plain": "<matplotlib.lines.Line2D at 0x122ab4e10>"
     },
     "execution_count": 40,
     "metadata": {},
     "output_type": "execute_result"
    },
    {
     "data": {
      "image/png": "[encoded data removed]",
      "image/svg+xml": "<?xml version=\"1.0\" encoding=\"utf-8\" standalone=\"no\"?>\n<!DOCTYPE svg PUBLIC \"-//W3C//DTD SVG 1.1//EN\"\n  \"http://www.w3.org/Graphics/SVG/1.1/DTD/svg11.dtd\">\n<!-- Created with matplotlib (https://matplotlib.org/) -->\n<svg height=\"250.031333pt\" version=\"1.1\" viewBox=\"0 0 375.2875 250.031333\" width=\"375.2875pt\" xmlns=\"http://www.w3.org/2000/svg\" xmlns:xlink=\"http://www.w3.org/1999/xlink\">\n <defs>\n  <style type=\"text/css\">\n*{stroke-linecap:butt;stroke-linejoin:round;}\n  </style>\n </defs>\n <g id=\"figure_1\">\n  <g id=\"patch_1\">\n   <path d=\"M 0 250.031333 \nL 375.2875 250.031333 \nL 375.2875 0 \nL 0 0 \nz\n\" style=\"fill:none;\"/>\n  </g>\n  <g id=\"axes_1\">\n   <g id=\"patch_2\">\n    <path d=\"M 33.2875 226.153208 \nL 368.0875 226.153208 \nL 368.0875 8.713208 \nL 33.2875 8.713208 \nz\n\" style=\"fill:#ffffff;\"/>\n   </g>\n   <g id=\"patch_3\">\n    <path clip-path=\"url(#pca1ed79760)\" d=\"M 48.505682 226.153208 \nL 78.942045 226.153208 \nL 78.942045 222.11907 \nL 48.505682 222.11907 \nz\n\" style=\"fill:#1f77b4;\"/>\n   </g>\n   <g id=\"patch_4\">\n    <path clip-path=\"url(#pca1ed79760)\" d=\"M 78.942045 226.153208 \nL 109.378409 226.153208 \nL 109.378409 224.808495 \nL 78.942045 224.808495 \nz\n\" style=\"fill:#1f77b4;\"/>\n   </g>\n   <g id=\"patch_5\">\n    <path clip-path=\"url(#pca1ed79760)\" d=\"M 109.378409 226.153208 \nL 139.814773 226.153208 \nL 139.814773 19.067493 \nL 109.378409 19.067493 \nz\n\" style=\"fill:#1f77b4;\"/>\n   </g>\n   <g id=\"patch_6\">\n    <path clip-path=\"url(#pca1ed79760)\" d=\"M 139.814773 226.153208 \nL 170.251136 226.153208 \nL 170.251136 98.405527 \nL 139.814773 98.405527 \nz\n\" style=\"fill:#1f77b4;\"/>\n   </g>\n   <g id=\"patch_7\">\n    <path clip-path=\"url(#pca1ed79760)\" d=\"M 170.251136 226.153208 \nL 200.6875 226.153208 \nL 200.6875 168.330573 \nL 170.251136 168.330573 \nz\n\" style=\"fill:#1f77b4;\"/>\n   </g>\n   <g id=\"patch_8\">\n    <path clip-path=\"url(#pca1ed79760)\" d=\"M 200.6875 226.153208 \nL 231.123864 226.153208 \nL 231.123864 161.607011 \nL 200.6875 161.607011 \nz\n\" style=\"fill:#1f77b4;\"/>\n   </g>\n   <g id=\"patch_9\">\n    <path clip-path=\"url(#pca1ed79760)\" d=\"M 231.123864 226.153208 \nL 261.560227 226.153208 \nL 261.560227 192.535397 \nL 231.123864 192.535397 \nz\n\" style=\"fill:#1f77b4;\"/>\n   </g>\n   <g id=\"patch_10\">\n    <path clip-path=\"url(#pca1ed79760)\" d=\"M 261.560227 226.153208 \nL 291.996591 226.153208 \nL 291.996591 171.019998 \nL 261.560227 171.019998 \nz\n\" style=\"fill:#1f77b4;\"/>\n   </g>\n   <g id=\"patch_11\">\n    <path clip-path=\"url(#pca1ed79760)\" d=\"M 291.996591 226.153208 \nL 322.432955 226.153208 \nL 322.432955 185.811835 \nL 291.996591 185.811835 \nz\n\" style=\"fill:#1f77b4;\"/>\n   </g>\n   <g id=\"patch_12\">\n    <path clip-path=\"url(#pca1ed79760)\" d=\"M 322.432955 226.153208 \nL 352.869318 226.153208 \nL 352.869318 187.156547 \nL 322.432955 187.156547 \nz\n\" style=\"fill:#1f77b4;\"/>\n   </g>\n   <g id=\"matplotlib.axis_1\">\n    <g id=\"xtick_1\">\n     <g id=\"line2d_1\">\n      <defs>\n       <path d=\"M 0 0 \nL 0 3.5 \n\" id=\"mdc27fb8fd5\" style=\"stroke:#000000;stroke-width:0.8;\"/>\n      </defs>\n      <g>\n       <use style=\"stroke:#000000;stroke-width:0.8;\" x=\"48.505682\" xlink:href=\"#mdc27fb8fd5\" y=\"226.153208\"/>\n      </g>\n     </g>\n     <g id=\"text_1\">\n      <!-- 0 -->\n      <defs>\n       <path d=\"M 31.78125 66.40625 \nQ 24.171875 66.40625 20.328125 58.90625 \nQ 16.5 51.421875 16.5 36.375 \nQ 16.5 21.390625 20.328125 13.890625 \nQ 24.171875 6.390625 31.78125 6.390625 \nQ 39.453125 6.390625 43.28125 13.890625 \nQ 47.125 21.390625 47.125 36.375 \nQ 47.125 51.421875 43.28125 58.90625 \nQ 39.453125 66.40625 31.78125 66.40625 \nz\nM 31.78125 74.21875 \nQ 44.046875 74.21875 50.515625 64.515625 \nQ 56.984375 54.828125 56.984375 36.375 \nQ 56.984375 17.96875 50.515625 8.265625 \nQ 44.046875 -1.421875 31.78125 -1.421875 \nQ 19.53125 -1.421875 13.0625 8.265625 \nQ 6.59375 17.96875 6.59375 36.375 \nQ 6.59375 54.828125 13.0625 64.515625 \nQ 19.53125 74.21875 31.78125 74.21875 \nz\n\" id=\"DejaVuSans-48\"/>\n      </defs>\n      <g transform=\"translate(45.324432 240.751645)scale(0.1 -0.1)\">\n       <use xlink:href=\"#DejaVuSans-48\"/>\n      </g>\n     </g>\n    </g>\n    <g id=\"xtick_2\">\n     <g id=\"line2d_2\">\n      <g>\n       <use style=\"stroke:#000000;stroke-width:0.8;\" x=\"90.848981\" xlink:href=\"#mdc27fb8fd5\" y=\"226.153208\"/>\n      </g>\n     </g>\n     <g id=\"text_2\">\n      <!-- 25000 -->\n      <defs>\n       <path d=\"M 19.1875 8.296875 \nL 53.609375 8.296875 \nL 53.609375 0 \nL 7.328125 0 \nL 7.328125 8.296875 \nQ 12.9375 14.109375 22.625 23.890625 \nQ 32.328125 33.6875 34.8125 36.53125 \nQ 39.546875 41.84375 41.421875 45.53125 \nQ 43.3125 49.21875 43.3125 52.78125 \nQ 43.3125 58.59375 39.234375 62.25 \nQ 35.15625 65.921875 28.609375 65.921875 \nQ 23.96875 65.921875 18.8125 64.3125 \nQ 13.671875 62.703125 7.8125 59.421875 \nL 7.8125 69.390625 \nQ 13.765625 71.78125 18.9375 73 \nQ 24.125 74.21875 28.421875 74.21875 \nQ 39.75 74.21875 46.484375 68.546875 \nQ 53.21875 62.890625 53.21875 53.421875 \nQ 53.21875 48.921875 51.53125 44.890625 \nQ 49.859375 40.875 45.40625 35.40625 \nQ 44.1875 33.984375 37.640625 27.21875 \nQ 31.109375 20.453125 19.1875 8.296875 \nz\n\" id=\"DejaVuSans-50\"/>\n       <path d=\"M 10.796875 72.90625 \nL 49.515625 72.90625 \nL 49.515625 64.59375 \nL 19.828125 64.59375 \nL 19.828125 46.734375 \nQ 21.96875 47.46875 24.109375 47.828125 \nQ 26.265625 48.1875 28.421875 48.1875 \nQ 40.625 48.1875 47.75 41.5 \nQ 54.890625 34.8125 54.890625 23.390625 \nQ 54.890625 11.625 47.5625 5.09375 \nQ 40.234375 -1.421875 26.90625 -1.421875 \nQ 22.3125 -1.421875 17.546875 -0.640625 \nQ 12.796875 0.140625 7.71875 1.703125 \nL 7.71875 11.625 \nQ 12.109375 9.234375 16.796875 8.0625 \nQ 21.484375 6.890625 26.703125 6.890625 \nQ 35.15625 6.890625 40.078125 11.328125 \nQ 45.015625 15.765625 45.015625 23.390625 \nQ 45.015625 31 40.078125 35.4375 \nQ 35.15625 39.890625 26.703125 39.890625 \nQ 22.75 39.890625 18.8125 39.015625 \nQ 14.890625 38.140625 10.796875 36.28125 \nz\n\" id=\"DejaVuSans-53\"/>\n      </defs>\n      <g transform=\"translate(74.942731 240.751645)scale(0.1 -0.1)\">\n       <use xlink:href=\"#DejaVuSans-50\"/>\n       <use x=\"63.623047\" xlink:href=\"#DejaVuSans-53\"/>\n       <use x=\"127.246094\" xlink:href=\"#DejaVuSans-48\"/>\n       <use x=\"190.869141\" xlink:href=\"#DejaVuSans-48\"/>\n       <use x=\"254.492188\" xlink:href=\"#DejaVuSans-48\"/>\n      </g>\n     </g>\n    </g>\n    <g id=\"xtick_3\">\n     <g id=\"line2d_3\">\n      <g>\n       <use style=\"stroke:#000000;stroke-width:0.8;\" x=\"133.192281\" xlink:href=\"#mdc27fb8fd5\" y=\"226.153208\"/>\n      </g>\n     </g>\n     <g id=\"text_3\">\n      <!-- 50000 -->\n      <g transform=\"translate(117.286031 240.751645)scale(0.1 -0.1)\">\n       <use xlink:href=\"#DejaVuSans-53\"/>\n       <use x=\"63.623047\" xlink:href=\"#DejaVuSans-48\"/>\n       <use x=\"127.246094\" xlink:href=\"#DejaVuSans-48\"/>\n       <use x=\"190.869141\" xlink:href=\"#DejaVuSans-48\"/>\n       <use x=\"254.492188\" xlink:href=\"#DejaVuSans-48\"/>\n      </g>\n     </g>\n    </g>\n    <g id=\"xtick_4\">\n     <g id=\"line2d_4\">\n      <g>\n       <use style=\"stroke:#000000;stroke-width:0.8;\" x=\"175.53558\" xlink:href=\"#mdc27fb8fd5\" y=\"226.153208\"/>\n      </g>\n     </g>\n     <g id=\"text_4\">\n      <!-- 75000 -->\n      <defs>\n       <path d=\"M 8.203125 72.90625 \nL 55.078125 72.90625 \nL 55.078125 68.703125 \nL 28.609375 0 \nL 18.3125 0 \nL 43.21875 64.59375 \nL 8.203125 64.59375 \nz\n\" id=\"DejaVuSans-55\"/>\n      </defs>\n      <g transform=\"translate(159.62933 240.751645)scale(0.1 -0.1)\">\n       <use xlink:href=\"#DejaVuSans-55\"/>\n       <use x=\"63.623047\" xlink:href=\"#DejaVuSans-53\"/>\n       <use x=\"127.246094\" xlink:href=\"#DejaVuSans-48\"/>\n       <use x=\"190.869141\" xlink:href=\"#DejaVuSans-48\"/>\n       <use x=\"254.492188\" xlink:href=\"#DejaVuSans-48\"/>\n      </g>\n     </g>\n    </g>\n    <g id=\"xtick_5\">\n     <g id=\"line2d_5\">\n      <g>\n       <use style=\"stroke:#000000;stroke-width:0.8;\" x=\"217.87888\" xlink:href=\"#mdc27fb8fd5\" y=\"226.153208\"/>\n      </g>\n     </g>\n     <g id=\"text_5\">\n      <!-- 100000 -->\n      <defs>\n       <path d=\"M 12.40625 8.296875 \nL 28.515625 8.296875 \nL 28.515625 63.921875 \nL 10.984375 60.40625 \nL 10.984375 69.390625 \nL 28.421875 72.90625 \nL 38.28125 72.90625 \nL 38.28125 8.296875 \nL 54.390625 8.296875 \nL 54.390625 0 \nL 12.40625 0 \nz\n\" id=\"DejaVuSans-49\"/>\n      </defs>\n      <g transform=\"translate(198.79138 240.751645)scale(0.1 -0.1)\">\n       <use xlink:href=\"#DejaVuSans-49\"/>\n       <use x=\"63.623047\" xlink:href=\"#DejaVuSans-48\"/>\n       <use x=\"127.246094\" xlink:href=\"#DejaVuSans-48\"/>\n       <use x=\"190.869141\" xlink:href=\"#DejaVuSans-48\"/>\n       <use x=\"254.492188\" xlink:href=\"#DejaVuSans-48\"/>\n       <use x=\"318.115234\" xlink:href=\"#DejaVuSans-48\"/>\n      </g>\n     </g>\n    </g>\n    <g id=\"xtick_6\">\n     <g id=\"line2d_6\">\n      <g>\n       <use style=\"stroke:#000000;stroke-width:0.8;\" x=\"260.222179\" xlink:href=\"#mdc27fb8fd5\" y=\"226.153208\"/>\n      </g>\n     </g>\n     <g id=\"text_6\">\n      <!-- 125000 -->\n      <g transform=\"translate(241.134679 240.751645)scale(0.1 -0.1)\">\n       <use xlink:href=\"#DejaVuSans-49\"/>\n       <use x=\"63.623047\" xlink:href=\"#DejaVuSans-50\"/>\n       <use x=\"127.246094\" xlink:href=\"#DejaVuSans-53\"/>\n       <use x=\"190.869141\" xlink:href=\"#DejaVuSans-48\"/>\n       <use x=\"254.492188\" xlink:href=\"#DejaVuSans-48\"/>\n       <use x=\"318.115234\" xlink:href=\"#DejaVuSans-48\"/>\n      </g>\n     </g>\n    </g>\n    <g id=\"xtick_7\">\n     <g id=\"line2d_7\">\n      <g>\n       <use style=\"stroke:#000000;stroke-width:0.8;\" x=\"302.565478\" xlink:href=\"#mdc27fb8fd5\" y=\"226.153208\"/>\n      </g>\n     </g>\n     <g id=\"text_7\">\n      <!-- 150000 -->\n      <g transform=\"translate(283.477978 240.751645)scale(0.1 -0.1)\">\n       <use xlink:href=\"#DejaVuSans-49\"/>\n       <use x=\"63.623047\" xlink:href=\"#DejaVuSans-53\"/>\n       <use x=\"127.246094\" xlink:href=\"#DejaVuSans-48\"/>\n       <use x=\"190.869141\" xlink:href=\"#DejaVuSans-48\"/>\n       <use x=\"254.492188\" xlink:href=\"#DejaVuSans-48\"/>\n       <use x=\"318.115234\" xlink:href=\"#DejaVuSans-48\"/>\n      </g>\n     </g>\n    </g>\n    <g id=\"xtick_8\">\n     <g id=\"line2d_8\">\n      <g>\n       <use style=\"stroke:#000000;stroke-width:0.8;\" x=\"344.908778\" xlink:href=\"#mdc27fb8fd5\" y=\"226.153208\"/>\n      </g>\n     </g>\n     <g id=\"text_8\">\n      <!-- 175000 -->\n      <g transform=\"translate(325.821278 240.751645)scale(0.1 -0.1)\">\n       <use xlink:href=\"#DejaVuSans-49\"/>\n       <use x=\"63.623047\" xlink:href=\"#DejaVuSans-55\"/>\n       <use x=\"127.246094\" xlink:href=\"#DejaVuSans-53\"/>\n       <use x=\"190.869141\" xlink:href=\"#DejaVuSans-48\"/>\n       <use x=\"254.492188\" xlink:href=\"#DejaVuSans-48\"/>\n       <use x=\"318.115234\" xlink:href=\"#DejaVuSans-48\"/>\n      </g>\n     </g>\n    </g>\n   </g>\n   <g id=\"matplotlib.axis_2\">\n    <g id=\"ytick_1\">\n     <g id=\"line2d_9\">\n      <defs>\n       <path d=\"M 0 0 \nL -3.5 0 \n\" id=\"maee0e96400\" style=\"stroke:#000000;stroke-width:0.8;\"/>\n      </defs>\n      <g>\n       <use style=\"stroke:#000000;stroke-width:0.8;\" x=\"33.2875\" xlink:href=\"#maee0e96400\" y=\"226.153208\"/>\n      </g>\n     </g>\n     <g id=\"text_9\">\n      <!-- 0 -->\n      <g transform=\"translate(19.925 229.952426)scale(0.1 -0.1)\">\n       <use xlink:href=\"#DejaVuSans-48\"/>\n      </g>\n     </g>\n    </g>\n    <g id=\"ytick_2\">\n     <g id=\"line2d_10\">\n      <g>\n       <use style=\"stroke:#000000;stroke-width:0.8;\" x=\"33.2875\" xlink:href=\"#maee0e96400\" y=\"199.258959\"/>\n      </g>\n     </g>\n     <g id=\"text_10\">\n      <!-- 20 -->\n      <g transform=\"translate(13.5625 203.058178)scale(0.1 -0.1)\">\n       <use xlink:href=\"#DejaVuSans-50\"/>\n       <use x=\"63.623047\" xlink:href=\"#DejaVuSans-48\"/>\n      </g>\n     </g>\n    </g>\n    <g id=\"ytick_3\">\n     <g id=\"line2d_11\">\n      <g>\n       <use style=\"stroke:#000000;stroke-width:0.8;\" x=\"33.2875\" xlink:href=\"#maee0e96400\" y=\"172.36471\"/>\n      </g>\n     </g>\n     <g id=\"text_11\">\n      <!-- 40 -->\n      <defs>\n       <path d=\"M 37.796875 64.3125 \nL 12.890625 25.390625 \nL 37.796875 25.390625 \nz\nM 35.203125 72.90625 \nL 47.609375 72.90625 \nL 47.609375 25.390625 \nL 58.015625 25.390625 \nL 58.015625 17.1875 \nL 47.609375 17.1875 \nL 47.609375 0 \nL 37.796875 0 \nL 37.796875 17.1875 \nL 4.890625 17.1875 \nL 4.890625 26.703125 \nz\n\" id=\"DejaVuSans-52\"/>\n      </defs>\n      <g transform=\"translate(13.5625 176.163929)scale(0.1 -0.1)\">\n       <use xlink:href=\"#DejaVuSans-52\"/>\n       <use x=\"63.623047\" xlink:href=\"#DejaVuSans-48\"/>\n      </g>\n     </g>\n    </g>\n    <g id=\"ytick_4\">\n     <g id=\"line2d_12\">\n      <g>\n       <use style=\"stroke:#000000;stroke-width:0.8;\" x=\"33.2875\" xlink:href=\"#maee0e96400\" y=\"145.470462\"/>\n      </g>\n     </g>\n     <g id=\"text_12\">\n      <!-- 60 -->\n      <defs>\n       <path d=\"M 33.015625 40.375 \nQ 26.375 40.375 22.484375 35.828125 \nQ 18.609375 31.296875 18.609375 23.390625 \nQ 18.609375 15.53125 22.484375 10.953125 \nQ 26.375 6.390625 33.015625 6.390625 \nQ 39.65625 6.390625 43.53125 10.953125 \nQ 47.40625 15.53125 47.40625 23.390625 \nQ 47.40625 31.296875 43.53125 35.828125 \nQ 39.65625 40.375 33.015625 40.375 \nz\nM 52.59375 71.296875 \nL 52.59375 62.3125 \nQ 48.875 64.0625 45.09375 64.984375 \nQ 41.3125 65.921875 37.59375 65.921875 \nQ 27.828125 65.921875 22.671875 59.328125 \nQ 17.53125 52.734375 16.796875 39.40625 \nQ 19.671875 43.65625 24.015625 45.921875 \nQ 28.375 48.1875 33.59375 48.1875 \nQ 44.578125 48.1875 50.953125 41.515625 \nQ 57.328125 34.859375 57.328125 23.390625 \nQ 57.328125 12.15625 50.6875 5.359375 \nQ 44.046875 -1.421875 33.015625 -1.421875 \nQ 20.359375 -1.421875 13.671875 8.265625 \nQ 6.984375 17.96875 6.984375 36.375 \nQ 6.984375 53.65625 15.1875 63.9375 \nQ 23.390625 74.21875 37.203125 74.21875 \nQ 40.921875 74.21875 44.703125 73.484375 \nQ 48.484375 72.75 52.59375 71.296875 \nz\n\" id=\"DejaVuSans-54\"/>\n      </defs>\n      <g transform=\"translate(13.5625 149.269681)scale(0.1 -0.1)\">\n       <use xlink:href=\"#DejaVuSans-54\"/>\n       <use x=\"63.623047\" xlink:href=\"#DejaVuSans-48\"/>\n      </g>\n     </g>\n    </g>\n    <g id=\"ytick_5\">\n     <g id=\"line2d_13\">\n      <g>\n       <use style=\"stroke:#000000;stroke-width:0.8;\" x=\"33.2875\" xlink:href=\"#maee0e96400\" y=\"118.576213\"/>\n      </g>\n     </g>\n     <g id=\"text_13\">\n      <!-- 80 -->\n      <defs>\n       <path d=\"M 31.78125 34.625 \nQ 24.75 34.625 20.71875 30.859375 \nQ 16.703125 27.09375 16.703125 20.515625 \nQ 16.703125 13.921875 20.71875 10.15625 \nQ 24.75 6.390625 31.78125 6.390625 \nQ 38.8125 6.390625 42.859375 10.171875 \nQ 46.921875 13.96875 46.921875 20.515625 \nQ 46.921875 27.09375 42.890625 30.859375 \nQ 38.875 34.625 31.78125 34.625 \nz\nM 21.921875 38.8125 \nQ 15.578125 40.375 12.03125 44.71875 \nQ 8.5 49.078125 8.5 55.328125 \nQ 8.5 64.0625 14.71875 69.140625 \nQ 20.953125 74.21875 31.78125 74.21875 \nQ 42.671875 74.21875 48.875 69.140625 \nQ 55.078125 64.0625 55.078125 55.328125 \nQ 55.078125 49.078125 51.53125 44.71875 \nQ 48 40.375 41.703125 38.8125 \nQ 48.828125 37.15625 52.796875 32.3125 \nQ 56.78125 27.484375 56.78125 20.515625 \nQ 56.78125 9.90625 50.3125 4.234375 \nQ 43.84375 -1.421875 31.78125 -1.421875 \nQ 19.734375 -1.421875 13.25 4.234375 \nQ 6.78125 9.90625 6.78125 20.515625 \nQ 6.78125 27.484375 10.78125 32.3125 \nQ 14.796875 37.15625 21.921875 38.8125 \nz\nM 18.3125 54.390625 \nQ 18.3125 48.734375 21.84375 45.5625 \nQ 25.390625 42.390625 31.78125 42.390625 \nQ 38.140625 42.390625 41.71875 45.5625 \nQ 45.3125 48.734375 45.3125 54.390625 \nQ 45.3125 60.0625 41.71875 63.234375 \nQ 38.140625 66.40625 31.78125 66.40625 \nQ 25.390625 66.40625 21.84375 63.234375 \nQ 18.3125 60.0625 18.3125 54.390625 \nz\n\" id=\"DejaVuSans-56\"/>\n      </defs>\n      <g transform=\"translate(13.5625 122.375432)scale(0.1 -0.1)\">\n       <use xlink:href=\"#DejaVuSans-56\"/>\n       <use x=\"63.623047\" xlink:href=\"#DejaVuSans-48\"/>\n      </g>\n     </g>\n    </g>\n    <g id=\"ytick_6\">\n     <g id=\"line2d_14\">\n      <g>\n       <use style=\"stroke:#000000;stroke-width:0.8;\" x=\"33.2875\" xlink:href=\"#maee0e96400\" y=\"91.681965\"/>\n      </g>\n     </g>\n     <g id=\"text_14\">\n      <!-- 100 -->\n      <g transform=\"translate(7.2 95.481183)scale(0.1 -0.1)\">\n       <use xlink:href=\"#DejaVuSans-49\"/>\n       <use x=\"63.623047\" xlink:href=\"#DejaVuSans-48\"/>\n       <use x=\"127.246094\" xlink:href=\"#DejaVuSans-48\"/>\n      </g>\n     </g>\n    </g>\n    <g id=\"ytick_7\">\n     <g id=\"line2d_15\">\n      <g>\n       <use style=\"stroke:#000000;stroke-width:0.8;\" x=\"33.2875\" xlink:href=\"#maee0e96400\" y=\"64.787716\"/>\n      </g>\n     </g>\n     <g id=\"text_15\">\n      <!-- 120 -->\n      <g transform=\"translate(7.2 68.586935)scale(0.1 -0.1)\">\n       <use xlink:href=\"#DejaVuSans-49\"/>\n       <use x=\"63.623047\" xlink:href=\"#DejaVuSans-50\"/>\n       <use x=\"127.246094\" xlink:href=\"#DejaVuSans-48\"/>\n      </g>\n     </g>\n    </g>\n    <g id=\"ytick_8\">\n     <g id=\"line2d_16\">\n      <g>\n       <use style=\"stroke:#000000;stroke-width:0.8;\" x=\"33.2875\" xlink:href=\"#maee0e96400\" y=\"37.893467\"/>\n      </g>\n     </g>\n     <g id=\"text_16\">\n      <!-- 140 -->\n      <g transform=\"translate(7.2 41.692686)scale(0.1 -0.1)\">\n       <use xlink:href=\"#DejaVuSans-49\"/>\n       <use x=\"63.623047\" xlink:href=\"#DejaVuSans-52\"/>\n       <use x=\"127.246094\" xlink:href=\"#DejaVuSans-48\"/>\n      </g>\n     </g>\n    </g>\n    <g id=\"ytick_9\">\n     <g id=\"line2d_17\">\n      <g>\n       <use style=\"stroke:#000000;stroke-width:0.8;\" x=\"33.2875\" xlink:href=\"#maee0e96400\" y=\"10.999219\"/>\n      </g>\n     </g>\n     <g id=\"text_17\">\n      <!-- 160 -->\n      <g transform=\"translate(7.2 14.798437)scale(0.1 -0.1)\">\n       <use xlink:href=\"#DejaVuSans-49\"/>\n       <use x=\"63.623047\" xlink:href=\"#DejaVuSans-54\"/>\n       <use x=\"127.246094\" xlink:href=\"#DejaVuSans-48\"/>\n      </g>\n     </g>\n    </g>\n   </g>\n   <g id=\"line2d_18\">\n    <path clip-path=\"url(#pca1ed79760)\" d=\"M 188.613455 226.153208 \nL 188.613455 8.713208 \n\" style=\"fill:none;stroke:#008000;stroke-linecap:square;stroke-width:1.5;\"/>\n   </g>\n   <g id=\"line2d_19\">\n    <path clip-path=\"url(#pca1ed79760)\" d=\"M 160.800112 226.153208 \nL 160.800112 8.713208 \n\" style=\"fill:none;stroke:#ff0000;stroke-linecap:square;stroke-width:1.5;\"/>\n   </g>\n   <g id=\"patch_13\">\n    <path d=\"M 33.2875 226.153208 \nL 33.2875 8.713208 \n\" style=\"fill:none;stroke:#000000;stroke-linecap:square;stroke-linejoin:miter;stroke-width:0.8;\"/>\n   </g>\n   <g id=\"patch_14\">\n    <path d=\"M 368.0875 226.153208 \nL 368.0875 8.713208 \n\" style=\"fill:none;stroke:#000000;stroke-linecap:square;stroke-linejoin:miter;stroke-width:0.8;\"/>\n   </g>\n   <g id=\"patch_15\">\n    <path d=\"M 33.2875 226.153208 \nL 368.0875 226.153208 \n\" style=\"fill:none;stroke:#000000;stroke-linecap:square;stroke-linejoin:miter;stroke-width:0.8;\"/>\n   </g>\n   <g id=\"patch_16\">\n    <path d=\"M 33.2875 8.713208 \nL 368.0875 8.713208 \n\" style=\"fill:none;stroke:#000000;stroke-linecap:square;stroke-linejoin:miter;stroke-width:0.8;\"/>\n   </g>\n  </g>\n </g>\n <defs>\n  <clipPath id=\"pca1ed79760\">\n   <rect height=\"217.44\" width=\"334.8\" x=\"33.2875\" y=\"8.713208\"/>\n  </clipPath>\n </defs>\n</svg>\n",
      "text/plain": "<Figure size 432x288 with 1 Axes>"
     },
     "metadata": {
      "needs_background": "light"
     },
     "output_type": "display_data"
    }
   ],
   "source": [
    "plt.hist(df_copy.annual_salary);\n",
    "plt.axvline(x= df_copy.annual_salary.mean(),color='green')\n",
    "plt.axvline(x= df_copy.annual_salary.median(),color = 'red')\n"
   ]
  },
  {
   "cell_type": "code",
   "execution_count": 42,
   "metadata": {},
   "outputs": [
    {
     "name": "stderr",
     "output_type": "stream",
     "text": "/Library/Frameworks/Python.framework/Versions/3.7/lib/python3.7/site-packages/ipykernel_launcher.py:1: RuntimeWarning: divide by zero encountered in log\n  \"\"\"Entry point for launching an IPython kernel.\n"
    },
    {
     "ename": "ValueError",
     "evalue": "supplied range of [-inf, 12.099044072771651] is not finite",
     "output_type": "error",
     "traceback": [
      "\u001b[0;31m---------------------------------------------------------------------------\u001b[0m",
      "\u001b[0;31mValueError\u001b[0m                                Traceback (most recent call last)",
      "\u001b[0;32m<ipython-input-42-c385566bd28e>\u001b[0m in \u001b[0;36m<module>\u001b[0;34m\u001b[0m\n\u001b[0;32m----> 1\u001b[0;31m \u001b[0mplt\u001b[0m\u001b[0;34m.\u001b[0m\u001b[0mhist\u001b[0m\u001b[0;34m(\u001b[0m\u001b[0mnp\u001b[0m\u001b[0;34m.\u001b[0m\u001b[0mlog\u001b[0m\u001b[0;34m(\u001b[0m\u001b[0mdf_copy\u001b[0m\u001b[0;34m.\u001b[0m\u001b[0mannual_salary\u001b[0m\u001b[0;34m)\u001b[0m\u001b[0;34m)\u001b[0m\u001b[0;34m;\u001b[0m\u001b[0;34m\u001b[0m\u001b[0;34m\u001b[0m\u001b[0m\n\u001b[0m",
      "\u001b[0;32m/Library/Frameworks/Python.framework/Versions/3.7/lib/python3.7/site-packages/matplotlib/pyplot.py\u001b[0m in \u001b[0;36mhist\u001b[0;34m(x, bins, range, density, weights, cumulative, bottom, histtype, align, orientation, rwidth, log, color, label, stacked, normed, data, **kwargs)\u001b[0m\n\u001b[1;32m   2640\u001b[0m         \u001b[0malign\u001b[0m\u001b[0;34m=\u001b[0m\u001b[0malign\u001b[0m\u001b[0;34m,\u001b[0m \u001b[0morientation\u001b[0m\u001b[0;34m=\u001b[0m\u001b[0morientation\u001b[0m\u001b[0;34m,\u001b[0m \u001b[0mrwidth\u001b[0m\u001b[0;34m=\u001b[0m\u001b[0mrwidth\u001b[0m\u001b[0;34m,\u001b[0m \u001b[0mlog\u001b[0m\u001b[0;34m=\u001b[0m\u001b[0mlog\u001b[0m\u001b[0;34m,\u001b[0m\u001b[0;34m\u001b[0m\u001b[0;34m\u001b[0m\u001b[0m\n\u001b[1;32m   2641\u001b[0m         \u001b[0mcolor\u001b[0m\u001b[0;34m=\u001b[0m\u001b[0mcolor\u001b[0m\u001b[0;34m,\u001b[0m \u001b[0mlabel\u001b[0m\u001b[0;34m=\u001b[0m\u001b[0mlabel\u001b[0m\u001b[0;34m,\u001b[0m \u001b[0mstacked\u001b[0m\u001b[0;34m=\u001b[0m\u001b[0mstacked\u001b[0m\u001b[0;34m,\u001b[0m \u001b[0mnormed\u001b[0m\u001b[0;34m=\u001b[0m\u001b[0mnormed\u001b[0m\u001b[0;34m,\u001b[0m\u001b[0;34m\u001b[0m\u001b[0;34m\u001b[0m\u001b[0m\n\u001b[0;32m-> 2642\u001b[0;31m         **({\"data\": data} if data is not None else {}), **kwargs)\n\u001b[0m\u001b[1;32m   2643\u001b[0m \u001b[0;34m\u001b[0m\u001b[0m\n\u001b[1;32m   2644\u001b[0m \u001b[0;34m\u001b[0m\u001b[0m\n",
      "\u001b[0;32m/Library/Frameworks/Python.framework/Versions/3.7/lib/python3.7/site-packages/matplotlib/__init__.py\u001b[0m in \u001b[0;36minner\u001b[0;34m(ax, data, *args, **kwargs)\u001b[0m\n\u001b[1;32m   1599\u001b[0m     \u001b[0;32mdef\u001b[0m \u001b[0minner\u001b[0m\u001b[0;34m(\u001b[0m\u001b[0max\u001b[0m\u001b[0;34m,\u001b[0m \u001b[0;34m*\u001b[0m\u001b[0margs\u001b[0m\u001b[0;34m,\u001b[0m \u001b[0mdata\u001b[0m\u001b[0;34m=\u001b[0m\u001b[0;32mNone\u001b[0m\u001b[0;34m,\u001b[0m \u001b[0;34m**\u001b[0m\u001b[0mkwargs\u001b[0m\u001b[0;34m)\u001b[0m\u001b[0;34m:\u001b[0m\u001b[0;34m\u001b[0m\u001b[0;34m\u001b[0m\u001b[0m\n\u001b[1;32m   1600\u001b[0m         \u001b[0;32mif\u001b[0m \u001b[0mdata\u001b[0m \u001b[0;32mis\u001b[0m \u001b[0;32mNone\u001b[0m\u001b[0;34m:\u001b[0m\u001b[0;34m\u001b[0m\u001b[0;34m\u001b[0m\u001b[0m\n\u001b[0;32m-> 1601\u001b[0;31m             \u001b[0;32mreturn\u001b[0m \u001b[0mfunc\u001b[0m\u001b[0;34m(\u001b[0m\u001b[0max\u001b[0m\u001b[0;34m,\u001b[0m \u001b[0;34m*\u001b[0m\u001b[0mmap\u001b[0m\u001b[0;34m(\u001b[0m\u001b[0msanitize_sequence\u001b[0m\u001b[0;34m,\u001b[0m \u001b[0margs\u001b[0m\u001b[0;34m)\u001b[0m\u001b[0;34m,\u001b[0m \u001b[0;34m**\u001b[0m\u001b[0mkwargs\u001b[0m\u001b[0;34m)\u001b[0m\u001b[0;34m\u001b[0m\u001b[0;34m\u001b[0m\u001b[0m\n\u001b[0m\u001b[1;32m   1602\u001b[0m \u001b[0;34m\u001b[0m\u001b[0m\n\u001b[1;32m   1603\u001b[0m         \u001b[0mbound\u001b[0m \u001b[0;34m=\u001b[0m \u001b[0mnew_sig\u001b[0m\u001b[0;34m.\u001b[0m\u001b[0mbind\u001b[0m\u001b[0;34m(\u001b[0m\u001b[0max\u001b[0m\u001b[0;34m,\u001b[0m \u001b[0;34m*\u001b[0m\u001b[0margs\u001b[0m\u001b[0;34m,\u001b[0m \u001b[0;34m**\u001b[0m\u001b[0mkwargs\u001b[0m\u001b[0;34m)\u001b[0m\u001b[0;34m\u001b[0m\u001b[0;34m\u001b[0m\u001b[0m\n",
      "\u001b[0;32m/Library/Frameworks/Python.framework/Versions/3.7/lib/python3.7/site-packages/matplotlib/axes/_axes.py\u001b[0m in \u001b[0;36mhist\u001b[0;34m(self, x, bins, range, density, weights, cumulative, bottom, histtype, align, orientation, rwidth, log, color, label, stacked, normed, **kwargs)\u001b[0m\n\u001b[1;32m   6765\u001b[0m             \u001b[0;31m# this will automatically overwrite bins,\u001b[0m\u001b[0;34m\u001b[0m\u001b[0;34m\u001b[0m\u001b[0;34m\u001b[0m\u001b[0m\n\u001b[1;32m   6766\u001b[0m             \u001b[0;31m# so that each histogram uses the same bins\u001b[0m\u001b[0;34m\u001b[0m\u001b[0;34m\u001b[0m\u001b[0;34m\u001b[0m\u001b[0m\n\u001b[0;32m-> 6767\u001b[0;31m             \u001b[0mm\u001b[0m\u001b[0;34m,\u001b[0m \u001b[0mbins\u001b[0m \u001b[0;34m=\u001b[0m \u001b[0mnp\u001b[0m\u001b[0;34m.\u001b[0m\u001b[0mhistogram\u001b[0m\u001b[0;34m(\u001b[0m\u001b[0mx\u001b[0m\u001b[0;34m[\u001b[0m\u001b[0mi\u001b[0m\u001b[0;34m]\u001b[0m\u001b[0;34m,\u001b[0m \u001b[0mbins\u001b[0m\u001b[0;34m,\u001b[0m \u001b[0mweights\u001b[0m\u001b[0;34m=\u001b[0m\u001b[0mw\u001b[0m\u001b[0;34m[\u001b[0m\u001b[0mi\u001b[0m\u001b[0;34m]\u001b[0m\u001b[0;34m,\u001b[0m \u001b[0;34m**\u001b[0m\u001b[0mhist_kwargs\u001b[0m\u001b[0;34m)\u001b[0m\u001b[0;34m\u001b[0m\u001b[0;34m\u001b[0m\u001b[0m\n\u001b[0m\u001b[1;32m   6768\u001b[0m             \u001b[0mm\u001b[0m \u001b[0;34m=\u001b[0m \u001b[0mm\u001b[0m\u001b[0;34m.\u001b[0m\u001b[0mastype\u001b[0m\u001b[0;34m(\u001b[0m\u001b[0mfloat\u001b[0m\u001b[0;34m)\u001b[0m  \u001b[0;31m# causes problems later if it's an int\u001b[0m\u001b[0;34m\u001b[0m\u001b[0;34m\u001b[0m\u001b[0m\n\u001b[1;32m   6769\u001b[0m             \u001b[0;32mif\u001b[0m \u001b[0mmlast\u001b[0m \u001b[0;32mis\u001b[0m \u001b[0;32mNone\u001b[0m\u001b[0;34m:\u001b[0m\u001b[0;34m\u001b[0m\u001b[0;34m\u001b[0m\u001b[0m\n",
      "\u001b[0;32m/Library/Frameworks/Python.framework/Versions/3.7/lib/python3.7/site-packages/numpy/lib/histograms.py\u001b[0m in \u001b[0;36mhistogram\u001b[0;34m(a, bins, range, normed, weights, density)\u001b[0m\n\u001b[1;32m    778\u001b[0m     \u001b[0ma\u001b[0m\u001b[0;34m,\u001b[0m \u001b[0mweights\u001b[0m \u001b[0;34m=\u001b[0m \u001b[0m_ravel_and_check_weights\u001b[0m\u001b[0;34m(\u001b[0m\u001b[0ma\u001b[0m\u001b[0;34m,\u001b[0m \u001b[0mweights\u001b[0m\u001b[0;34m)\u001b[0m\u001b[0;34m\u001b[0m\u001b[0;34m\u001b[0m\u001b[0m\n\u001b[1;32m    779\u001b[0m \u001b[0;34m\u001b[0m\u001b[0m\n\u001b[0;32m--> 780\u001b[0;31m     \u001b[0mbin_edges\u001b[0m\u001b[0;34m,\u001b[0m \u001b[0muniform_bins\u001b[0m \u001b[0;34m=\u001b[0m \u001b[0m_get_bin_edges\u001b[0m\u001b[0;34m(\u001b[0m\u001b[0ma\u001b[0m\u001b[0;34m,\u001b[0m \u001b[0mbins\u001b[0m\u001b[0;34m,\u001b[0m \u001b[0mrange\u001b[0m\u001b[0;34m,\u001b[0m \u001b[0mweights\u001b[0m\u001b[0;34m)\u001b[0m\u001b[0;34m\u001b[0m\u001b[0;34m\u001b[0m\u001b[0m\n\u001b[0m\u001b[1;32m    781\u001b[0m \u001b[0;34m\u001b[0m\u001b[0m\n\u001b[1;32m    782\u001b[0m     \u001b[0;31m# Histogram is an integer or a float array depending on the weights.\u001b[0m\u001b[0;34m\u001b[0m\u001b[0;34m\u001b[0m\u001b[0;34m\u001b[0m\u001b[0m\n",
      "\u001b[0;32m/Library/Frameworks/Python.framework/Versions/3.7/lib/python3.7/site-packages/numpy/lib/histograms.py\u001b[0m in \u001b[0;36m_get_bin_edges\u001b[0;34m(a, bins, range, weights)\u001b[0m\n\u001b[1;32m    415\u001b[0m             \u001b[0;32mraise\u001b[0m \u001b[0mValueError\u001b[0m\u001b[0;34m(\u001b[0m\u001b[0;34m'`bins` must be positive, when an integer'\u001b[0m\u001b[0;34m)\u001b[0m\u001b[0;34m\u001b[0m\u001b[0;34m\u001b[0m\u001b[0m\n\u001b[1;32m    416\u001b[0m \u001b[0;34m\u001b[0m\u001b[0m\n\u001b[0;32m--> 417\u001b[0;31m         \u001b[0mfirst_edge\u001b[0m\u001b[0;34m,\u001b[0m \u001b[0mlast_edge\u001b[0m \u001b[0;34m=\u001b[0m \u001b[0m_get_outer_edges\u001b[0m\u001b[0;34m(\u001b[0m\u001b[0ma\u001b[0m\u001b[0;34m,\u001b[0m \u001b[0mrange\u001b[0m\u001b[0;34m)\u001b[0m\u001b[0;34m\u001b[0m\u001b[0;34m\u001b[0m\u001b[0m\n\u001b[0m\u001b[1;32m    418\u001b[0m \u001b[0;34m\u001b[0m\u001b[0m\n\u001b[1;32m    419\u001b[0m     \u001b[0;32melif\u001b[0m \u001b[0mnp\u001b[0m\u001b[0;34m.\u001b[0m\u001b[0mndim\u001b[0m\u001b[0;34m(\u001b[0m\u001b[0mbins\u001b[0m\u001b[0;34m)\u001b[0m \u001b[0;34m==\u001b[0m \u001b[0;36m1\u001b[0m\u001b[0;34m:\u001b[0m\u001b[0;34m\u001b[0m\u001b[0;34m\u001b[0m\u001b[0m\n",
      "\u001b[0;32m/Library/Frameworks/Python.framework/Versions/3.7/lib/python3.7/site-packages/numpy/lib/histograms.py\u001b[0m in \u001b[0;36m_get_outer_edges\u001b[0;34m(a, range)\u001b[0m\n\u001b[1;32m    305\u001b[0m         \u001b[0;32mif\u001b[0m \u001b[0;32mnot\u001b[0m \u001b[0;34m(\u001b[0m\u001b[0mnp\u001b[0m\u001b[0;34m.\u001b[0m\u001b[0misfinite\u001b[0m\u001b[0;34m(\u001b[0m\u001b[0mfirst_edge\u001b[0m\u001b[0;34m)\u001b[0m \u001b[0;32mand\u001b[0m \u001b[0mnp\u001b[0m\u001b[0;34m.\u001b[0m\u001b[0misfinite\u001b[0m\u001b[0;34m(\u001b[0m\u001b[0mlast_edge\u001b[0m\u001b[0;34m)\u001b[0m\u001b[0;34m)\u001b[0m\u001b[0;34m:\u001b[0m\u001b[0;34m\u001b[0m\u001b[0;34m\u001b[0m\u001b[0m\n\u001b[1;32m    306\u001b[0m             raise ValueError(\n\u001b[0;32m--> 307\u001b[0;31m                 \"supplied range of [{}, {}] is not finite\".format(first_edge, last_edge))\n\u001b[0m\u001b[1;32m    308\u001b[0m     \u001b[0;32melif\u001b[0m \u001b[0ma\u001b[0m\u001b[0;34m.\u001b[0m\u001b[0msize\u001b[0m \u001b[0;34m==\u001b[0m \u001b[0;36m0\u001b[0m\u001b[0;34m:\u001b[0m\u001b[0;34m\u001b[0m\u001b[0;34m\u001b[0m\u001b[0m\n\u001b[1;32m    309\u001b[0m         \u001b[0;31m# handle empty arrays. Can't determine range, so use 0-1.\u001b[0m\u001b[0;34m\u001b[0m\u001b[0;34m\u001b[0m\u001b[0;34m\u001b[0m\u001b[0m\n",
      "\u001b[0;31mValueError\u001b[0m: supplied range of [-inf, 12.099044072771651] is not finite"
     ]
    }
   ],
   "source": []
  },
  {
   "cell_type": "code",
   "execution_count": null,
   "metadata": {},
   "outputs": [],
   "source": []
  }
 ]
}